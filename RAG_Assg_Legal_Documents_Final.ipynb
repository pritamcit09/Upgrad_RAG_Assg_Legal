{
 "cells": [
  {
   "cell_type": "markdown",
   "id": "lf5lYawIw8tE",
   "metadata": {
    "id": "lf5lYawIw8tE"
   },
   "source": [
    "# **Extracting Information from Legal Documents Using RAG**"
   ]
  },
  {
   "cell_type": "markdown",
   "id": "NY1InIbkw80B",
   "metadata": {
    "id": "NY1InIbkw80B"
   },
   "source": [
    "## **Objective**"
   ]
  },
  {
   "cell_type": "markdown",
   "id": "3403a4b5",
   "metadata": {
    "id": "3403a4b5"
   },
   "source": [
    "The main objective of this assignment is to process and analyse a collection text files containing legal agreements (e.g., NDAs) to prepare them for implementing a **Retrieval-Augmented Generation (RAG)** system. This involves:\n",
    "\n",
    "* Understand the Cleaned Data : Gain a comprehensive understanding of the structure, content, and context of the cleaned dataset.\n",
    "* Perform Exploratory Analysis : Conduct bivariate and multivariate analyses to uncover relationships and trends within the cleaned data.\n",
    "* Create Visualisations : Develop meaningful visualisations to support the analysis and make findings interpretable.\n",
    "* Derive Insights and Conclusions : Extract valuable insights from the cleaned data and provide clear, actionable conclusions.\n",
    "* Document the Process : Provide a detailed description of the data, its attributes, and the steps taken during the analysis for reproducibility and clarity.\n",
    "\n",
    "The ultimate goal is to transform the raw text data into a clean, structured, and analysable format that can be effectively used to build and train a RAG system for tasks like information retrieval, question-answering, and knowledge extraction related to legal agreements."
   ]
  },
  {
   "cell_type": "markdown",
   "id": "3TTEcbb5hIM-",
   "metadata": {
    "id": "3TTEcbb5hIM-"
   },
   "source": [
    "### **Business Value**  \n"
   ]
  },
  {
   "cell_type": "markdown",
   "id": "ZsfkEL2CgljF",
   "metadata": {
    "id": "ZsfkEL2CgljF"
   },
   "source": [
    "The project aims to leverage RAG to enhance legal document processing for businesses, law firms, and regulatory bodies. The key business objectives include:\n",
    "\n",
    "* Faster Legal Research: <br> Reduce the time lawyers and compliance officers spend searching for relevant case laws, precedents, statutes, or contract clauses.\n",
    "* Improved Contract Analysis: <br> Automatically extract key terms, obligations, and risks from lengthy contracts.\n",
    "* Regulatory Compliance Monitoring: <br> Help businesses stay updated with legal and regulatory changes by retrieving relevant legal updates.\n",
    "* Enhanced Decision-Making: <br> Provide accurate and context-aware legal insights to assist in risk assessment and legal strategy.\n",
    "\n",
    "\n",
    "**Use Cases**\n",
    "* Legal Chatbots\n",
    "* Contract Review Automation\n",
    "* Tracking Regulatory Changes and Compliance Monitoring\n",
    "* Case Law Analysis of past judgments\n",
    "* Due Diligence & Risk Assessment"
   ]
  },
  {
   "cell_type": "markdown",
   "id": "rDp_EWxVOhUu",
   "metadata": {
    "id": "rDp_EWxVOhUu"
   },
   "source": [
    "## **1. Data Loading, Preparation and Analysis** <font color=red> [20 marks] </font><br>"
   ]
  },
  {
   "cell_type": "markdown",
   "id": "JZGTCfyUxalZ",
   "metadata": {
    "id": "JZGTCfyUxalZ"
   },
   "source": [
    "### **1.1 Data Understanding**"
   ]
  },
  {
   "cell_type": "markdown",
   "id": "ok6sSYNAiG8V",
   "metadata": {
    "id": "ok6sSYNAiG8V"
   },
   "source": [
    "The dataset contains legal documents and contracts collected from various sources. The documents are present as text files (`.txt`) in the *corpus* folder.\n",
    "\n",
    "There are four types of documents in the *courpus* folder, divided into four subfolders.\n",
    "- `contractnli`: contains various non-disclosure and confidentiality agreements\n",
    "- `cuad`: contains contracts with annotated legal clauses\n",
    "- `maud`: contains various merger/acquisition contracts and agreements\n",
    "- `privacy_qa`: a question-answering dataset containing privacy policies\n",
    "\n",
    "The dataset also contains evaluation files in JSON format in the *benchmark* folder. The files contain the questions and their answers, along with sources. For each of the above four folders, there is a `json` file: `contractnli.json`, `cuad.json`, `maud.json` `privacy_qa.json`. The file structure is as follows:\n",
    "\n",
    "```\n",
    "{\n",
    "    \"tests\": [\n",
    "        {\n",
    "            \"query\": <question1>,\n",
    "            \"snippets\": [{\n",
    "                    \"file_path\": <source_file1>,\n",
    "                    \"span\": [ begin_position, end_position ],\n",
    "                    \"answer\": <relevant answer to the question 1>\n",
    "                },\n",
    "                {\n",
    "                    \"file_path\": <source_file2>,\n",
    "                    \"span\": [ begin_position, end_position ],\n",
    "                    \"answer\": <relevant answer to the question 2>\n",
    "                }, ....\n",
    "            ]\n",
    "        },\n",
    "        {\n",
    "            \"query\": <question2>,\n",
    "            \"snippets\": [{<answer context for que 2>}]\n",
    "        },\n",
    "        ... <more queries>\n",
    "    ]\n",
    "}\n",
    "```"
   ]
  },
  {
   "cell_type": "markdown",
   "id": "S7Ac8VxvjWnw",
   "metadata": {
    "id": "S7Ac8VxvjWnw"
   },
   "source": [
    "### **1.2 Load and Preprocess the data** <font color=red> [5 marks] </font><br>"
   ]
  },
  {
   "cell_type": "code",
   "execution_count": 1,
   "id": "26e83c5f-afe9-43fa-aa4e-b9ea2247d84e",
   "metadata": {},
   "outputs": [],
   "source": [
    "import warnings\n",
    "\n",
    "# Suppress all warnings\n",
    "warnings.filterwarnings('ignore')"
   ]
  },
  {
   "cell_type": "markdown",
   "id": "gJ8fA4Nh3fHg",
   "metadata": {
    "id": "gJ8fA4Nh3fHg"
   },
   "source": [
    "#### Loading libraries"
   ]
  },
  {
   "cell_type": "code",
   "execution_count": 2,
   "id": "1b1d1fe4-244d-4f8f-b550-ee96608e9a40",
   "metadata": {},
   "outputs": [
    {
     "name": "stdout",
     "output_type": "stream",
     "text": [
      "Requirement already satisfied: numpy<2.0 in c:\\users\\prita\\appdata\\local\\packages\\pythonsoftwarefoundation.python.3.9_qbz5n2kfra8p0\\localcache\\local-packages\\python39\\site-packages (1.26.4)\n"
     ]
    }
   ],
   "source": [
    "!pip install \"numpy<2.0\"\n"
   ]
  },
  {
   "cell_type": "code",
   "execution_count": 3,
   "id": "BqyFHhSn48tC",
   "metadata": {
    "id": "BqyFHhSn48tC"
   },
   "outputs": [
    {
     "name": "stdout",
     "output_type": "stream",
     "text": [
      "Requirement already satisfied: faiss-cpu in c:\\users\\prita\\appdata\\local\\packages\\pythonsoftwarefoundation.python.3.9_qbz5n2kfra8p0\\localcache\\local-packages\\python39\\site-packages (1.11.0)\n",
      "Requirement already satisfied: numpy<3.0,>=1.25.0 in c:\\users\\prita\\appdata\\local\\packages\\pythonsoftwarefoundation.python.3.9_qbz5n2kfra8p0\\localcache\\local-packages\\python39\\site-packages (from faiss-cpu) (1.26.4)\n",
      "Requirement already satisfied: packaging in c:\\users\\prita\\appdata\\local\\packages\\pythonsoftwarefoundation.python.3.9_qbz5n2kfra8p0\\localcache\\local-packages\\python39\\site-packages (from faiss-cpu) (24.2)\n"
     ]
    }
   ],
   "source": [
    "## The following libraries might be useful\n",
    "!pip install -q langchain-openai\n",
    "!pip install -U -q langchain-community\n",
    "!pip install -U -q langchain-chroma\n",
    "!pip install -U -q datasets\n",
    "!pip install -U -q ragas\n",
    "!pip install -U -q rouge_score\n",
    "!pip install -U -q langchain\n",
    "!pip install  -U -q onnxruntime\n",
    "!pip install faiss-cpu"
   ]
  },
  {
   "cell_type": "code",
   "execution_count": 4,
   "id": "f2db4859-a32a-4410-8b53-3520c0f9d835",
   "metadata": {},
   "outputs": [],
   "source": [
    "# Import essential libraries\n",
    "import os\n",
    "import openai\n",
    "from langchain_openai import ChatOpenAI, OpenAI\n",
    "from langchain_community.document_loaders import DirectoryLoader, TextLoader\n",
    "import chromadb\n",
    "from chromadb.utils.embedding_functions import OpenAIEmbeddingFunction\n",
    "from langchain_openai import OpenAIEmbeddings\n",
    "\n",
    "# from langchain.vectorstores import Chroma\n",
    "from langchain.vectorstores import FAISS\n",
    "\n",
    "from langchain.schema import Document\n",
    "from chromadb.config import Settings\n",
    "from langchain.text_splitter import RecursiveCharacterTextSplitter\n",
    "\n",
    "from transformers import AutoTokenizer\n",
    "\n",
    "import re\n",
    "import logging\n",
    "import random\n",
    "import numpy as np"
   ]
  },
  {
   "cell_type": "code",
   "execution_count": 5,
   "id": "Qpn-qbhAi58F",
   "metadata": {
    "id": "Qpn-qbhAi58F"
   },
   "outputs": [
    {
     "name": "stderr",
     "output_type": "stream",
     "text": [
      "[nltk_data] Downloading package punkt to\n",
      "[nltk_data]     C:\\Users\\prita\\AppData\\Roaming\\nltk_data...\n",
      "[nltk_data]   Package punkt is already up-to-date!\n",
      "[nltk_data] Downloading package averaged_perceptron_tagger to\n",
      "[nltk_data]     C:\\Users\\prita\\AppData\\Roaming\\nltk_data...\n",
      "[nltk_data]   Package averaged_perceptron_tagger is already up-to-\n",
      "[nltk_data]       date!\n",
      "[nltk_data] Downloading package stopwords to\n",
      "[nltk_data]     C:\\Users\\prita\\AppData\\Roaming\\nltk_data...\n",
      "[nltk_data]   Package stopwords is already up-to-date!\n"
     ]
    }
   ],
   "source": [
    "import nltk\n",
    "from nltk.corpus import stopwords\n",
    "nltk.download('punkt')\n",
    "nltk.download('averaged_perceptron_tagger')\n",
    "nltk.download('stopwords')\n",
    "\n",
    "from langchain.schema import Document\n",
    "from collections import Counter\n",
    "\n",
    "from sklearn.feature_extraction.text import TfidfVectorizer\n",
    "from sklearn.metrics.pairwise import cosine_similarity\n",
    "import seaborn as sns\n",
    "import matplotlib.pyplot as plt\n",
    "\n"
   ]
  },
  {
   "cell_type": "markdown",
   "id": "zOMf-tfIiOlp",
   "metadata": {
    "id": "zOMf-tfIiOlp"
   },
   "source": [
    "#### **1.2.1** <font color=red> [3 marks] </font>\n",
    "Load all `.txt` files from the folders."
   ]
  },
  {
   "cell_type": "markdown",
   "id": "f2ea36ba",
   "metadata": {
    "id": "f2ea36ba"
   },
   "source": [
    "You can utilise document loaders from the options provided by the LangChain community.\n",
    "\n",
    "Optionally, you can also read the files manually, while ensuring proper handling of encoding issues (e.g., utf-8, latin1). In such case, also store the file content along with metadata (e.g., file name, directory path) for traceability."
   ]
  },
  {
   "cell_type": "code",
   "execution_count": 6,
   "id": "I9rTY8DWx2Wj",
   "metadata": {
    "id": "I9rTY8DWx2Wj"
   },
   "outputs": [
    {
     "name": "stdout",
     "output_type": "stream",
     "text": [
      "698 documents loaded.\n"
     ]
    }
   ],
   "source": [
    "# Load the files as documents\n",
    "\n",
    "# Define root folder\n",
    "rootfolder = \"C:/Users/prita/Downloads/Starter and Dataset RAG Legal\"\n",
    "\n",
    "# Use limited document due to limit in token\n",
    "documents_to_use = 1000\n",
    "\n",
    "# Use limited number of docs for test\n",
    "docs_for_test = 100\n",
    "\n",
    "loader = DirectoryLoader(\n",
    "        path = rootfolder + \"/rag_legal/corpus\",\n",
    "        glob = \"**/*.txt\",\n",
    "        loader_cls = lambda path: TextLoader(path, encoding=\"utf-8\")\n",
    ")\n",
    "\n",
    "documents = loader.load()\n",
    "\n",
    "documents = documents[:documents_to_use]\n",
    "\n",
    "print(f\"{len(documents)} documents loaded.\")\n"
   ]
  },
  {
   "cell_type": "markdown",
   "id": "K4HYLoUjwmMs",
   "metadata": {
    "id": "K4HYLoUjwmMs"
   },
   "source": [
    "#### **1.2.2** <font color=red> [2 marks] </font>\n",
    "Preprocess the text data to remove noise and prepare it for analysis."
   ]
  },
  {
   "cell_type": "markdown",
   "id": "e9793fdf",
   "metadata": {
    "id": "e9793fdf"
   },
   "source": [
    "Remove special characters, extra whitespace, and irrelevant content such as email and telephone contact info.\n",
    "Normalise text (e.g., convert to lowercase, remove stop words).\n",
    "Handle missing or corrupted data by logging errors and skipping problematic files."
   ]
  },
  {
   "cell_type": "code",
   "execution_count": 7,
   "id": "f756d6ef-ff06-4ca2-b435-fb5a3630ff21",
   "metadata": {},
   "outputs": [],
   "source": [
    "# Clean and preprocess the data by removing whitespace, email/phone, special characters, stopwords and lowercasing the words\n",
    "stop_words = set(stopwords.words('english'))\n",
    "\n",
    "def txtpreprocessing(text):\n",
    "    text = text.lower()\n",
    "\n",
    "    # remove email and phone number\n",
    "    text = re.sub(r'\\b[\\w\\.-]+@[\\w\\.-]+\\.\\w{2,4}\\b', '', text)  # Emails\n",
    "    text = re.sub(r'\\+?\\d[\\d\\s().-]{7,}', '', text)  # Phone numbers\n",
    "    text = re.sub(r'^\\s*\\d+(?:\\.\\d+)*\\.\\s+', '', text, flags=re.MULTILINE) # removing bullet headers and numbers\n",
    "    # Remove special characters\n",
    "    text = re.sub(r'[^a-z0-9\\s]', ' ', text)\n",
    "\n",
    "    # Remove extra whitespace\n",
    "    text = re.sub(r'\\s+', ' ', text).strip()\n",
    "\n",
    "    # Remove stopwords\n",
    "    text = ' '.join([word for word in text.split() if word not in stop_words])\n",
    "    \n",
    "    return text\n"
   ]
  },
  {
   "cell_type": "code",
   "execution_count": 8,
   "id": "1ec87e69",
   "metadata": {
    "id": "1ec87e69"
   },
   "outputs": [],
   "source": [
    "#processing the text and handling missing/corrupted data and skipping and recording the skipped files \n",
    "cleaned_documents = []\n",
    "\n",
    "for i, doc in enumerate(documents):\n",
    "    try:\n",
    "        #ensuring the doc has content and its in string form\n",
    "        if not doc.page_content or not isinstance(doc.page_content, str):\n",
    "            raise ValueError(\"Missing or invalid content\")\n",
    "            \n",
    "        # Preprocessing the document content using txtpreprocessing function defined above\n",
    "        cleaned_txt = txtpreprocessing(doc.page_content)\n",
    "        \n",
    "        # Creating new doc with cleaned text\n",
    "        cleaned_doc = Document(page_content=cleaned_txt, metadata=doc.metadata)\n",
    "        cleaned_documents.append(cleaned_doc)\n",
    "        \n",
    "    except Exception as e:\n",
    "        # loggint the error and skipping\n",
    "        print(f\"skipping document {i} ({doc.metadatae.get('source', 'unknown')}): {e}\")        "
   ]
  },
  {
   "cell_type": "code",
   "execution_count": 9,
   "id": "27986fa3",
   "metadata": {},
   "outputs": [
    {
     "data": {
      "text/plain": [
       "langchain_core.documents.base.Document"
      ]
     },
     "execution_count": 9,
     "metadata": {},
     "output_type": "execute_result"
    }
   ],
   "source": [
    "# Display first cleaned document type\n",
    "type(cleaned_documents[0])"
   ]
  },
  {
   "cell_type": "code",
   "execution_count": 10,
   "id": "ee569013-6ceb-43c7-99e7-8d817949db9c",
   "metadata": {},
   "outputs": [
    {
     "data": {
      "text/plain": [
       "'mutual non disclosure agreement subject matter effective date agreement period 2017 exchange information 2017 period confidentiality agreement made effective date agreement noted parties background parties desire discussions relating subject matter purposes evaluating possible business relationship purpose parties may extend subject matter add additional parties executing one addenda agreement ii discussions may involve disclosure one party party confidential proprietary trade secret information licensors confidential information defined period exchange information iii parties recognize value confidential information mutual best interests maintain confidential proprietary secret nature confidential information therefore consideration subject matter mutual promises herein parties agree follows confidential information term confidential information used herein means nonpublic information relating subject matter disclosed either party affiliates defined agents applicable collectively referred disclosing party directly indirectly writing orally inspection premises tangible objects party recipient marked confidential proprietary ii given nature information circumstances surrounding disclosure reasonably deemed confidential confidential information includes limited documents drawings models apparatus sketches designs schedules product plans marketing plans technical procedures manufacturing processes software prototypes samples methodologies formulations trade secrets patent applications know experimental results specifications business information period confidentiality non use recipient use confidential information connection purpose set forth agreement recipient shall use degree care avoid disclosure use confidential information uses confidential proprietary trade secret information case use less reasonable degree care recipient agrees limit disclosure confidential information employees employees affiliates specific need know confidential information purpose case affiliates extent affiliate obligation hold information confidence made aware terms conditions recipient disclose permit access confidential information contract workers consultants contractors recipient affiliates unless authorized disclosing party writing condition persons bound obligations confidentiality inuring benefit disclosing party affiliates least restrictive terms conditions recipient shall without disclosing party prior written consent reverse engineer disassemble decompile prototypes software objects embody disclosing party confidential information obtain access disclosing party trade secrets extent consent granted recipient shall receive hold confidential information subject terms agreement term term agreement shall period exchange set forth confidentiality obligations shall survive termination agreement period confidentiality set forth unless confidential information trade secret case confidentiality obligations shall continue long information trade secret either party may terminate agreement upon 30 days prior written notice notice unauthorized use recipient shall provide written notice disclosing party without undue delay misuse misappropriation confidential information may come attention recipient recipient shall cooperate aid disclosing party mitigating preventing unauthorized use disclosure furtherance thereof exclusions exemptions recipient shall obligation confidentiality respect information already known possession recipient affiliate time disclosure shown recipient affiliates files records prior time disclosure otherwise result improper act omission recipient affiliate becomes public knowledge wrongful act recipient rightfully acquired others obtain obligation confidentiality independently developed employee agent consultant recipient without reference confidential information approved release written authorization disclosing party recipient hereby notified set forth 18 u c 1833 b criminal civil liability u trade secret law following disclosures trade secret disclosure confidence federal state local government official either directly indirectly attorney provided disclosure sole purpose reporting investigating suspected violation law disclosure complaint document filed lawsuit proceeding filing made seal circumstances recipient files lawsuit retaliation disclosing party reporting suspected violation law recipient may disclose disclosing party trade secret information attorney may use trade secret information court proceeding recipient files document containing trade secret seal disclose trade secret except pursuant court order reproduction return confidential information confidential information provided disclosing party shall copied reproduced without disclosing party prior written permission except copies may reasonably required purpose set forth section agreement disclosing party may serve written request recipient return destruction confidential information time six 6 months termination expiry agreement recipient shall within thirty 30 days request termination return disclosing party designees certify destroyed confidential information whatever form including written electronically recorded information copies thereof copies retained automatic back archive systems provided however recipient shall entitled retain one copy confidential information legal counsel appropriate corporate representative evidence exchange information hereunder connection legal statutory requirements retained copies shall remain subject use disclosure restrictions agreement disclosures required law recipient requested ordered required regulatory agency government authority court disclose confidential information recipient shall promptly notify disclosing party request order requirement disclosing party may opportunity contest disclosure including seeking protective order waive recipient compliance agreement recipient opinion counsel compelled disclose confidential information else liable contempt penalty subject claims third party recipient may disclose confidential information without liability agreement export laws neither party shall export directly indirectly confidential information country person entity us government time export requires export license governmental approval without first obtaining license approval recipient shall first obtain written consent disclosing party prior submitting request authority export confidential information purposes agreement export occurs confidential information transferred one country another means including limited physical shipments ftp file transfers e mails faxes oral transfers remote server access export may also occur confidential information transferred accessed person neither citizen permanent resident country transfer access taking place ownership confidential information disclosing party licensors case may retain rights confidential information disclosed documents prototypes software development kits sdks similar tangible property embodying containing reflecting shall remain property disclosing party license neither execution agreement disclosure confidential information construed granting either expressly implication estoppel otherwise license right confidential information intellectual property rights embodied therein warranty confidential information provided agreement provided specifically excludes warranty whether express implied including without limitation implied warranty merchantability fitness particular purpose accuracy disclosing party liable agreement damages connection related arising use confidential information obligation agreement shall construed manner obligation enter substantive contract disclose particular confidential information independent developments disclosing party understands recipient may develop developed information internally receive received information parties similar confidential information accordingly nothing agreement shall construed representation recipient independently develop products compete products systems contemplated confidential information provided without breaching terms agreement relationship party hereto shall considered independent contractor responsible expenses financial obligations incurred performance agreement waiver neither party waives rights invention development lawfully possessed time signing agreement addition agreement imply waiver rights action patent trademark copyright trade secret unfair competition fair trade related laws failure exercise rights agreement shall construed waiver rights inurement agreement shall inure benefit parties hereto respective affiliates defined successors assigns legal representatives parties agree party affiliates may receive confidential information disclose confidential information party party affiliates confidential information shall governed agreement recipient shall fully responsible disclosing party breach agreement recipient affiliates affiliate used herein means entity directly indirectly controls controlled common control party agreement used section control controls controlled means fifty one percent 51 ownership beneficial interest income capital entity ii ownership least fifty one percent 51 voting power voting equity iii ability otherwise direct share management policies entity injunctive relief parties agree use confidential information violation agreement may cause party irreparable harm may leave adequate remedy law shall thereby entitle seek injunctive relief court competent jurisdiction party party affiliate violation choice law agreement governed construed accordance laws state michigan without regard principles conflict choice laws parties hereby unconditionally irrevocably agree submit exclusive jurisdiction state federal courts state michigan survival sections 1 2 3 4 5 6 17 18 19 sections parts thereof nature intended survive termination shall survive termination agreement severability court finds provision agreement right obligation invalid unenforceable agreement shall immediately deemed amended include provision reflects intent parties possible ii exclude provision parties shall negotiate good faith substitute provision reflect parties intent time entering agreement entire agreement agreement contains entire understanding parties regarding confidential information supersedes communications reports understandings parties respect thereto change addition provision shall binding unless writing signed authorized representative parties notices shall writing delivered electronic mail registered certified mail return receipt requested appropriate address set forth signature block headings headings agreement reference shall affect meaning provisions counterparts agreement may signed two counterparts including signing facsimile copies counterpart deemed original counterparts together shall constitute one instrument witness whereof parties hereto caused authorized representatives execute agreement date first written signature signature print name print name title title date date signature print name title date'"
      ]
     },
     "execution_count": 10,
     "metadata": {},
     "output_type": "execute_result"
    }
   ],
   "source": [
    "# Display first cleaned document\n",
    "cleaned_documents[0].page_content"
   ]
  },
  {
   "cell_type": "markdown",
   "id": "b9e90470",
   "metadata": {
    "id": "b9e90470"
   },
   "source": [
    "### **1.3 Exploratory Data Analysis** <font color=red> [10 marks] </font><br>"
   ]
  },
  {
   "cell_type": "markdown",
   "id": "Nd1K4yhIzyPp",
   "metadata": {
    "id": "Nd1K4yhIzyPp"
   },
   "source": [
    "#### **1.3.1** <font color=red> [1 marks] </font>\n",
    "Calculate the average, maximum and minimum document length."
   ]
  },
  {
   "cell_type": "code",
   "execution_count": 11,
   "id": "tQT1UIcOHSp9",
   "metadata": {
    "id": "tQT1UIcOHSp9"
   },
   "outputs": [
    {
     "name": "stdout",
     "output_type": "stream",
     "text": [
      "average document length: 9161.20 words\n",
      "maximum document length: 86518 words\n",
      "minimum document length: 146 words\n"
     ]
    }
   ],
   "source": [
    "# Calculate the average, maximum and minimum document length.\n",
    "doc_lengths = [len(doc.page_content.split()) for doc in cleaned_documents] #if isinstance(doc.page_content, str)]\n",
    "\n",
    "# Ensure there are valid documents\n",
    "if doc_lengths:\n",
    "    average_length = sum(doc_lengths) / len(doc_lengths)\n",
    "    max_length = max(doc_lengths)\n",
    "    min_length = min(doc_lengths)\n",
    "\n",
    "    print(f\"average document length: {average_length:.2f} words\")\n",
    "    print(f\"maximum document length: {max_length} words\")\n",
    "    print(f\"minimum document length: {min_length} words\")"
   ]
  },
  {
   "cell_type": "markdown",
   "id": "18xQu__O0wLv",
   "metadata": {
    "id": "18xQu__O0wLv"
   },
   "source": [
    "#### **1.3.2** <font color=red> [4 marks] </font>\n",
    "Analyse the frequency of occurrence of words and find the most and least occurring words."
   ]
  },
  {
   "cell_type": "markdown",
   "id": "IQ_i5YfFH2dg",
   "metadata": {
    "id": "IQ_i5YfFH2dg"
   },
   "source": [
    "Find the 20 most common and least common words in the text. Ignore stop words such as articles and prepositions."
   ]
  },
  {
   "cell_type": "code",
   "execution_count": 12,
   "id": "Q8eiDTy2Ic8z",
   "metadata": {
    "id": "Q8eiDTy2Ic8z"
   },
   "outputs": [],
   "source": [
    "# Find frequency of occurence of words\n",
    "text_all = \" \".join([doc.page_content for doc in cleaned_documents if isinstance(doc.page_content, str)])\n",
    "\n",
    "#tokenizing the words in the text corpus\n",
    "token = nltk.word_tokenize(text_all)\n",
    "\n",
    "# filtering stop words, alphabetic words and words with length more than 2 as smaller words may not make any sense in this context\n",
    "filterwords = [word for word in token if word.isalpha() and word not in stop_words and len(word)>2]\n",
    "\n",
    "# counting words\n",
    "word_count = Counter(filterwords)"
   ]
  },
  {
   "cell_type": "code",
   "execution_count": 13,
   "id": "401aa746",
   "metadata": {},
   "outputs": [
    {
     "name": "stdout",
     "output_type": "stream",
     "text": [
      "20 Most Common Words:\n",
      "company: 156422\n",
      "shall: 108015\n",
      "agreement: 104655\n",
      "section: 75412\n",
      "parent: 60715\n",
      "party: 54208\n",
      "date: 39392\n",
      "time: 35827\n",
      "material: 34242\n",
      "merger: 33907\n",
      "subsidiaries: 33320\n",
      "applicable: 31384\n",
      "including: 29406\n",
      "respect: 28849\n",
      "may: 28108\n",
      "stock: 26887\n",
      "information: 25725\n",
      "parties: 24641\n",
      "business: 23705\n",
      "prior: 23346\n",
      "\n",
      "20 Least Common Words:\n",
      "skip: 1\n",
      "leaderboards: 1\n",
      "biographic: 1\n",
      "idfa: 1\n",
      "coarse: 1\n",
      "gameboards: 1\n",
      "invisibly: 1\n",
      "outweigh: 1\n",
      "recieve: 1\n",
      "adcolony: 1\n",
      "nodeid: 1\n",
      "zingtree: 1\n",
      "heyzap: 1\n",
      "ironsrc: 1\n",
      "pinsight: 1\n",
      "pinsightmedia: 1\n",
      "soomla: 1\n",
      "soom: 1\n",
      "youronlinechoices: 1\n",
      "newer: 1\n"
     ]
    }
   ],
   "source": [
    "# finding 20 most common and least common words from the list\n",
    "most_common = word_count.most_common(20)\n",
    "least_common = word_count.most_common()[-20:]\n",
    "\n",
    "#printing words\n",
    "print(\"20 Most Common Words:\")\n",
    "for word, freq in most_common:\n",
    "    print(f\"{word}: {freq}\")\n",
    "\n",
    "print(\"\\n20 Least Common Words:\")\n",
    "for word, freq in least_common:\n",
    "    print(f\"{word}: {freq}\")"
   ]
  },
  {
   "cell_type": "markdown",
   "id": "xlF55RNjz9pQ",
   "metadata": {
    "id": "xlF55RNjz9pQ"
   },
   "source": [
    "#### **1.3.3** <font color=red> [4 marks] </font>\n",
    "Analyse the similarity of different documents to each other based on TF-IDF vectors."
   ]
  },
  {
   "cell_type": "markdown",
   "id": "jciCNMelOGPJ",
   "metadata": {
    "id": "jciCNMelOGPJ"
   },
   "source": [
    "Transform some documents to TF-IDF vectors and calculate their similarity matrix using a suitable distance function. If contracts contain duplicate or highly similar clauses, similarity calculation can help detect them.\n",
    "\n",
    "Identify for the first 10 documents and then for 10 random documents. What do you observe?"
   ]
  },
  {
   "cell_type": "code",
   "execution_count": 14,
   "id": "M-_SrvDcMnKi",
   "metadata": {
    "id": "M-_SrvDcMnKi",
    "scrolled": true
   },
   "outputs": [
    {
     "name": "stdout",
     "output_type": "stream",
     "text": [
      "10\n",
      "[[1.         0.14765022 0.64104321 0.42443441 0.49393813 0.61308524\n",
      "  0.6158089  0.71726506 0.43630181 0.47790556]\n",
      " [0.14765022 1.         0.14581831 0.08758989 0.10968495 0.13048072\n",
      "  0.12171878 0.13468504 0.12789415 0.11200389]\n",
      " [0.64104321 0.14581831 1.         0.53983136 0.64880842 0.72322154\n",
      "  0.73164253 0.76449684 0.40591156 0.5715051 ]\n",
      " [0.42443441 0.08758989 0.53983136 1.         0.43744087 0.50621468\n",
      "  0.51404566 0.50664286 0.23189845 0.38467754]\n",
      " [0.49393813 0.10968495 0.64880842 0.43744087 1.         0.56031506\n",
      "  0.57204137 0.58056185 0.28827491 0.46526796]\n",
      " [0.61308524 0.13048072 0.72322154 0.50621468 0.56031506 1.\n",
      "  0.72641442 0.64192792 0.36387389 0.56103539]\n",
      " [0.6158089  0.12171878 0.73164253 0.51404566 0.57204137 0.72641442\n",
      "  1.         0.67240826 0.36154473 0.55158543]\n",
      " [0.71726506 0.13468504 0.76449684 0.50664286 0.58056185 0.64192792\n",
      "  0.67240826 1.         0.34673864 0.51111214]\n",
      " [0.43630181 0.12789415 0.40591156 0.23189845 0.28827491 0.36387389\n",
      "  0.36154473 0.34673864 1.         0.31911869]\n",
      " [0.47790556 0.11200389 0.5715051  0.38467754 0.46526796 0.56103539\n",
      "  0.55158543 0.51111214 0.31911869 1.        ]]\n",
      "[654, 114, 25, 281, 250, 228, 142, 104, 692, 558]\n"
     ]
    }
   ],
   "source": [
    "# Transform the page contents of documents\n",
    "vectorizer =  TfidfVectorizer(stop_words='english')\n",
    "\n",
    "text = [doc.page_content for doc in cleaned_documents]\n",
    "\n",
    "tfidf_matrix = vectorizer.fit_transform(text)\n",
    "\n",
    "# Due to limited token limited number of rows to be used\n",
    "rows_to_use = 10\n",
    "# Use 10 if doc length is 10, else use doc length\n",
    "if len(cleaned_documents) >= 10:\n",
    "    rows_to_use = 10\n",
    "elif len(cleaned_documents) < 10:\n",
    "    rows_to_use = len(cleaned_documents)\n",
    "else:\n",
    "    rows_to_use = 10\n",
    "print(rows_to_use)\n",
    "\n",
    "# Cosine similarity matrix\n",
    "similarity_matrix = cosine_similarity(tfidf_matrix)\n",
    "\n",
    "# For first 10 documents\n",
    "sim_first_10_idx = np.arange(rows_to_use)\n",
    "sim_first_10 = similarity_matrix[np.ix_(sim_first_10_idx, sim_first_10_idx)]\n",
    "print(sim_first_10)\n",
    "\n",
    "# For 10 random documents\n",
    "random.seed(42)\n",
    "random_idx = random.sample(range(len(documents)), rows_to_use)[:rows_to_use]\n",
    "print(random_idx)\n",
    "\n",
    "sim_random_10 = similarity_matrix[np.ix_(random_idx, random_idx)]"
   ]
  },
  {
   "cell_type": "code",
   "execution_count": 15,
   "id": "30bbc150",
   "metadata": {},
   "outputs": [
    {
     "data": {
      "image/png": "[encoded data removed]",
      "text/plain": [
       "<Figure size 1000x600 with 2 Axes>"
      ]
     },
     "metadata": {},
     "output_type": "display_data"
    },
    {
     "data": {
      "image/png": "[encoded data removed]",
      "text/plain": [
       "<Figure size 1000x600 with 2 Axes>"
      ]
     },
     "metadata": {},
     "output_type": "display_data"
    }
   ],
   "source": [
    "# heatmap of random document similarity score\n",
    "plt.figure(figsize=(10, 6))\n",
    "sns.heatmap(sim_first_10, annot=True, cmap=\"YlGnBu\")\n",
    "plt.show()\n",
    "\n",
    "plt.figure(figsize=(10, 6))\n",
    "sns.heatmap(sim_random_10, annot=True, cmap=\"YlOrRd\")\n",
    "plt.show()"
   ]
  },
  {
   "cell_type": "markdown",
   "id": "pCw3NzcE3waS",
   "metadata": {
    "id": "pCw3NzcE3waS"
   },
   "source": [
    "#### **1.4.1** <font color=red> [5 marks] </font>\n",
    "Perform appropriate steps to split the text into chunks."
   ]
  },
  {
   "cell_type": "code",
   "execution_count": 16,
   "id": "TjZ6yf9r2p1F",
   "metadata": {
    "id": "TjZ6yf9r2p1F"
   },
   "outputs": [
    {
     "name": "stdout",
     "output_type": "stream",
     "text": [
      "Content: mutual non disclosure agreement subject matter effective date agreement period 2017 exchange information 2017 period confidentiality agreement made effective date agreement noted parties background parties desire discussions relating subject matter purposes evaluating possible business relationship purpose parties may extend subject matter add additional parties executing one addenda agreement ii discussions may involve disclosure one party party confidential proprietary trade secret information licensors confidential information defined period exchange information iii parties recognize value confidential information mutual best interests maintain confidential proprietary secret nature confidential information therefore consideration subject matter mutual promises herein parties agree follows confidential information term confidential information used herein means nonpublic information relating subject matter disclosed either party affiliates defined agents applicable collectively, Metadata: {'source': 'C:\\\\Users\\\\prita\\\\Downloads\\\\Starter and Dataset RAG Legal\\\\rag_legal\\\\corpus\\\\contractnli\\\\01_Bosch-Automotive-Service-Solutions-Mutual-Non-Disclosure-Agreement-7-12-17.txt'}\n",
      "Content: relating subject matter disclosed either party affiliates defined agents applicable collectively referred disclosing party directly indirectly writing orally inspection premises tangible objects party recipient marked confidential proprietary ii given nature information circumstances surrounding disclosure reasonably deemed confidential confidential information includes limited documents drawings models apparatus sketches designs schedules product plans marketing plans technical procedures manufacturing processes software prototypes samples methodologies formulations trade secrets patent applications know experimental results specifications business information period confidentiality non use recipient use confidential information connection purpose set forth agreement recipient shall use degree care avoid disclosure use confidential information uses confidential proprietary trade secret information case use less reasonable degree care recipient agrees limit disclosure confidential, Metadata: {'source': 'C:\\\\Users\\\\prita\\\\Downloads\\\\Starter and Dataset RAG Legal\\\\rag_legal\\\\corpus\\\\contractnli\\\\01_Bosch-Automotive-Service-Solutions-Mutual-Non-Disclosure-Agreement-7-12-17.txt'}\n"
     ]
    }
   ],
   "source": [
    "# Process files and generate chunks\n",
    "text_splitter = RecursiveCharacterTextSplitter(\n",
    "    chunk_size=1000,     # Size of each chunk in characters\n",
    "    chunk_overlap=100    # Optional overlap for context preservation\n",
    ")\n",
    "\n",
    "# Split the documents\n",
    "chunked_docs = text_splitter.split_documents(cleaned_documents)\n",
    "\n",
    "# View results\n",
    "for chunk in chunked_docs[:2]:\n",
    "    print(f\"Content: {chunk.page_content}, Metadata: {chunk.metadata}\")\n"
   ]
  },
  {
   "cell_type": "markdown",
   "id": "LeAeTqpZ-DYw",
   "metadata": {
    "id": "LeAeTqpZ-DYw"
   },
   "source": [
    "## **2. Vector Database and RAG Chain Creation** <font color=red> [15 marks] </font><br>"
   ]
  },
  {
   "cell_type": "markdown",
   "id": "YoH_Ac6K6aQZ",
   "metadata": {
    "id": "YoH_Ac6K6aQZ"
   },
   "source": [
    "### **2.1 Vector Embedding and Vector Database Creation** <font color=red> [7 marks] </font><br>"
   ]
  },
  {
   "cell_type": "markdown",
   "id": "bBfj5ycC59lU",
   "metadata": {
    "id": "bBfj5ycC59lU"
   },
   "source": [
    "#### **2.1.1** <font color=red> [2 marks] </font>\n",
    "Initialise an embedding function for loading the embeddings into the vector database."
   ]
  },
  {
   "cell_type": "markdown",
   "id": "v-QeR5N_7jiw",
   "metadata": {
    "id": "v-QeR5N_7jiw"
   },
   "source": [
    "Initialise a function to transform the text to vectors using OPENAI Embeddings module. You can also use this function to transform during vector DB creation itself."
   ]
  },
  {
   "cell_type": "code",
   "execution_count": 17,
   "id": "b3Jaq3HEhpxN",
   "metadata": {
    "id": "b3Jaq3HEhpxN"
   },
   "outputs": [],
   "source": [
    "# Set the API key by reading the folder path. Use this code if you're running the code on Google Colab. Otherwise, use the actual folder path\n",
    "folder_path = 'C:/Users/prita/'\n",
    "\n",
    "# Folder path\n",
    "os.chdir(folder_path)\n",
    "\n",
    "# Read the text file containing the API key\n",
    "with open(folder_path + \"OpenAIKey.txt\", \"r\") as f:\n",
    "  openai.api_key = ' '.join(f.readlines())\n",
    "\n",
    "# Update the OpenAI API key by updating the environment variable\n",
    "os.environ[\"OPENAI_API_KEY\"] = openai.api_key"
   ]
  },
  {
   "cell_type": "code",
   "execution_count": 18,
   "id": "550c762c-5a0a-46f9-9b82-6aed3ad9b0b8",
   "metadata": {},
   "outputs": [],
   "source": [
    "# OpenAI Embeddings class from LangChain\n",
    "embedding_model = OpenAIEmbeddings(model=\"text-embedding-3-small\")"
   ]
  },
  {
   "cell_type": "markdown",
   "id": "WTkTIerj5-KI",
   "metadata": {
    "id": "WTkTIerj5-KI"
   },
   "source": [
    "#### **2.1.2** <font color=red> [5 marks] </font>\n",
    "Load the embeddings to a vector database."
   ]
  },
  {
   "cell_type": "markdown",
   "id": "o6rEbd7477R8",
   "metadata": {
    "id": "o6rEbd7477R8"
   },
   "source": [
    "Create a directory for vector database and enter embedding data to the vector DB."
   ]
  },
  {
   "cell_type": "code",
   "execution_count": 19,
   "id": "IaqfjQJf2v8Y",
   "metadata": {
    "id": "IaqfjQJf2v8Y",
    "scrolled": true
   },
   "outputs": [],
   "source": [
    "# Add Chunks to vector DB\n",
    "\n",
    "# Define storage directory\n",
    "persist_dir = \"faiss_doc_store\"\n",
    "os.makedirs(persist_dir, exist_ok=True)\n",
    "\n",
    "# Store the split document in ChromaDB\n",
    "fvectorstore = FAISS.from_documents(chunked_docs, embedding_model)\n",
    "\n",
    "# Persist to disk\n",
    "fvectorstore.save_local(folder_path=persist_dir)\n"
   ]
  },
  {
   "cell_type": "code",
   "execution_count": 20,
   "id": "e9f9c6c0-f2d2-4878-b414-078e47f06430",
   "metadata": {},
   "outputs": [],
   "source": [
    "# Reload again, since its local\n",
    "fvectorstore = FAISS.load_local(folder_path=persist_dir, embeddings=embedding_model, allow_dangerous_deserialization=True)"
   ]
  },
  {
   "cell_type": "code",
   "execution_count": 21,
   "id": "4e95b773-9f1b-4be0-99c8-865e3fbc0ea0",
   "metadata": {},
   "outputs": [
    {
     "name": "stdout",
     "output_type": "stream",
     "text": [
      "Requirement already satisfied: qdrant-client in c:\\users\\prita\\appdata\\local\\packages\\pythonsoftwarefoundation.python.3.9_qbz5n2kfra8p0\\localcache\\local-packages\\python39\\site-packages (1.14.2)\n",
      "Requirement already satisfied: grpcio>=1.41.0 in c:\\users\\prita\\appdata\\local\\packages\\pythonsoftwarefoundation.python.3.9_qbz5n2kfra8p0\\localcache\\local-packages\\python39\\site-packages (from qdrant-client) (1.71.0)\n",
      "Requirement already satisfied: httpx>=0.20.0 in c:\\users\\prita\\appdata\\local\\packages\\pythonsoftwarefoundation.python.3.9_qbz5n2kfra8p0\\localcache\\local-packages\\python39\\site-packages (from httpx[http2]>=0.20.0->qdrant-client) (0.28.1)\n",
      "Requirement already satisfied: numpy<2.1.0,>=1.21 in c:\\users\\prita\\appdata\\local\\packages\\pythonsoftwarefoundation.python.3.9_qbz5n2kfra8p0\\localcache\\local-packages\\python39\\site-packages (from qdrant-client) (1.26.4)\n",
      "Requirement already satisfied: portalocker<3.0.0,>=2.7.0 in c:\\users\\prita\\appdata\\local\\packages\\pythonsoftwarefoundation.python.3.9_qbz5n2kfra8p0\\localcache\\local-packages\\python39\\site-packages (from qdrant-client) (2.7.0)\n",
      "Requirement already satisfied: protobuf>=3.20.0 in c:\\users\\prita\\appdata\\local\\packages\\pythonsoftwarefoundation.python.3.9_qbz5n2kfra8p0\\localcache\\local-packages\\python39\\site-packages (from qdrant-client) (5.29.4)\n",
      "Requirement already satisfied: pydantic!=2.0.*,!=2.1.*,!=2.2.0,>=1.10.8 in c:\\users\\prita\\appdata\\local\\packages\\pythonsoftwarefoundation.python.3.9_qbz5n2kfra8p0\\localcache\\local-packages\\python39\\site-packages (from qdrant-client) (2.10.5)\n",
      "Requirement already satisfied: urllib3<3,>=1.26.14 in c:\\users\\prita\\appdata\\local\\packages\\pythonsoftwarefoundation.python.3.9_qbz5n2kfra8p0\\localcache\\local-packages\\python39\\site-packages (from qdrant-client) (2.4.0)\n",
      "Requirement already satisfied: pywin32>=226 in c:\\users\\prita\\appdata\\local\\packages\\pythonsoftwarefoundation.python.3.9_qbz5n2kfra8p0\\localcache\\local-packages\\python39\\site-packages (from portalocker<3.0.0,>=2.7.0->qdrant-client) (306)\n",
      "Requirement already satisfied: anyio in c:\\users\\prita\\appdata\\local\\packages\\pythonsoftwarefoundation.python.3.9_qbz5n2kfra8p0\\localcache\\local-packages\\python39\\site-packages (from httpx>=0.20.0->httpx[http2]>=0.20.0->qdrant-client) (4.0.0)\n",
      "Requirement already satisfied: certifi in c:\\users\\prita\\appdata\\local\\packages\\pythonsoftwarefoundation.python.3.9_qbz5n2kfra8p0\\localcache\\local-packages\\python39\\site-packages (from httpx>=0.20.0->httpx[http2]>=0.20.0->qdrant-client) (2025.1.31)\n",
      "Requirement already satisfied: httpcore==1.* in c:\\users\\prita\\appdata\\local\\packages\\pythonsoftwarefoundation.python.3.9_qbz5n2kfra8p0\\localcache\\local-packages\\python39\\site-packages (from httpx>=0.20.0->httpx[http2]>=0.20.0->qdrant-client) (1.0.7)\n",
      "Requirement already satisfied: idna in c:\\users\\prita\\appdata\\local\\packages\\pythonsoftwarefoundation.python.3.9_qbz5n2kfra8p0\\localcache\\local-packages\\python39\\site-packages (from httpx>=0.20.0->httpx[http2]>=0.20.0->qdrant-client) (3.4)\n",
      "Requirement already satisfied: h11<0.15,>=0.13 in c:\\users\\prita\\appdata\\local\\packages\\pythonsoftwarefoundation.python.3.9_qbz5n2kfra8p0\\localcache\\local-packages\\python39\\site-packages (from httpcore==1.*->httpx>=0.20.0->httpx[http2]>=0.20.0->qdrant-client) (0.14.0)\n",
      "Requirement already satisfied: h2<5,>=3 in c:\\users\\prita\\appdata\\local\\packages\\pythonsoftwarefoundation.python.3.9_qbz5n2kfra8p0\\localcache\\local-packages\\python39\\site-packages (from httpx[http2]>=0.20.0->qdrant-client) (4.2.0)\n",
      "Requirement already satisfied: hyperframe<7,>=6.1 in c:\\users\\prita\\appdata\\local\\packages\\pythonsoftwarefoundation.python.3.9_qbz5n2kfra8p0\\localcache\\local-packages\\python39\\site-packages (from h2<5,>=3->httpx[http2]>=0.20.0->qdrant-client) (6.1.0)\n",
      "Requirement already satisfied: hpack<5,>=4.1 in c:\\users\\prita\\appdata\\local\\packages\\pythonsoftwarefoundation.python.3.9_qbz5n2kfra8p0\\localcache\\local-packages\\python39\\site-packages (from h2<5,>=3->httpx[http2]>=0.20.0->qdrant-client) (4.1.0)\n",
      "Requirement already satisfied: annotated-types>=0.6.0 in c:\\users\\prita\\appdata\\local\\packages\\pythonsoftwarefoundation.python.3.9_qbz5n2kfra8p0\\localcache\\local-packages\\python39\\site-packages (from pydantic!=2.0.*,!=2.1.*,!=2.2.0,>=1.10.8->qdrant-client) (0.7.0)\n",
      "Requirement already satisfied: pydantic-core==2.27.2 in c:\\users\\prita\\appdata\\local\\packages\\pythonsoftwarefoundation.python.3.9_qbz5n2kfra8p0\\localcache\\local-packages\\python39\\site-packages (from pydantic!=2.0.*,!=2.1.*,!=2.2.0,>=1.10.8->qdrant-client) (2.27.2)\n",
      "Requirement already satisfied: typing-extensions>=4.12.2 in c:\\users\\prita\\appdata\\local\\packages\\pythonsoftwarefoundation.python.3.9_qbz5n2kfra8p0\\localcache\\local-packages\\python39\\site-packages (from pydantic!=2.0.*,!=2.1.*,!=2.2.0,>=1.10.8->qdrant-client) (4.12.2)\n",
      "Requirement already satisfied: sniffio>=1.1 in c:\\users\\prita\\appdata\\local\\packages\\pythonsoftwarefoundation.python.3.9_qbz5n2kfra8p0\\localcache\\local-packages\\python39\\site-packages (from anyio->httpx>=0.20.0->httpx[http2]>=0.20.0->qdrant-client) (1.3.0)\n",
      "Requirement already satisfied: exceptiongroup>=1.0.2 in c:\\users\\prita\\appdata\\local\\packages\\pythonsoftwarefoundation.python.3.9_qbz5n2kfra8p0\\localcache\\local-packages\\python39\\site-packages (from anyio->httpx>=0.20.0->httpx[http2]>=0.20.0->qdrant-client) (1.1.3)\n"
     ]
    }
   ],
   "source": [
    "!pip install qdrant-client\n",
    "!pip install -qU langchain-qdrant"
   ]
  },
  {
   "cell_type": "code",
   "execution_count": 22,
   "id": "c0da0d8a-764d-4507-b396-a85563c96a2a",
   "metadata": {},
   "outputs": [],
   "source": [
    "from langchain_qdrant import QdrantVectorStore\n",
    "from qdrant_client import QdrantClient\n",
    "from qdrant_client.http.models import Distance, VectorParams"
   ]
  },
  {
   "cell_type": "code",
   "execution_count": 23,
   "id": "40b640d6-0554-4152-8730-e686913fe253",
   "metadata": {},
   "outputs": [],
   "source": [
    "# Define storage directory\n",
    "persist_dir = \"qdrant_db\"\n",
    "os.makedirs(persist_dir, exist_ok=True)\n",
    "\n",
    "# Qdrant configuration (local)\n",
    "qclient = QdrantClient(path=persist_dir)\n",
    "collection_name = \"legal_collection\"\n",
    "\n",
    "# Create collection (if not exists)\n",
    "qclient.recreate_collection(\n",
    "    collection_name=collection_name,\n",
    "    vectors_config=VectorParams(size=1536, distance=Distance.COSINE),  # 1536 for OpenAI\n",
    ")\n",
    "\n",
    "# Load to Qdrant via LangChain wrapper\n",
    "qvectorstore = QdrantVectorStore(\n",
    "    client=qclient,\n",
    "    collection_name=collection_name,\n",
    "    embedding=embedding_model,\n",
    ")"
   ]
  },
  {
   "cell_type": "code",
   "execution_count": 24,
   "id": "c994efdb-d29c-4f6a-a35f-03de4d5c574d",
   "metadata": {},
   "outputs": [
    {
     "data": {
      "text/plain": [
       "['3b08e96e-830e-4bd3-b097-4f389e7ef601',\n",
       " '88530bb4-c1d1-4d54-b90b-7b8076f6f062',\n",
       " '3013b33c-b334-45c4-8ebd-068a9ac52ede',\n",
       " 'a3299469-14fd-416e-8370-8c9163a07c22',\n",
       " 'ec77f5c2-1794-4ea3-a429-100b928077bb',\n",
       " 'e9ce6b2f-69f8-4a01-bad3-12afd81a5def',\n",
       " 'a65c6337-d266-4e2c-a78d-5496788fc08d',\n",
       " '9aac43cd-06fe-4a27-b8ea-4476b1609a91',\n",
       " '3dd3a4d9-9623-45c3-99a0-4317ee5fb832',\n",
       " '949790c8-4511-4b0b-8d84-2dc649a74c44',\n",
       " '29fe9638-a619-417a-a275-ae92b1b99fb1',\n",
       " 'bfb6d189-ac14-4dc7-89d0-2467eede45c4',\n",
       " '5fd3970b-f04c-4aef-9d28-8d33903c0c23',\n",
       " '19e24bd9-63f3-49fc-9c63-b9783256cdce',\n",
       " 'afb0df9a-5a88-4a84-a5c6-b415c6f732e8',\n",
       " 'bb569c33-0000-4d3e-a781-db8b3af92030',\n",
       " '4c3371d7-bcb2-42f9-aa88-01d1b42e70e9',\n",
       " '4fbea6ec-aeda-410d-a8a2-39367f1e5b8c',\n",
       " 'be430c9c-817d-414c-8d2b-13a7037e9b86',\n",
       " 'e366dde5-06a0-47a3-b3a0-7a130134bcf9',\n",
       " 'fdb26dc5-03e7-4e1b-a88f-8b64c03d9fe1',\n",
       " '188a0243-24a7-4d6e-b93a-b7a2e98dbcf2',\n",
       " '381036c0-b467-46e3-8402-c8333c46fb87',\n",
       " 'c5fa6aea-a509-4c91-801b-29c38d443e96',\n",
       " 'd00ac70c-b14c-4fb2-bbe1-106c94f29841',\n",
       " '915fa3f4-27e4-439f-8897-ccd45efd090b',\n",
       " '946f56fb-7d29-4d69-b2db-dd4c4d8fcba9',\n",
       " '4e89d8a1-4e60-443f-8f57-845f2437fd95',\n",
       " '980a4f8f-27c6-4c00-ad74-227d552ac1d5',\n",
       " '49bd4f8b-1ba7-4020-ab5e-19b7b8f8f883',\n",
       " '4a746397-63d2-40a6-841e-80fe2a1ff18a',\n",
       " '3c0a5f3a-7c03-4108-9533-c6ae4b28eacd',\n",
       " '8a1f261c-f1c3-459d-b036-81f055347eac',\n",
       " 'b2c4dc14-22b4-40c8-88a5-87fce95cb878',\n",
       " '1bb3ca36-ef23-4a26-ba8a-6293f21ede6b',\n",
       " '8234ba3e-7e97-434b-8e60-44bf216488f0',\n",
       " '8c23c981-dfa1-45c7-8b06-3f52b1cbaba3',\n",
       " 'f104232a-4e8e-4bc4-a95b-c221fc4942db',\n",
       " '1edd1a56-5515-48f8-88fa-13fa38ff767b',\n",
       " '767104a2-aa96-403b-9567-626661931b14',\n",
       " 'c4a57737-3606-4d8b-b4ca-278ded05ba21',\n",
       " '1fd87ef7-52ea-4ebd-aa2a-67fb4d172126',\n",
       " '02bd7e82-7591-445d-b37d-9889e44f5038',\n",
       " '7cf13621-1d23-4aaf-b650-e33be7771e9e',\n",
       " 'a2f41653-63d3-4b14-bfa6-5876670ed150',\n",
       " 'a09d5a94-83ac-4bf3-aa16-9f0f64e24662',\n",
       " 'b9ab0971-fe1b-47e6-aaa2-142358df68d1',\n",
       " '44861add-d781-4b8b-b0de-eb4df3f57d22',\n",
       " '19b2537a-a4fc-4fc1-8c49-7be30adeaa02',\n",
       " 'c7ab12c9-94d3-4d27-bbe0-605b1bbdf871',\n",
       " '5033b822-ccf6-487d-85db-2aecc3d9f87c',\n",
       " '3cef5a5f-90b3-419b-ad56-25a1db7141c4',\n",
       " 'b6d41113-deb9-409f-aa04-ebbbec28fb04',\n",
       " '60670435-c7a0-4998-ab7a-f9f099392bde',\n",
       " 'ce687ada-5b3c-411b-86c2-53cbc1ba67a7',\n",
       " 'ab3d7ce6-43b7-468f-8e8c-872363ff6d85',\n",
       " 'b377ec04-324f-4ce3-ac69-9d922f746bd1',\n",
       " 'c4036490-7131-4a9d-ae40-82a3100aa880',\n",
       " '85708a8d-79de-4c65-854e-79c8b17be4d0',\n",
       " '45eb8ac3-0638-4eff-ae5e-a9821f2d8c0d',\n",
       " '49d61853-9794-494f-93b0-2edc22e8880a',\n",
       " '32556a7c-7e06-4b78-aa61-2f926281d855',\n",
       " 'cf98ee85-7684-4e62-87a8-09e0820df3fb',\n",
       " 'd65bdac5-ba32-4a6b-b150-ef163e601ad0',\n",
       " 'c005f4c0-5c8e-4478-a8df-30041276d005',\n",
       " 'f97e87a4-2cf4-4fbe-b75e-c9cf8bdba242',\n",
       " '56288837-bbb8-497b-bb86-9cd46e6c28fc',\n",
       " '1bf0ea22-4e31-476a-8caf-608412417d08',\n",
       " '410aa751-5759-4eb2-bb40-82c4c783f2a7',\n",
       " 'a675d1cd-3652-4296-80e3-bf8f1eae5c8a',\n",
       " 'bb0df873-8437-4b3b-a338-dfae0acabd74',\n",
       " '74937e67-9abe-432b-8391-2d92e2546fc0',\n",
       " '3cd3da4f-d391-42b3-9d6f-6fd5b493bd92',\n",
       " '4cd81501-9d61-4d41-8e06-b8b5df3d3993',\n",
       " '060a0286-a248-4cd0-a384-48529c5c501e',\n",
       " 'a77f2864-ff0e-46cb-9abb-1068c25052b1',\n",
       " '9245f495-2d7c-49c9-a188-b70d2cd5b5fe',\n",
       " '54453556-4995-43c8-a4ce-fca55e0d21e5',\n",
       " 'db7d5d71-222c-4d8a-a380-1f70cd11f185',\n",
       " 'b9decc70-edb8-45d2-afd6-cc7ae311a79b',\n",
       " '5d88e2d1-35e9-4058-9772-03ddf6f12ee7',\n",
       " 'dff7e567-e8b2-463a-967e-1c3135ce42a4',\n",
       " 'a9316bc7-d5b4-485d-9446-54d7911d8829',\n",
       " '0d5f337a-bc96-499f-9f6e-c0e2122b1d27',\n",
       " '995900a0-f351-4b52-a0f9-b5e09496e634',\n",
       " '70182b13-b174-4ca2-91c9-c432cc1a5a8d',\n",
       " '40d02d7c-13b8-468a-817d-9e95297805fc',\n",
       " '3b93327b-78a4-4bdd-b669-5efb8ef3b954',\n",
       " 'a9f734c2-3b24-4b59-8d65-be9c9b8aca3c',\n",
       " '7632116c-e6d1-4ee5-94dd-37ba9359ed31',\n",
       " '7cfb0374-ed03-4b47-b92d-346dd7274192',\n",
       " 'a4142016-b2f4-4103-acc3-1a053f1419af',\n",
       " '53e65d90-6fae-40c8-a132-91309988899b',\n",
       " '2f72270e-39ca-45fe-95e1-7c051c46281d',\n",
       " '6f932ec8-160a-4c14-b935-891b95aa09a5',\n",
       " '6ac98bf7-965e-4469-af93-ba4e7492c83f',\n",
       " 'c2b7bc43-a5b0-40c3-ad63-3bb9a515be80',\n",
       " '7029333f-7c54-44b7-9517-33c9808454fd',\n",
       " '4e336c2f-173c-4422-a8be-e11308db2b21',\n",
       " 'f12f7c7b-691b-4d9a-b743-30f584ae7134',\n",
       " '630df161-99f6-4dee-a077-60941bbedded',\n",
       " '1f234ea9-e71c-471f-9a11-abd93ea6f7fa',\n",
       " '1f7668d0-6a20-457e-aa73-5b8c9f36456c',\n",
       " 'dd06b746-b86c-4f1d-ba27-7dc51941e2da',\n",
       " '6cb769d8-8919-4cc6-b3b5-8ff45d0ac83f',\n",
       " 'f1969c44-115c-497e-ad1e-c779ea0d7602',\n",
       " '480350f8-5bfb-4e6e-b736-582506280791',\n",
       " '0707c01f-7446-480e-825c-755b0c0ef59e',\n",
       " '2e9914c1-e45b-41c9-a986-1116e6e23666',\n",
       " '137de9c8-696d-4ba5-984d-edda2b9e3fe2',\n",
       " '33aa5a13-8ab7-4715-8d1f-142de85f68c5',\n",
       " 'ea20fd94-c2e4-4ffa-abc0-8f05870a32f2',\n",
       " '7c77e883-e2ca-4b01-946d-6012e5cca624',\n",
       " '4b66ceda-cd28-46e0-99e0-797f76b89aba',\n",
       " '0f20b1c5-07d3-475c-afb7-f46882375b42',\n",
       " '851fcef6-68ac-4164-8cb0-a3a1a117836b',\n",
       " 'e63b7c9d-5684-4a96-af07-3320cf5c37c9',\n",
       " '14278076-826c-472c-9b8d-43091a29e8c0',\n",
       " 'a26dbe62-2e6a-446f-906f-b283361a1692',\n",
       " '80bde5ad-a3df-4da4-aba0-e9b67fa5d76e',\n",
       " 'cf9a52d8-fc8f-47ec-b789-1fcc45eb0421',\n",
       " '95687066-d672-4722-bad1-6cc72fb7b9c5',\n",
       " '33178c29-1a30-4caa-a6a6-85e5fa0558ff',\n",
       " '14adabd4-cba0-499a-80ec-0e3f9aa66c40',\n",
       " 'd2e647ba-c725-4a26-a691-7e7a39712ca3',\n",
       " 'dc597292-92e9-4b54-8af5-43b6127fd690',\n",
       " '65ac8396-5fee-4b2c-88f7-485fa77fcb04',\n",
       " '00098a81-c86e-4c40-a257-c7a4d13f2eb5',\n",
       " 'e8479d9d-e7d3-4097-aa3b-bf1a51363b04',\n",
       " '068f3750-e3a5-4829-85e6-a9dea15bae25',\n",
       " '8faff557-e1b7-4bfe-a5f1-ac1b6c93c805',\n",
       " 'c3796a0a-2fa7-465a-a820-21598454e6e2',\n",
       " '990a7e60-e2fe-4470-aaf1-431535f9feca',\n",
       " 'b6c61c24-a4d2-4a41-ac73-7a1222247f32',\n",
       " '6e501df6-27f7-4fb4-8c2d-46b9233c1a35',\n",
       " '2abd7a21-5dcb-4b09-81fd-819ffabe20ba',\n",
       " '63410211-feae-49b8-a39c-37eabb33f5de',\n",
       " 'b622bbf0-3e12-45f1-b5c0-27764f699e90',\n",
       " 'f83839ea-bd10-45a2-b559-76dfe06adc17',\n",
       " '945013b6-5cfc-4517-9162-0cd67a0c279c',\n",
       " '705a9ad7-213b-4b1d-957e-ce61a36418c9',\n",
       " '47288db5-58b1-4d3c-bf46-6f550e41f6ae',\n",
       " '99385fc6-dfea-4e30-8e9f-399b959c8890',\n",
       " 'd3c1768c-2fde-4ad3-bf0e-8a101c2d3025',\n",
       " '1b29e045-403f-421a-832c-972ae7a195c5',\n",
       " '13a750a2-9f52-4202-bc26-692adb8945ad',\n",
       " 'f5f45e95-5fd2-4fe7-b62e-63116caa73ea',\n",
       " 'd239179f-63e6-4974-b12f-7d012d5ad40d',\n",
       " '71a936ef-63fd-4845-b933-159cd2b31e28',\n",
       " '71846dbf-6fb5-4fc6-a0eb-f12fbe18b40c',\n",
       " '163d440e-fd9d-4dc8-b7ab-08b9e6c1ec39',\n",
       " '11f67619-7ac4-40fa-b5ab-423dafda2b7a',\n",
       " '7fff2855-6273-4a33-bd2e-c7af0886561b',\n",
       " '941641ca-e596-40d0-a89d-b6de8f9ad3ad',\n",
       " 'e1fbdeb2-f05e-4b20-b24c-f298fa41746c',\n",
       " '8eca6e1e-0ecb-438c-bf85-14f281a5f7fa',\n",
       " '55add40c-e20a-4607-9445-149ed173663d',\n",
       " '77f69d1d-7483-4f1b-aa93-270c66ce5928',\n",
       " 'a20048ee-c561-4270-a383-91fa63493f09',\n",
       " '94a03f56-9084-434f-92c5-769f261844a5',\n",
       " '536486b2-778f-4a03-ac7a-fef37f004f1b',\n",
       " 'ef9ffa78-bcd5-48ad-b195-13d899356006',\n",
       " '4579e6d3-8283-4f8c-846c-d873e35065aa',\n",
       " '86bb32fe-d278-487a-b705-c56d6ca224df',\n",
       " '5f4142c2-05aa-4a1a-9e54-b06262788233',\n",
       " '0e05492a-e2df-4060-a262-f7f1010b1c86',\n",
       " '8b593ab8-92c7-447d-b167-b0152da68e7f',\n",
       " '068215d1-23eb-470e-86e5-029b04dcba81',\n",
       " 'd0e7594d-2c99-4aa5-aeb4-b28fb9992480',\n",
       " '7309cdd8-8c43-411c-91e2-d08d5ae38165',\n",
       " 'd8921241-81b0-4619-a3b8-348e052db943',\n",
       " '1120e5f5-24ca-4b02-bbc9-4f3ecc0c6568',\n",
       " '08311d71-2522-4d7b-b005-fcf06eb9264f',\n",
       " '71384978-9562-4fa6-95d9-35f90408e64e',\n",
       " '10484bb3-efbd-4698-80d2-11f04a29904e',\n",
       " 'efa13582-42e7-44a7-813a-81a2b940a171',\n",
       " 'd1d0e6e4-1002-4b67-9b2f-8fec784f9d6a',\n",
       " 'a91f5ddd-1ee1-4d28-92fd-6e770f7a3bbc',\n",
       " '9486ea70-895a-4afd-afcf-f1ce63bbf923',\n",
       " '9c00bccc-bc75-46f8-bf1a-144ef6ff03ff',\n",
       " '01152624-3b3a-413d-874e-c1962ed94d88',\n",
       " '0af7a737-535b-44f6-86f6-69cbbc865964',\n",
       " '3b483b03-ec60-4243-813e-9181be75e0c5',\n",
       " '3611ef1f-0879-409e-876d-2d99c1cc8071',\n",
       " '6a7e8dbf-d673-4100-809f-a522c91a0479',\n",
       " '49d7ea19-b76d-4198-8d9a-e60f6bdbf479',\n",
       " '049e8b29-d79e-4933-944b-8d073acd25ff',\n",
       " 'd5da2a50-e952-4718-ae9e-69d4819fe1a6',\n",
       " '31354457-ae00-4c42-aa49-6db5b7f891a7',\n",
       " 'c3b44d52-23b8-4f2b-92cb-5d9006cc093a',\n",
       " '4354f146-8443-4289-b8e6-dfd01b1740d6',\n",
       " '6d375fa0-9c72-42d2-a11e-2dfbcceae65d',\n",
       " 'a1bc3a25-3b7d-4b6a-8df2-42d5c5fd2e06',\n",
       " '01cf2d96-8559-4603-8f06-88a73510840a',\n",
       " '3c31d8ed-a4d0-4c84-93bd-64c14d8f93a6',\n",
       " '3a756ad8-47b0-40b6-b214-5c7552efb744',\n",
       " '13b4a1b4-80b1-4f0c-8d2f-560690f42c1b',\n",
       " 'c32c9ffb-8afb-4187-927f-f35f18d72bb2',\n",
       " '606ad69e-e9e5-43da-8e45-199f4be7cf6c',\n",
       " '22eb1ab5-c712-4690-b4d2-334e028fb26d',\n",
       " 'a74f585a-ff3b-44cf-b7be-25eb7b06832b',\n",
       " '820addd8-d57c-42f7-afed-083f8106aa98',\n",
       " 'c44776be-c057-4083-aa4d-da501415e054',\n",
       " '6f8b55bd-aa84-4cb0-83a9-76ea88a72032',\n",
       " 'edf5f533-a4f2-4ed8-b1ed-0f4fca442302',\n",
       " '26a99928-a215-4278-a3fe-5c02d73e745e',\n",
       " '88e72878-ea79-4625-b392-b03ae12a1032',\n",
       " 'c47afc61-0618-423f-8e49-a3661e2cedaf',\n",
       " '0d27e09f-ab58-4c06-bc03-4824d6f3f4cf',\n",
       " '7f7b2943-171c-4fdb-bbef-750315d8b983',\n",
       " '02c80da9-b07e-4ef7-973d-543ac8fcbe9c',\n",
       " 'dc6c1f3a-1756-4fa3-ace6-ebdcd8138a78',\n",
       " 'acab6390-35ec-4710-b35e-661630179d51',\n",
       " '794e2262-bed3-4444-ba73-20d83c7a7e7f',\n",
       " '92a9fe0f-0ec9-4914-8817-77f7680dd289',\n",
       " 'a181639b-80bb-443f-bb52-6c93f2a38072',\n",
       " '5bec9311-55f0-41ad-9a9e-a9fbb8cb1a20',\n",
       " '860a0a66-b724-44f0-bd02-2c765c3d5fec',\n",
       " '899c8c0d-8147-4ac2-a5f3-426a36a5fe97',\n",
       " '58888ccf-9437-4466-8526-619bdafa8b56',\n",
       " 'dcfb428b-4b81-488e-9fb1-d531eb7375f3',\n",
       " '9a8bb2a6-50f5-48d4-b9cd-53de2d953aeb',\n",
       " '180aa72b-0119-4a9f-98f5-31f17f9e7aa5',\n",
       " '9705a25d-0532-4cfe-a27d-99e05a90efb6',\n",
       " 'ca1daaf9-4bd8-4456-95e2-ee847096b784',\n",
       " 'f8bcecf4-7597-47a1-b7f7-98f97b2ea4f1',\n",
       " '05fb0bba-f54b-4600-9d14-fb773012fec0',\n",
       " '891a611a-e653-4033-aa8f-5e22a1aaaf79',\n",
       " '36eeae5f-5bfc-4f8e-b242-66745c9e5536',\n",
       " '8eeee485-1842-477d-a6d8-57cb33a4673e',\n",
       " '101cd720-fb23-46d3-8474-1d500420f3d7',\n",
       " '1e309229-5ceb-4d0e-8647-293e794c28ab',\n",
       " 'd00c6735-2ba4-450f-a467-3fc4e94e1075',\n",
       " 'fb9a0c23-8a62-4497-8735-758844cb40ea',\n",
       " '0edf8eac-adb6-4da6-9b7a-608e55a899fd',\n",
       " '5a015465-e6d4-4a22-b416-6d2291945fe5',\n",
       " '93ffc4bd-cb96-4e6f-9d2d-7277f3342983',\n",
       " 'aaac0bc6-e973-41fe-8e65-b251da21d490',\n",
       " '9f8e091e-0d53-47a5-b5f8-10ddd173bf13',\n",
       " '2988155c-b04f-4f08-befe-5e7303941366',\n",
       " '6f8dd190-8d8a-4f4c-a991-354036875088',\n",
       " '147e24e1-28b5-44b3-a2ca-3f8bdedb862b',\n",
       " '5cc56702-8e30-4ef9-8ab0-f78021dd1001',\n",
       " '70274dbd-a832-43b9-b02e-8fba23ed339a',\n",
       " '7b97c5fe-da2e-4e67-a68b-916e0484b31e',\n",
       " 'e89f5091-b2b0-4ce6-8d40-4e4eb506671d',\n",
       " 'a298cc11-58df-4fbd-b0e3-36c1eb061e3d',\n",
       " '2f79687b-6c0f-4f9c-9daa-cd31ff007eb8',\n",
       " 'ce023c4d-7584-4d60-9d89-2757d717768d',\n",
       " 'db25809e-da86-45f7-b5b3-90600bb0374e',\n",
       " '8b5d521c-3970-4340-8640-a4233199b39e',\n",
       " 'c3a2a091-d782-458a-a948-425368bf9aab',\n",
       " '3b040fa3-3c22-4cd7-828d-fa8d94f551e9',\n",
       " '1115f0e9-7bd8-4331-a89b-0228db590a3e',\n",
       " 'edef5ca9-dfbf-4d49-bb56-7da3b6a05f34',\n",
       " '62ee046c-7706-4c8a-bb9a-1674b96351ec',\n",
       " '7a377c92-55db-4105-a3ac-8c2ec4249eed',\n",
       " 'c5372db3-0a21-4e0b-bf13-df4179d8737f',\n",
       " '6addb76b-bb5f-4529-8644-53d2584ca3a4',\n",
       " '00de1e5a-6ca8-4b13-854f-df158ef03414',\n",
       " '6b580d86-4dc2-4b6e-8eb8-97b63810020f',\n",
       " '46f39f4c-2071-411c-b319-08a11560cf37',\n",
       " '0daa43df-2f80-4f74-ab95-bc50c41992d4',\n",
       " '13ee045c-f18a-473f-bb98-b358b80a2141',\n",
       " '7d2662d2-a4f5-4809-a71d-c6e9d373412b',\n",
       " 'a4cba603-9e12-49ee-9fd4-89d548972f0c',\n",
       " '450bc90e-4b4f-4a8b-b38e-690c666d9525',\n",
       " 'b7bb746d-444d-48e2-9c40-b7f9ef29089e',\n",
       " '168dff17-6b48-4f85-81ea-df41505c48dd',\n",
       " 'a4051e93-0cec-42b3-9255-7173caef69fd',\n",
       " 'f3f1d315-3e8c-475c-89a4-672d8ffbb479',\n",
       " 'b611b4f9-930f-457f-8832-ae365a13ef02',\n",
       " '41abf29d-a790-4433-84c2-b893e9e39f04',\n",
       " '985cce58-1a78-494c-93af-5243926537d2',\n",
       " '6f1d44bd-3487-4d33-ac60-156553d26bff',\n",
       " '79e0517d-430a-4619-badc-1f0aa02df459',\n",
       " '45ccbd8a-8d84-4a6e-979e-88cd591c5f03',\n",
       " 'c15da61d-53f0-43c2-9d96-6182bcd6589f',\n",
       " 'd2331904-7268-4bab-a06e-5ccabfb6b3a6',\n",
       " '70e476c4-4cd4-4f41-ada0-3c766f4967de',\n",
       " '68d743dd-4558-4895-b9ba-9619ea2bffb4',\n",
       " 'b192f8a3-103a-43b3-afa8-a4d75263457f',\n",
       " '4d21e57e-3fe4-4379-84aa-2e4ae1cc244e',\n",
       " 'd44df484-a640-49b5-9e65-0b8a747024f4',\n",
       " 'eb33bc5d-a937-4342-8dab-17faf8501853',\n",
       " 'ceea564c-7e82-4ab5-a7d5-2be0d24f2f33',\n",
       " '11e895d1-ae77-463d-932d-1bb75302bbc0',\n",
       " 'cdd26590-d097-46a8-920c-d53580d950e0',\n",
       " '007d0094-4516-4165-b228-bce450af1920',\n",
       " 'd21d0aec-1005-40a9-baf3-c316c8a7b3d7',\n",
       " '879f1579-7005-4206-a44f-f21e6619fd69',\n",
       " 'cac1a0ab-551c-4b16-9985-4345a7f5a60a',\n",
       " '783fbc24-0804-428e-8737-cfcad711dac4',\n",
       " '04a0a13d-5a7d-44f1-b58d-7ecb3ca4c60d',\n",
       " '768082f2-12ba-4fec-b454-b999a9bc74a5',\n",
       " '3e3e9424-4df1-49e8-aede-14d4ecd9e634',\n",
       " '5d703794-75fe-458f-aa22-5e89e2d9b26e',\n",
       " '81837306-b81a-4ec2-97b4-7c9996141ef8',\n",
       " '4acee50d-435d-4ac6-a2d5-c4cb9a1fae76',\n",
       " 'd577948a-c77d-48b5-9898-f6feaac23113',\n",
       " '11701801-71ac-4981-9f03-ddb93e55bfe5',\n",
       " 'ee9c78a9-bd3d-4b9d-892f-4327dc10f872',\n",
       " '1bdfa945-2885-491f-977c-c8df2e0fe7a2',\n",
       " 'cb89ddf3-ffe4-466d-b612-21dc94a1f74c',\n",
       " '67d543c3-6f43-4822-a062-8e652aafc2b0',\n",
       " '478b6191-1e73-4a86-b012-d59e1841519f',\n",
       " '5c47bc56-b404-4746-b2c5-dd70ae69b3d5',\n",
       " '02e6b652-a218-456f-8d0b-47cf2300605a',\n",
       " '70ec0a52-067b-4ddd-8b29-7c612f9d4671',\n",
       " '4ba6886f-3641-4d13-ad19-c1f0b8292a8c',\n",
       " 'b2e15cc3-a4c4-4a3a-9aa7-8d5b00d6c2ca',\n",
       " 'b01c9f07-fea0-431e-85c1-02aa1e2560fc',\n",
       " 'b2a1243a-32e0-4855-9f40-89e8b65d94bc',\n",
       " 'cdd716dc-1873-4b54-9c31-b706ffac0cdc',\n",
       " 'e167b724-2c94-40ca-9fa3-6e8f5471653b',\n",
       " 'ac7f6b9a-9b07-47dd-a4de-f94d8351da11',\n",
       " '634fe45e-88e2-4843-9c26-79ee1bc7a0e0',\n",
       " 'ad5ce776-c1a1-4883-a092-295af879ccdf',\n",
       " '3ceb9ef6-9a0f-4500-bc52-53b5e756ebce',\n",
       " 'ba379dee-8fa6-4132-b059-2c20962cb357',\n",
       " '8d396dcb-03ca-400f-a649-0718f0166793',\n",
       " '11e2bed4-ba5d-4a5f-883e-2e6e8ef89673',\n",
       " '44a59832-0ae3-484d-8a64-8306ca1c1bee',\n",
       " 'f2521b0f-3cce-49bc-854b-bb143107e8f2',\n",
       " 'ceb0fbbc-7ea8-40cf-83a5-9a8b27525cc1',\n",
       " 'efae4382-b37a-43ef-807e-5ad8c539abd0',\n",
       " 'bce7a930-77f7-4718-b64c-ea4e081d4f05',\n",
       " '5052fa07-d63e-4d24-a75c-e9453822206c',\n",
       " '619937fb-cd62-4a51-921c-f0794692cf5e',\n",
       " 'ac0b1ba4-87f0-4ffe-a8de-d0c408ab13f2',\n",
       " 'acebaa7b-70af-4dbd-a0cb-0318535536d2',\n",
       " '50d1e6ee-0373-4b95-8bbd-40ad5b8c3492',\n",
       " '8c907734-0191-4509-aaa1-f778a9e0dfad',\n",
       " '9a3b4f0e-a521-4c15-8be5-ac8a38beb1a2',\n",
       " '103467a3-9744-413c-a069-e58400950677',\n",
       " '68e771a9-2a5a-478e-9854-acd78f9d1a5e',\n",
       " 'f8f276b2-9d8c-42ad-90f8-cdee795ac64b',\n",
       " '4111c1d6-9b8c-4374-97b2-dd2f8c573a1b',\n",
       " '99de5a90-df4c-4351-b399-2ffb63939312',\n",
       " '97e57669-a86a-4f66-8520-68f7c19e7576',\n",
       " 'fffcaee0-4881-4aef-ab70-cc670160513a',\n",
       " '8dc541cf-e3f5-4870-b46d-5166a45cb12f',\n",
       " '2d360fd5-ec80-4dac-a284-03231990ec0d',\n",
       " '8d1089be-4b3b-47b9-99bb-683fa4afc265',\n",
       " '1c596d31-ec82-468a-b414-aea0fa1a0438',\n",
       " '305ac9c2-c46a-4a20-a84a-4ca585230840',\n",
       " 'a347b2e5-27f6-4af8-8194-4a4c56ef5cee',\n",
       " '0f910e69-4f71-4f07-a0ca-e8a2af2d2b73',\n",
       " '389cc595-c219-4715-aa70-75b440ad85d8',\n",
       " '69a1a3ad-c979-4de3-9240-c86509769d0c',\n",
       " '11fa4677-bce4-4313-baf4-1d256ccf9ea8',\n",
       " 'b29f118f-3096-4938-a9b4-85442cbc3289',\n",
       " '2f228d29-8b25-46b4-bc0c-cc55f60ac07b',\n",
       " '6f352feb-1e7e-4109-b822-0f270a93f4be',\n",
       " '725f0dec-8a6b-481e-a5f0-99ea829fb4c2',\n",
       " '40cdbc0a-1c73-4a73-974d-3cf258f2505e',\n",
       " '4e2826c3-fb82-4bb6-93f1-a44dec643dd0',\n",
       " '3b5fa1aa-d1ec-4542-8694-63db5047b8c1',\n",
       " 'ecb473d0-abcb-4b11-b1c7-942eaa662373',\n",
       " 'c2be042f-68de-4e54-ba8c-a8b7ff5f9d3b',\n",
       " 'da6da9a5-5bcb-41ce-b2e1-5698cebaa625',\n",
       " 'fc27dc6b-1066-443f-8931-e6bf2ae9c6ad',\n",
       " 'cd2dc54e-090f-4f8a-a2d0-2a38ab984def',\n",
       " '67875e56-1fce-4f1b-b5c3-a6d430d2f982',\n",
       " 'd0d094a8-0543-4db3-9fec-18cf3825943c',\n",
       " 'd85ecd8f-ba32-44e7-8039-2bd2503e6759',\n",
       " 'b7c40cc2-a1b3-4ae7-bc1d-ab77ab5537d1',\n",
       " 'e474e6cd-2f08-4438-8bd5-f997d1f70f28',\n",
       " '4d518196-331e-4ccd-91eb-5c5cd950105b',\n",
       " '83851614-4ad7-48c2-b007-51dd8cf6fbce',\n",
       " '71314f2c-7353-43e1-8858-e37eda493561',\n",
       " 'aa46bad9-ab00-4d72-9c90-fe0884315501',\n",
       " 'aa1340eb-9e84-49b7-ac65-4c3edb9ec8c2',\n",
       " '0090a679-8a22-4205-a81d-aff990faa2ba',\n",
       " '2dafd1e5-27d2-4c21-891c-7098db1f0102',\n",
       " '34558ce0-01b4-4461-8f52-76a76667fb19',\n",
       " 'adc407c4-e1d0-42f4-a986-fd51fdd29dca',\n",
       " '9c26e6cb-b5ab-4a4e-886c-214a1819e2cf',\n",
       " '2aec968b-0722-4a3a-9aa2-ed8b43d8e1e2',\n",
       " 'fde4bbab-cbfa-4eae-8b93-e7a1ce08e9f7',\n",
       " '3639ba06-62e4-4cff-a36c-625afbe40b52',\n",
       " '307bdf4a-efd8-40dd-89f7-3a5186ac4912',\n",
       " 'c86a503c-f040-48d8-b778-8271f9a8f8c8',\n",
       " '7a976e41-cd11-4cc5-ad12-09101744d520',\n",
       " '6dcf9a0e-542b-4b89-9bee-6270dc1479d9',\n",
       " 'ee8f9f31-8ab2-4493-86da-a4cb274960a1',\n",
       " '6250a801-4279-493a-9260-8ed0bdf0844a',\n",
       " 'a42d3944-758f-4f51-98f2-c1d915b261d3',\n",
       " '88ddfe3f-9353-436c-a193-5497850a8f29',\n",
       " '1ccfa7b4-4ffd-4434-af11-cb2cf8eea619',\n",
       " '6588f5ec-0628-4586-8cb5-f8d83a9ab35b',\n",
       " '255ed7fc-72f1-4470-abd6-21d1374a4ff4',\n",
       " 'f05fe415-0c5b-4e5c-98a1-ba7b436d4d5f',\n",
       " 'eb880329-568c-4066-9790-1fea1a4442b6',\n",
       " '53a49021-8d2f-448e-9a46-fa2b8505a3a9',\n",
       " '7f8d5fec-f712-4599-a35a-80cdd21214a6',\n",
       " 'bcfe5e2f-60b6-447b-9977-6c6ffd11e77c',\n",
       " 'bf014a49-1a20-4605-850d-9306b3b2c0d5',\n",
       " '7744a8e1-a119-4b2e-8b84-edd5e00972eb',\n",
       " '6149af66-e8dd-413a-9cff-6bb02bec8964',\n",
       " '96695539-6f31-4f17-821e-b7eb2f394c7e',\n",
       " '65bef863-7038-4da8-9415-1619b649242f',\n",
       " 'c8450ab5-1998-434a-af0b-46088b59a125',\n",
       " '70834a14-b689-497e-92b7-9e15d219851e',\n",
       " '3d82b9c2-19ab-4570-912c-0b5b16949aaf',\n",
       " '73fa7f19-4751-405c-8f8b-ae325a624ddf',\n",
       " 'ad742a3b-0c37-4625-abfa-8fd87f2b63c1',\n",
       " '0c3e215b-2490-4279-8d7f-6cc6793e61d2',\n",
       " '0273fe34-390b-4c41-9388-eb91e31637c0',\n",
       " '33c5b6f5-b285-4001-81e4-5a2de06e6ac3',\n",
       " 'ab602d58-903e-4d00-b7bd-72d550fcb38a',\n",
       " '0dd40cac-d239-4b28-b7e6-5543af029872',\n",
       " '7255c55c-135f-4cd5-88ca-d9f032690f82',\n",
       " '8a4774cf-2f86-4e21-a781-667fc46c809b',\n",
       " 'f674339f-6bfe-401c-97b3-b63b78d49ea5',\n",
       " 'a02d6446-af21-4de6-a2d2-ad3fa65f5600',\n",
       " '5d3e0a44-29fd-4a78-a29a-a87eca39d412',\n",
       " '28d20a1f-5e12-445e-abe5-1df944cc81b8',\n",
       " 'c2dcbb61-5ff3-4f20-968a-1ddf051803ea',\n",
       " '60ea06e4-47b2-4584-9d0b-e5c538a25f6f',\n",
       " '21310ba3-15cc-4944-9374-2df66ed46a0e',\n",
       " '709a7d3a-51b4-4780-93e4-1010255a5b53',\n",
       " '44372c14-78cf-4963-b268-ebbb0853c7af',\n",
       " 'f214a3d3-8f3c-4aa5-a6b6-429f6975af8c',\n",
       " 'c3402ee3-b430-4a08-9602-3ed388a31775',\n",
       " '0f7159c3-8dcd-4cf6-8071-1bdd8ce29f00',\n",
       " '109b5550-eb4a-411f-bbf7-27c3a04cdeee',\n",
       " 'f49f3f1d-6ebe-4e52-baa1-96b6f20f392d',\n",
       " '3e02a894-ef6f-45d8-9e7d-dec3ddb8f3ce',\n",
       " 'f193643b-6de2-4c6d-b0f5-00dd950e2b81',\n",
       " '9529d9ea-edce-4d8e-8e13-d4854e040f63',\n",
       " 'd94401a6-2327-49ea-8524-9cb0fb14432c',\n",
       " 'e2776fa1-0093-47f4-893d-3a1d33eb453b',\n",
       " 'edb9f815-225d-419f-bf71-d744f50ba01b',\n",
       " '90e68256-0e16-4a8d-a671-7042237abc36',\n",
       " '622e03a0-6ebb-48d0-869c-95ac21ec2409',\n",
       " '4e1906c2-a9bf-4b9c-b4c2-14e4c0cd1d9f',\n",
       " 'da15ec7f-8179-4b98-9888-8f9ca97a3ddd',\n",
       " '8223eba4-8f68-4d95-ad85-87dc72d3606d',\n",
       " '8ddd2181-c68c-4b87-96cc-7c9c6d8f1e8c',\n",
       " '48609964-c5fb-433d-a5d0-4b4e2e98906d',\n",
       " 'ebc09921-e0a3-43bd-9728-7f5527568a68',\n",
       " '86b04020-ddd9-4d42-a8cd-06e3743080a9',\n",
       " 'f6c656cb-d0af-47c9-aa33-aed2f092133d',\n",
       " '8751bc46-ab2e-44b8-85d5-55893529d761',\n",
       " '3af9b750-b961-4c87-a87d-986574c66e69',\n",
       " '31846c63-57b1-4130-91cf-9b476d3043f2',\n",
       " 'f27db4e2-a0d4-4e82-bb28-d8db40ba33fb',\n",
       " '5d0ccd0f-b629-4a7b-91bb-bb2b3af87c98',\n",
       " '54506a95-18aa-42d2-9a0a-eed9add302fc',\n",
       " '28e434cf-1e80-416a-8cd5-c867b504468c',\n",
       " '2ccb2fb3-9c7b-4464-bd78-4eff0e3596c5',\n",
       " '8f784932-a6b1-4de8-b192-c506c3c0a9e5',\n",
       " '0e781c7d-cd7d-44b8-a697-fe93626f4e7c',\n",
       " '4fb6c212-a83f-4adf-a1df-55e743a184ba',\n",
       " 'ee329982-8184-4c80-b232-23fe7d27ec6b',\n",
       " '94a9179f-1865-49a0-9e70-8814bbc9c6c4',\n",
       " '97edb3dc-db24-4fa9-a48c-c20836e11ca6',\n",
       " '8cc00291-54af-4abf-b2c4-41801cd28c8d',\n",
       " '50ba33dc-0b62-41e6-a9e1-2ac92a585448',\n",
       " 'c0e9a947-2f7c-414d-a813-b2e1735959ab',\n",
       " '61992663-67d3-432e-8c05-eb440512c6c7',\n",
       " 'e5f82195-cd63-46b1-b490-21a238bf071c',\n",
       " '847d5af2-02d0-4f1b-a635-11730ff58c2c',\n",
       " '3690e64f-4f00-4c36-83c6-c112362e3cdd',\n",
       " '3a85a62a-f423-4dce-bb71-02d96fb12715',\n",
       " '23ca267c-bbe0-49fa-bb39-77a9533554be',\n",
       " '06fdd063-46ee-4aa2-8ae3-98e165ff6dcb',\n",
       " 'aa293997-d54c-4a9b-9c5b-8750212b1483',\n",
       " '540d856d-a647-4d4f-ba8a-4bff1ba24ab3',\n",
       " '055c77f0-68fe-4e2f-a710-acd3b66b604e',\n",
       " '6a516a13-7b72-4f53-a3b8-d93caa54b832',\n",
       " '0053382b-ebbd-4073-b0e3-dec91670e513',\n",
       " '20131f04-401c-41b1-8822-be215796cc58',\n",
       " '42d89751-f405-4f8b-b5a9-dfbf5b523d99',\n",
       " '367a8b90-cc0d-4b48-a465-673c7f0932d0',\n",
       " '071899d9-9a5d-4f9c-905a-e455070ecd91',\n",
       " '07f7a8d5-28a1-405e-827a-07a9bcf7fc4a',\n",
       " '6c8cefcf-d92d-47a5-b648-ee73d398571a',\n",
       " '44faa1fb-94f2-4b7e-88a7-4dc9b657ede0',\n",
       " 'c207c43c-d5f8-4718-80a4-f716dd57ff6d',\n",
       " '324ef0d5-80a5-475b-b3c1-659c7b9a4223',\n",
       " '2eb2463f-185f-4d07-b583-bda4bfab1468',\n",
       " '5683db90-5e85-4961-9fd3-115f9aebf4c8',\n",
       " '573517f6-bdf9-4e46-8bbb-67cac9cd7430',\n",
       " '5c96923e-b273-4321-8502-831cd3cea004',\n",
       " 'ae21fa8d-8558-4cbf-9dda-2ae2cc8bd3ef',\n",
       " 'bff4a3d4-6440-491d-93d0-27fb7370d7b5',\n",
       " '89ecded5-2161-4e68-941c-0b41c597116b',\n",
       " '3b4a2f2a-5219-4b95-8bc9-c750946a993c',\n",
       " 'aef9939e-5f1e-457b-86db-3738153c8a5a',\n",
       " '8a29db05-d8f3-4897-a7f8-ce30ca946b09',\n",
       " '6c10c3f7-465e-4a2c-8996-a8f0b16bc5b9',\n",
       " '8258479a-1a7d-4b04-8947-4d8779f89207',\n",
       " '229b0f10-526c-4529-ac50-95b9e613ba59',\n",
       " '1319e200-2d8f-4ccb-8e25-f0c7a32b19e1',\n",
       " '900ad835-ed0e-49ed-a1cb-e2311f5882cd',\n",
       " '74093f10-83dd-4a4b-960d-7aaf4339001b',\n",
       " '2fa6631e-ba21-4d78-b323-67dbba0119f0',\n",
       " '7e2e4348-47a0-42a0-b0a6-f96ad396f533',\n",
       " 'f946f176-fc41-4307-abb4-ce68f9952b72',\n",
       " '01cb8944-59bc-4b25-a4d4-fba8e5608ca8',\n",
       " 'bb13d5ff-9280-4d28-b316-6764f32e36f4',\n",
       " 'b01e91f3-4cdd-45b3-bd8e-edd712130ed0',\n",
       " 'eed938f7-639c-42ff-88cb-cb078a1b227b',\n",
       " '39d424ba-2606-4916-be58-2b6d0fd95e46',\n",
       " 'a5ad4133-c53d-462c-9044-ec5f9e97a79c',\n",
       " 'cd9b818f-2227-4412-92e6-bdf03390e312',\n",
       " 'b347a64d-78df-4182-819f-e0410d594b1b',\n",
       " '8d52fe02-fe57-4370-a04e-f9bef1c0978b',\n",
       " 'f9e0b6a4-6383-42c2-88b1-259cb2b21dbb',\n",
       " '1ba36667-c05c-478a-a0b9-58d7fef80c8f',\n",
       " 'd8070783-a8f8-48a5-9deb-b5dff1c7caa0',\n",
       " 'c776d2cd-4a92-4ff9-8820-3570ab0931ff',\n",
       " 'e8c6a126-ce26-4111-8a93-2899474e252b',\n",
       " '41b790a6-6fd7-4169-bd04-9a65bb5b08ab',\n",
       " '9d4069fc-37d2-42e0-9a93-80417569d905',\n",
       " '2b20d1a2-252a-446f-a9e2-d08c8e57395b',\n",
       " '2470e488-41c1-4def-9b49-f9d77e28abe8',\n",
       " '9ca5d9cd-9b99-45cd-bb7f-94b1f551a144',\n",
       " 'efb76c7a-1166-48bd-87cd-d5ffd26a8384',\n",
       " '7fb0d419-8d90-4592-a990-d8f1860977d4',\n",
       " '5ac309f6-6371-4979-a32d-a6ac13f6b9c4',\n",
       " '06688d54-1a98-4f02-86bb-2e796c7f27fc',\n",
       " '3f37963e-fd02-4c0b-807d-fc149f3d42ba',\n",
       " 'a98c657a-9916-48b0-b3bc-d390c5eb3af8',\n",
       " '6d3bf216-67ef-4874-b099-e130e9eada2e',\n",
       " '26771c43-4fa4-4d19-a8de-7283213fd1ae',\n",
       " '1db02233-040b-4dca-83a9-c41181dc0b07',\n",
       " '3bb91f87-b4f2-4965-ba77-2146e8c8728f',\n",
       " '3d5fbe50-cf86-4fa0-b511-1b715c1d021c',\n",
       " '0c73d3e0-376e-4033-982c-de00c7f2c03e',\n",
       " '2d73b912-8ee1-450f-bf1b-a45fad220397',\n",
       " 'e6b3b938-c598-4eb3-8d94-b9556e0161c3',\n",
       " '673dc6e9-c042-4529-9ed4-6aa570682007',\n",
       " 'c2db1d54-ef3f-4afe-80e8-80ae8b12b185',\n",
       " '7526f315-27ad-4645-82e3-811274d87f2a',\n",
       " '53d16af4-4811-46d5-90b9-e11bc95ec7e4',\n",
       " '71c5237a-cfbb-4e7f-87df-3fecea0006f5',\n",
       " '09d183b4-d20e-4d70-b9b3-bcaccd0de109',\n",
       " 'a4b6e72b-9774-4d52-9691-f6e02d2c0417',\n",
       " 'f23cddc6-b3ed-4d71-967a-e15c800dde25',\n",
       " '7c410090-b704-4240-b4ed-338714a1d2ab',\n",
       " 'a87652f8-55be-4c46-bb38-24e132de1af8',\n",
       " '60c24920-8ae0-4f30-be88-3db10fdfd1d8',\n",
       " 'd04334d1-863a-4eb0-89c5-b1ffdc89c8bf',\n",
       " 'cabc2321-ff62-4c75-bc3f-5b58781be549',\n",
       " '0c542c13-8c32-4ec1-ab18-4a0e0f0059e1',\n",
       " '996922b4-2956-4cc7-8564-f07f785372d8',\n",
       " '1783ef21-756a-4f3a-846c-4e178f2ecc68',\n",
       " '0cddad33-d097-4502-8432-7ca4a2e28de5',\n",
       " '76cf13f3-b540-425e-838b-73c04a6585d9',\n",
       " '30798209-1d24-4840-90c3-f98df413e49e',\n",
       " '0149fd12-5095-4f88-adbb-057aceb71d5d',\n",
       " '2015d2d5-97e3-4be6-897f-2460360da0db',\n",
       " 'b9c258d8-5a35-485d-98f8-2419d3e6de55',\n",
       " '141dda3a-fc88-48f4-99f7-1e69f624ed92',\n",
       " 'a97715a9-6552-44fd-bafc-2f4ab91f91a4',\n",
       " '708ebf5d-43df-441e-82be-7d95712f2a81',\n",
       " '29960e01-75c5-4e37-a012-940c55131668',\n",
       " 'e8b44655-8177-4b9f-a9b1-9f89b3f925a0',\n",
       " 'd3d78ba2-1384-437c-b529-ba5e7e0e7512',\n",
       " 'd02be5ad-fb5e-4f9f-a933-ddea12ea589a',\n",
       " '8a83106f-29fb-40b1-b210-d08ec50ff6c9',\n",
       " '8c2dac5a-d8d2-4aed-a707-941c0aa466c3',\n",
       " '7efe59e5-c0d6-45d7-b3bb-d0222255abe2',\n",
       " '8bb26214-a107-4a34-963d-020398939c8c',\n",
       " 'c8b1816f-fa77-4788-89e7-b312c2836b55',\n",
       " 'ff881034-5105-4d14-8e31-7c921a505c7b',\n",
       " '5015fb72-aede-4d8f-b259-acd999bc6049',\n",
       " '56b31ec7-d55e-40df-ade5-256f2d9fefac',\n",
       " '39e5dba0-a561-4c42-9be2-960535860980',\n",
       " '7afe31bf-4b49-440f-bb79-5bc15ce29bc1',\n",
       " 'e552dc5e-e4dc-493f-9ee4-6c74181e0646',\n",
       " '1f75b748-33c6-41a1-90e9-2660f66ebf54',\n",
       " '9a0b2a0c-7598-401c-ad8a-2f2386397533',\n",
       " 'ff6605ee-bdea-4cc9-990e-0a3a8dd1a7bc',\n",
       " 'b4c77bba-481f-45bb-ad14-6e4ec58a3968',\n",
       " '4f744ac9-6510-4ca0-beff-13128421de72',\n",
       " 'e8482f8c-f914-4825-a91e-ebb848a17740',\n",
       " 'ea49db3c-a1ba-43c8-9f1e-05bc4ba4f3f8',\n",
       " '81aef334-c683-455e-9033-cbd02410b64b',\n",
       " '463d8700-99d2-4d1c-a753-d7be1fa26517',\n",
       " '559d344e-ae94-491b-9048-c78560fcb951',\n",
       " 'e1032347-1e8c-486d-bd2b-9ed0585f75df',\n",
       " 'acf8fe09-42f0-489c-aea4-d5b483045583',\n",
       " 'fc24a6e7-178e-4a39-94d6-85e00c0d2ad1',\n",
       " '234326a2-15c7-450b-a789-b4175c3675c8',\n",
       " '091b4299-1142-430c-a19b-a94d06e4aa54',\n",
       " '154097da-100b-4a68-b7a4-ab8a5a8e17e8',\n",
       " 'ab76cf5d-a863-42e7-9c74-e659e2b14ade',\n",
       " '33abea1b-1dcb-4a55-8c14-a86e8e493064',\n",
       " '7d15e473-d47e-49c1-a289-c52fe6840feb',\n",
       " 'bb4ff3dc-3ece-4e14-9ca3-00c37f56219b',\n",
       " 'c686d2e4-4068-48bf-9146-0a3f1ee4748c',\n",
       " '4e0e162b-4b22-47c2-a755-ad792eff5a02',\n",
       " 'be01e82b-8213-473f-9dbd-91ca80106735',\n",
       " '649f1269-4eea-4470-a76b-8825797378c1',\n",
       " '403467e1-ece2-4bdb-a6df-949ae150c40e',\n",
       " 'e06291da-9d63-4528-9888-7efc0f5fe658',\n",
       " 'db8dec49-5f43-408e-88f2-9c18d3b8b5cc',\n",
       " 'f9062a99-009b-46eb-bcfc-127d50ef7aa4',\n",
       " 'b513109d-0b2d-413f-856e-d6b8c4e2b0f2',\n",
       " '378b94b3-3945-49ab-b1e1-25f52f2ec837',\n",
       " '0e9a6fa7-d797-4b2c-a1e3-d0b63cc42e91',\n",
       " 'dd5ccf05-4db9-42f6-8859-fec423272138',\n",
       " '48319612-7324-4249-a6ee-224fe4a6ef4e',\n",
       " 'c5e80e35-efb3-4974-9bb7-b58de1de2fa2',\n",
       " 'e5c9d920-bb23-42b0-8a19-266a527c6dc7',\n",
       " 'cd4c1c20-1763-46e6-8118-97c9799bf174',\n",
       " '45a0d4d0-72e0-42e4-a23d-0975c99a17da',\n",
       " '53d893c2-8de4-4dbb-9fa5-878bcc772e7c',\n",
       " 'f0186e44-98c9-44b9-8f17-0b85d9c72f2a',\n",
       " '70ca4ff3-c42e-41a1-ba54-e59d83696274',\n",
       " '215abe39-ae9f-4799-bf73-9c4739e3ced6',\n",
       " '71922e3f-0871-4032-8115-d2a62e3912cc',\n",
       " '12b66a9a-009a-4a3f-9b0b-5036ebee77fa',\n",
       " '9b4f80a1-ed26-45f5-8b79-25759c54fac4',\n",
       " '9d2fe6a2-13d9-4c4b-8cb2-4a5081e50613',\n",
       " '2d46ce23-2dc6-4531-bbdd-b3de753016d6',\n",
       " '788c65d5-5c80-411d-b966-d52e777f8f57',\n",
       " '1cf9c60f-ee52-48b7-988f-fb64ccb1233a',\n",
       " 'ee388648-3fa8-4133-a44c-3bc7488af16d',\n",
       " 'd42295b4-f02e-44ae-a2ea-58234cc07adb',\n",
       " '01e9d943-c1fd-49a7-9fcd-da30546a138b',\n",
       " '5c6e02bd-3237-428d-8d33-ff80c640e89f',\n",
       " '1db41b57-a346-48ba-adc4-dd1ddad39483',\n",
       " 'f440d74f-a4b6-44f2-8d29-c23a34dca34a',\n",
       " 'd6b34227-54d1-4190-bfe8-252d4b67affd',\n",
       " '5457af1a-7c9e-40bf-b8ed-2dcf179f7974',\n",
       " 'b21f4d9a-26a2-4e5b-a88f-79973327daba',\n",
       " 'ed0e1b49-0aa2-4a2f-8bf8-19383cf675e6',\n",
       " 'e49300a3-251d-48e5-94e1-08bbf049400b',\n",
       " '8ebf677f-133b-425c-a6d3-09eeb1789609',\n",
       " 'dd7c0d43-2e49-4fea-a193-ae2436bec5b4',\n",
       " '552a52a9-c589-4ae3-9d30-33c2b223b346',\n",
       " '98ea55a4-5d45-485e-938e-90c662c1c960',\n",
       " 'fd8e9a50-b2f0-42d6-ace0-b5d848ce63ef',\n",
       " '7e600b61-ee36-4d1d-b4ad-092a2f87388b',\n",
       " '48d1aa62-0ff1-4f6e-90a9-49f98abc8c67',\n",
       " '65c22c46-d138-4bf1-801c-53f99b23965e',\n",
       " '9a8d3166-5c7d-440c-9cd8-970d6f1761c7',\n",
       " 'e50284a2-a644-4f61-95b8-80b5457c25a0',\n",
       " 'a19f4ff5-4299-4383-97b9-5e90f20f199a',\n",
       " '5305b67c-8f2c-4583-891f-cf1a1d6d270f',\n",
       " '1d69ebe5-246c-4739-ac35-90707fdcba26',\n",
       " '85870ede-4fb0-49da-af89-ea2ace7f34c5',\n",
       " '5c673401-7e97-413e-9348-bd248641db3d',\n",
       " '04f59213-e562-4bee-9714-dccab6749276',\n",
       " '6c3e1ed3-8ebc-4c84-a3fc-160bb5b4bd01',\n",
       " '4f62bc26-740e-4a03-bf06-cc32f690ff42',\n",
       " '9e575f1d-634a-42fa-bfb6-e582f9af8716',\n",
       " 'b35f09a1-761a-480b-ab99-c07e709a1e9e',\n",
       " '33696202-4104-4400-b681-0d5e987bd4c4',\n",
       " '9dc52108-b049-4d35-9914-5c300de0652f',\n",
       " '99604887-0608-4598-a32b-555e589b75b4',\n",
       " '4ad631a0-8268-427d-9a19-40d450193d4a',\n",
       " '40310fa5-8977-49f0-a3a0-33e0e97a84d6',\n",
       " '89518342-496e-45ff-ac47-c160e8405ce5',\n",
       " '1fad086d-4c6d-4beb-b355-3d79aca1cce7',\n",
       " '92eac7ce-9ccd-4bfa-97c5-3c1ee872d7cb',\n",
       " '951d6da6-db21-43a5-b1ac-82696df0455d',\n",
       " 'e576c637-7114-4ea3-8e9d-e1a1b1edb077',\n",
       " 'e91b9883-3912-4d45-baf9-eb9d8463b85f',\n",
       " '1e62db91-e083-4d05-bf0d-d2a292b43deb',\n",
       " '6040f922-5aa5-40d4-8bd8-ec3e0be7b117',\n",
       " 'cb741d95-452b-4c8e-847e-072f68276bb0',\n",
       " '3a309e65-ba6d-4e90-b58c-680645d58d24',\n",
       " '2ac4c0dd-e4d1-44f4-b31f-8a9df9b23b7f',\n",
       " 'bc0fb074-2887-4461-adb3-1faa425bed3d',\n",
       " 'a4d92202-c33d-4544-bf65-9d20851a8c4e',\n",
       " 'fe7ccdde-82e2-4455-a547-bdde61fa127c',\n",
       " '971d6162-5a92-46ff-b216-757c43801132',\n",
       " '81774875-f291-4f03-8b90-1c82408f05d3',\n",
       " 'f37a76ee-2258-4a3c-acb9-f1c48210b61a',\n",
       " '87dcccbc-2bc1-4ab0-b150-91d1537407b3',\n",
       " '396a595c-6a47-4016-830f-8dd99fa629f2',\n",
       " '261c33d8-4f71-49a2-afc0-0ef3780405d0',\n",
       " '8a5e3051-c968-4b7d-9d8e-21326593cb8d',\n",
       " '851cceb4-782e-423d-a47b-b3a0f50bcd6d',\n",
       " 'b8ea000c-aa0d-46d1-ba4c-dc517a192589',\n",
       " '74bd4e85-5186-4946-82f0-72d4f1c40b31',\n",
       " '50a3f2c7-39b2-4800-9b9d-ee6b3e4a0219',\n",
       " '452f0aeb-482a-48d3-aabc-9d3c6d15d4fe',\n",
       " '300f11e2-c443-4af2-aa4d-c64e1d20ad5b',\n",
       " 'ab45f378-6806-4809-bb1a-996f6ba87734',\n",
       " '06c3a8f7-c039-4bf6-8c76-0e6381f8d16e',\n",
       " '7d788c05-2260-4936-8cf6-9f97a74da3b9',\n",
       " 'f5f99616-a1d2-4fb6-b3bd-bb0d3743826c',\n",
       " '6b5520fb-6980-4a79-8bbc-ddfb572372b3',\n",
       " '163ad5c3-f9b8-4429-8d03-6891f32f7f0e',\n",
       " 'e2c53a55-ccce-4d8b-adb6-56a56f0f3b04',\n",
       " '0e3ae1ac-b0b5-4fee-9efe-5d0989718b7f',\n",
       " '29b0710e-3ad9-4b5c-8580-a302ca0b124a',\n",
       " 'a447fc71-6a00-44db-aa0c-845bdb9b8018',\n",
       " '7702a8b5-4253-458c-8b7e-1166aba616b1',\n",
       " '4efc75a2-5327-4e64-ae2d-c08137a89d25',\n",
       " '32f6263f-d54d-44d2-98af-a08bab0eb6f4',\n",
       " '98cd41d0-5dcf-4f67-97a8-06510e43ce61',\n",
       " '6c885adf-cb58-4fef-8eee-69b0f9ebe372',\n",
       " '31b28a9d-e797-4e3d-8aaa-bceb711440c8',\n",
       " '4b097554-c998-4178-ae62-5da451fe023d',\n",
       " 'ed93a2a2-f262-4524-8bb6-395ac6833068',\n",
       " 'd17d6303-46f2-4905-a0c0-481c503e81a4',\n",
       " '118c9fe6-a0e4-426c-bb1c-da1ff2804cdf',\n",
       " '1867719d-d67a-4664-b51e-0d236e2d42b6',\n",
       " '8b573f1a-c56f-4c12-a3b6-67d9e3ce0b48',\n",
       " 'b8935c29-6f83-47d8-96dd-a1419a3fe319',\n",
       " 'f37f0d22-d7ba-4722-9373-bae34d5f6581',\n",
       " 'b801ca07-5ed2-43e2-bddf-8cc4c7d0662e',\n",
       " '284b69a8-10e0-41b3-bd5b-183a46342dc0',\n",
       " '02c1836f-968f-4f70-822c-4fd4b837a758',\n",
       " '077a455f-4e0b-4de2-b522-d6c2705254a2',\n",
       " '8738ce7f-aac4-4cd0-9ccb-3f3a79de84f1',\n",
       " '2bd3fae2-8934-40a1-94fd-ed0a4414915a',\n",
       " 'f7605ab4-3235-457e-b845-3dc2ae0b6ba9',\n",
       " '1ba614fe-a3b0-47a8-9a77-4d8bc5560a36',\n",
       " '524307f6-bfdb-4fa0-9239-ea9c70ec3c3d',\n",
       " '5d78a0a4-9310-4732-a0e8-e29ff98fa12d',\n",
       " 'a1bb6fa4-ebe5-4341-b5a2-ee2fe05fc5dc',\n",
       " '4b998ce3-93e9-4e52-950a-762433ed8a40',\n",
       " 'f2231a4a-270f-4105-81d4-0c408c1c0528',\n",
       " '0313dc0a-e3e9-44a1-92c6-4e309d6231f8',\n",
       " 'c4892398-c217-4bcc-984f-4b66ec495add',\n",
       " '4cad89ee-753f-4ce3-b9ce-58f0d43c373e',\n",
       " '59102b80-a1ac-4745-924f-109d0339e899',\n",
       " '723c19f2-e1e6-4ddc-847f-2d975e029ed7',\n",
       " 'b4875d44-ba8d-4983-8cee-ef08b85ad7a3',\n",
       " '05f5a7c2-3382-4399-991b-b5c4f30be4e0',\n",
       " 'e9a76b15-ec18-4536-bcac-1b0b91e07d9a',\n",
       " '729387f2-6a69-4bc2-888a-f1d0e5c0f3a2',\n",
       " '9eef56bb-45a5-4735-916e-e05c94961861',\n",
       " 'b66e8139-747d-4faa-8a97-e97e4e0720fe',\n",
       " '3a4397ae-a22a-478b-bc4e-4774ab37544b',\n",
       " '644ceca4-6e90-41b9-93d4-346e6bdefb7e',\n",
       " '566166fc-0af7-4e5a-b63c-642a1ce7a568',\n",
       " '96ffd1fe-7aa8-4007-b83d-1912619c5f39',\n",
       " '0f7115c0-3eda-4c7c-8ccd-9bec27eb76f0',\n",
       " '295e51b2-7ec7-443e-a864-3a44789c1acb',\n",
       " '5e09b520-6a76-4834-8df1-cefab94c0e5b',\n",
       " 'c4c60519-4f3a-4472-ac7a-c79ed8ffeecd',\n",
       " 'b338f4c0-289b-433c-ba1b-a081c385ad10',\n",
       " '71e5e0f5-d7a1-4cf5-9789-1c2a65171fb7',\n",
       " '587a31df-3a0f-4e52-91bb-6b524f88817b',\n",
       " 'd2bd8dbd-c026-41f9-be55-8d126e1dbcad',\n",
       " '04ce9cb6-b849-411a-819d-5be90df70b57',\n",
       " 'c5f27edb-d7c3-4c63-a774-bda81ef46c62',\n",
       " '8c34df0a-a90a-49dc-b4d4-761b858e37cb',\n",
       " 'b1f042a9-8e68-44d6-91d2-57bee23087f3',\n",
       " '3a660c7a-3511-4a0f-88f5-1796bbbe3c07',\n",
       " 'fcd3f064-7956-4053-a141-052b75b64708',\n",
       " '11de66cd-080c-40e1-9568-4779a7011d40',\n",
       " '7629fbe1-a836-4387-b732-c5f48e7b7743',\n",
       " 'f9a6b32c-ee15-480b-a515-a0196ebad745',\n",
       " '44471f96-b623-4e55-bc2f-5b9f6bd78bd0',\n",
       " '862a9e7d-67be-43b1-95f1-c4cf234c76e3',\n",
       " 'b19f3649-c6c1-4fc6-b33e-812dc58f5d31',\n",
       " '035b4369-6689-4709-a5f0-2ae69bc9685e',\n",
       " 'b1eefbdb-0035-4d7d-b0e5-5db66e4326a0',\n",
       " '382602bd-9885-43dc-b7dc-f668b742747f',\n",
       " '6ba1622a-2424-4a71-8fde-1796df23c702',\n",
       " '50887ad9-9e96-474a-81fd-8146f6f210bc',\n",
       " '051e3b60-bbaf-4d9d-89c2-8d4b1559b96a',\n",
       " 'a0ec4e46-4165-47c9-9add-b3be0df3b274',\n",
       " '6c3674a2-23fd-4c5f-8e69-d2ab316d84fe',\n",
       " '4f8bc2d9-8c86-4f5f-8cac-ed48d52e9c9c',\n",
       " '2efa4861-5ca4-4afc-87f2-c6e79d3b2000',\n",
       " '8d1ee4ce-6939-4dc8-a4e4-8e392b22bc5b',\n",
       " '3cdca7ff-a4d0-4e35-9885-c149ba426a3f',\n",
       " 'f4185d06-7915-40ab-b628-dfac535d0395',\n",
       " '967a4169-424d-4417-b830-8a0cb51cdc92',\n",
       " '21e7566c-56eb-4958-be4e-33c93f63ac3a',\n",
       " 'ca15de46-170d-4580-9dde-89c7d5fc1922',\n",
       " 'e54e3898-06ff-4672-98c4-05df13549ce0',\n",
       " 'b43278cb-ed77-4855-8e07-c3b49506cf0b',\n",
       " 'ef6286c1-f87f-45af-82f5-89866c2e0069',\n",
       " 'f1d7d020-b3bf-4379-b601-c68d1e954406',\n",
       " '30ba079e-3a1f-489e-a4a7-8dd343e5980d',\n",
       " '05255fb4-7657-4b38-b53d-2a79e7081445',\n",
       " 'd38dbf01-5328-414b-bdc6-d78a41068d96',\n",
       " '9d1e6e36-80a5-4248-8721-c1e426ddfb3f',\n",
       " 'f782052f-ff51-40e2-bde8-d96ab49dd09e',\n",
       " '62583182-cd2d-400a-a425-81a43dbc2876',\n",
       " 'd18e90ae-814c-4c35-b157-c7508ae1d573',\n",
       " '327bb915-896f-453b-80a6-acfe616b974d',\n",
       " '9cf7028b-09ca-41f2-bc04-3e594f215e2e',\n",
       " 'f63ab17b-5488-4062-ac5b-b5a8725baac1',\n",
       " 'da1df71f-380c-41b4-b524-29420d04f297',\n",
       " '32a9bda5-7db2-4e77-adc8-c63ea65287ca',\n",
       " 'd69b5d1c-3efb-4094-9b84-4233a2fc4ba2',\n",
       " 'd87ea578-1edf-4d9d-979c-b8dd50cc5f8e',\n",
       " 'da952748-9c45-4508-82ac-ff659f12aa2b',\n",
       " 'f8c30a73-c842-491b-9d86-c25e2e4f74f1',\n",
       " 'bfad589c-247b-4a1e-9003-5ef1498ffaea',\n",
       " '85180e8b-8fa1-482e-b119-3ddfb83cbe27',\n",
       " '0a2f7934-f6ec-4124-bf07-d669b0b6501d',\n",
       " '8d983727-5915-43c6-9e81-2b11459a8d5d',\n",
       " 'e341c08e-c570-4242-a171-d4f60257b65f',\n",
       " '7be975e6-76f1-466e-a2b7-94cfd1883247',\n",
       " 'eeb70a30-e846-4f7c-8be6-0fb9528a2142',\n",
       " '9b34e6b3-87a5-49a5-92bb-989a74cf8aaf',\n",
       " '3086111b-be8a-435f-83e1-f40da0c75050',\n",
       " '9fb2b0a0-547f-4df8-8257-dc4c4ccce48e',\n",
       " '91abb606-6dec-4536-b2f1-05c30acdb8c9',\n",
       " '53034901-30f8-44e9-b67d-19920891ed27',\n",
       " '5d911036-3a0e-4418-b5a3-2645f8d62d5f',\n",
       " 'ae43af33-110f-4760-b1d7-ea882ae48060',\n",
       " 'dd4c5f89-47a4-4442-9a05-92d3dd3608e5',\n",
       " '9da43a25-a591-481f-9a41-797e40ba6b9a',\n",
       " '7819e6b6-d350-49b9-ad50-6fa7f711bf7e',\n",
       " '87079bfc-0026-46c8-a864-ac223cf5d9be',\n",
       " '9c5c07a6-a72c-4066-a165-f2dfc5f9c5fe',\n",
       " '23b35dbc-dd19-4c24-9cbc-99f2c36cb8e5',\n",
       " 'dc406e5f-21f9-4e35-9bb6-e4fcb3762bef',\n",
       " '64473cf2-4e4a-4d95-95e8-50e9ef99f9f6',\n",
       " 'c1b69a36-9fc5-43f0-8acb-ae958b4e219c',\n",
       " '23c0a808-ae35-43ad-afe4-237b2975f131',\n",
       " 'f4f8f8c4-07d2-4f63-9ce3-f01676f9bc7e',\n",
       " 'a0fb783a-179c-4ed8-9789-9645c9049a2b',\n",
       " '3dad6c75-d17a-4584-9b53-81854a2e9911',\n",
       " '560b4589-634e-4243-9b36-8569effeea66',\n",
       " 'e31d6da1-dc02-467b-9754-c0bb298844cb',\n",
       " '090fc942-3791-4bbf-bb17-8e4a32ae1939',\n",
       " 'a296650d-d33c-4e24-9efb-93932ec402c9',\n",
       " '813c08c1-502e-4e96-843a-0bd652d5ff68',\n",
       " 'c6bdae99-f71f-467f-9a02-9e85b0d80ae8',\n",
       " 'd8ad4222-ecbc-43a4-94fa-ba0b261f8365',\n",
       " '54fd10a5-b7fd-4320-826d-43da11c85f73',\n",
       " '562a1787-3cc5-4271-8e68-5dc13e610da5',\n",
       " '1029b32b-3425-44d9-bfbd-29d1e051f98e',\n",
       " '217cc381-0cde-4707-958a-719cd2c0e9b1',\n",
       " 'f6fa5a82-e7fb-4028-88ce-40f5262dc27a',\n",
       " 'ee2a3d36-42dd-484d-bf05-bbe640b865c9',\n",
       " 'c908c3c1-d0c3-4203-8aab-91bc2442b6e8',\n",
       " '76d2c1f5-079d-4d59-945a-a7d94332469b',\n",
       " '5ae8d2b8-8cae-4d74-b586-9522b016b8d8',\n",
       " '67ed0df8-9934-4ade-b5d4-9b50e5859f1f',\n",
       " '7d17ddd2-4035-447f-9212-f1ad94096f59',\n",
       " '7df99942-ba28-45b0-9d77-abeab377d933',\n",
       " '5f885f7e-bdf0-43a1-9778-f3601439778a',\n",
       " '684a99cb-6871-4039-814f-e4c12d8c1940',\n",
       " '7ffad6f6-70f1-4bb1-8c0b-263ae9e02a29',\n",
       " 'ef295c16-f58d-4aa0-b25d-6b120a0351b5',\n",
       " '354ca5c6-c08a-4ae5-a2d1-1d9707708101',\n",
       " '987d6e98-b57b-4baa-9d66-49ab40a7523b',\n",
       " '293b5260-2225-47fa-a78e-33d6cf17ab95',\n",
       " '8c48e864-22c6-4d53-a6ee-da9f81d0028d',\n",
       " '65747497-ce3f-4cd8-aff6-57e7024f965b',\n",
       " 'ca8b5e9e-51fa-4699-bd34-f755fade9148',\n",
       " 'b5204492-4139-4d9f-a7bc-ec5c25e59352',\n",
       " '2c1300b6-b5bc-4d76-9283-6b8f41aaaf46',\n",
       " '047e58d2-f651-46ac-b20f-17b7329c78a2',\n",
       " 'ea5ea6c2-fec8-4d5a-80e7-7225c74ae941',\n",
       " 'aa65de81-6e0d-49c8-8602-53d550c397b5',\n",
       " '17fd678f-cf6d-4253-ae10-e3990c64ccd0',\n",
       " '62792c7f-2df4-4b64-b071-9b9e2b998020',\n",
       " 'eb646297-e97a-494e-8446-0a095a2e5662',\n",
       " '39d1a00d-d2e8-4fb5-a5d4-ddbf0c69ab97',\n",
       " 'e0309520-46d1-4fec-8a0b-331382669a28',\n",
       " '70780708-f902-411e-ad42-48e049706529',\n",
       " 'c5555293-5d49-4680-851a-3d9ab13dce6c',\n",
       " 'd510244e-688c-4507-8085-633b96190df2',\n",
       " '9b84b067-1b19-47fc-a84c-fc2c2d05e5d5',\n",
       " 'e7706a7a-dfcc-49f0-9944-da51e26855de',\n",
       " 'ae8de183-7758-4c94-bb38-5893fcccd8a0',\n",
       " '793a0662-aa9f-4643-ade2-c91d31d1ff91',\n",
       " 'abaf6a1d-d479-4490-83cb-94cf65a47f03',\n",
       " 'a8bcc834-15d9-4fcc-b798-a48d3eac53e2',\n",
       " '60c2b47a-892d-4ef1-97ee-a637ece20ce0',\n",
       " '21f7c0c8-c9ae-4ebd-ba54-c5874c76d908',\n",
       " 'b7b97750-57bf-4597-89db-42dfb97ec1e1',\n",
       " 'ab16de5f-2b54-4bf1-9af4-8a938551b1d1',\n",
       " '0a4cc07d-1981-4eb1-b008-953b90b9ff91',\n",
       " 'b77c3edb-2bb5-4d91-8bac-22d2ba7f8125',\n",
       " '4c84c521-760c-411d-b0c5-aea09640a6f7',\n",
       " '62f70c2d-5eec-4ab6-89de-260b62de073e',\n",
       " '0dd7263a-15f9-49c3-b506-4efb1d4243a8',\n",
       " 'ef64623e-d26a-475f-bc48-6b1a27563b74',\n",
       " 'd527e34f-859a-49fb-a870-b9e74c375cc3',\n",
       " '2e367218-b823-4ca8-83e6-0feb60507e39',\n",
       " 'a37bf162-518f-418f-902a-ca95bf9a6223',\n",
       " 'ff4ee492-a49a-4491-a1c4-e1e8ea1274f5',\n",
       " '8b437c1a-191e-4812-a7bc-71abbb4f9735',\n",
       " '88cdab31-4b93-4f52-8618-6134a8d64190',\n",
       " '04e3c128-c21a-4b29-8839-84df6c08e7ab',\n",
       " '07ca05ae-3603-45df-a078-4b65790fe140',\n",
       " 'fdcb8f92-f8fa-45d7-81ac-aa8e65f9eeda',\n",
       " 'bfbf72ae-1612-4c4c-b067-9f03b071c16b',\n",
       " '21967b2a-64b0-4a3a-85a8-fb06d757c642',\n",
       " '9b26503f-c544-401a-bd24-69a81ea4e5ef',\n",
       " 'b6e59b30-5f2a-4357-9390-01412cc6e705',\n",
       " '2bcf91c1-8f19-4dd1-876a-51ea227c2e8e',\n",
       " 'b7f5bb04-9ff6-4bc3-89bc-ff02931e6232',\n",
       " 'e1bd2bcd-27b4-4565-b770-881352b980e3',\n",
       " '1d40340f-52dc-4866-bc1f-e5ce526fff56',\n",
       " '99386453-bedf-4b4b-add3-2632695ef279',\n",
       " '1d01ca16-638e-4b6c-8d8a-9f7027761db8',\n",
       " '769f8128-c0d9-4570-bc7c-05f82bc19c2f',\n",
       " 'd4fd4fa2-745e-4385-8b62-bbc85b04ee02',\n",
       " 'b774d8b1-584c-4689-b5a1-b3c0711d95de',\n",
       " '551815a3-7bf6-4686-91ec-589f1d442331',\n",
       " '3e53cee0-483d-42c0-b9e9-10938b416c3e',\n",
       " '36338a3b-0437-4842-a845-1b30f1c57401',\n",
       " 'b143a299-eeaf-48ef-bb91-d550dbae048b',\n",
       " '8b464a43-7d85-40a2-aa5a-8ade173c4105',\n",
       " 'd6a54f1a-4d7f-41b7-858d-bdba8e48894a',\n",
       " 'b6b39627-037c-4772-9498-b141d5cd713f',\n",
       " '9901adc1-cf4e-497c-8598-e95290e30c42',\n",
       " '60c9a944-f284-4c38-a684-a4b06a14edc0',\n",
       " '93b3d441-0954-4e2b-9455-d9fc2fe760e7',\n",
       " '8ecb4e35-857e-4e37-8f6c-0fbfbe4b8b65',\n",
       " '4b76b579-6757-4fe2-ae56-e0af188bf860',\n",
       " '531cb208-7930-4593-8200-0358e8a4f876',\n",
       " 'c5f87f62-7825-477e-a78f-3766e993ab47',\n",
       " '59706e0d-59cf-44e5-8b7f-307160b4b69b',\n",
       " '68835894-05d5-4cf8-8e07-830e4783d733',\n",
       " '3b23ec12-cb86-45f9-85c2-f302518fe407',\n",
       " '8e6057fb-734d-4a8a-bf84-d4dcd3d9d52d',\n",
       " 'ae1b04b2-1995-4556-bcc9-efe3eed028c6',\n",
       " '79e1cb89-359e-45f3-b243-caed5f0b7364',\n",
       " '13f8d0f0-ebfc-4a22-a967-834cc1f6016d',\n",
       " '9625f6e6-9286-4fc1-abcb-408723e46943',\n",
       " '61cf5b2e-5a98-460f-8272-af33aed473f6',\n",
       " '63fece78-629f-4643-bd62-f8583b8f47bb',\n",
       " '4943cd23-3e09-4078-b67c-7c412aa9dc4a',\n",
       " '06dc5b05-3b85-4f04-820d-afa182253276',\n",
       " '11ff8b77-0af1-46af-a929-284448e91b65',\n",
       " '602af2f5-e7b7-48b2-a50d-965cc6155da2',\n",
       " '98cde1ca-596e-499e-90b5-6a6ac9e6b14b',\n",
       " 'b2dccc7c-f617-4c56-ab92-ce2d2e5d36eb',\n",
       " '1d5a676c-7632-4c5a-b0d2-3b7fdf85bc57',\n",
       " '75681ca1-593f-4b04-beab-32957b503cfd',\n",
       " 'abb35ac1-2521-4c3d-a83b-23b65886c12f',\n",
       " '558dd7b1-68ff-455b-bc9d-b8215c388d1a',\n",
       " 'e698fc3a-341f-4a07-823d-79ba0164aca0',\n",
       " 'f01b323d-1876-4fa2-958e-1a3e6e58e5ff',\n",
       " '2ba0649e-020d-454d-b0d1-5c8754dc4231',\n",
       " '107ba892-cef0-45b2-9f18-fffceb66b9d5',\n",
       " '492ad641-5061-447f-bf17-8c1a9cd06ecd',\n",
       " 'e911c19e-b9e3-4167-8c04-d2eb05cbdc3c',\n",
       " '4006df96-2e7c-4608-a777-2537242ae58e',\n",
       " '8c330f0e-bd36-4d2f-ad9e-f2f7bfd49ab7',\n",
       " 'd3562434-6800-4eb2-bfda-aa05a22cade7',\n",
       " '6b266e52-442a-4817-9424-4af87ae30cbf',\n",
       " '476fc9e4-a205-4d41-9df1-1b841a0d8360',\n",
       " 'c3139f54-20cc-4d1c-9fde-01bc6d922aba',\n",
       " '4b96538d-2cc0-4ff2-8276-e97b8291d7fa',\n",
       " 'ecb46695-c64b-4539-8a68-cb3cf7c056d2',\n",
       " '390a3d59-49ea-4b79-9844-a99d2f89b04e',\n",
       " '7964ce97-cf9d-4379-a303-b54daf5dba75',\n",
       " '0dbae513-5898-44be-bcf9-72c8a9518a23',\n",
       " 'cdd6a2f9-becf-450d-82d8-9884ab5f5f2d',\n",
       " '7ba584ad-509d-47f0-9762-571f7553e424',\n",
       " '75b3f6a1-cf12-42ba-9471-78c6433600aa',\n",
       " '3d5ae94c-a735-4dcc-8322-fd1146eed82d',\n",
       " '7e4ff7a7-c3e8-4f4f-8e97-bad44b3bb852',\n",
       " '30ae02d1-6657-4891-9701-da6c2a705a87',\n",
       " 'cb5ba90a-0911-455c-870e-1a0a1605df98',\n",
       " 'b9d40f49-e096-4d37-bac1-d1c4b61d830a',\n",
       " '60be049d-6624-49f9-ac74-cc4f0f88d0fa',\n",
       " 'd35eaeac-0c63-4bc5-9f27-6dc68613d990',\n",
       " '56b5cce0-4886-4e01-a437-cfa2bd6e88aa',\n",
       " '49ff5049-588f-4a68-8057-436d97038187',\n",
       " '485d6667-b179-4dcf-be15-cb53cbe3f40a',\n",
       " '85f3a1ef-893a-4dbd-bd1b-1649084550f5',\n",
       " '09fc5c5a-ccb8-4d2f-ab3e-3a622ef58e63',\n",
       " 'c450ff5a-f8bd-48f4-bd36-9ff34954dc17',\n",
       " '43fc27f3-fe3d-4df2-b3c3-e42b18116844',\n",
       " 'fc22e2bc-defe-4ac1-ad1c-857d1e0c88bc',\n",
       " 'dc63e742-267d-4d6e-bfc7-622f81391b8f',\n",
       " '61819f95-44b0-4cd0-9e6d-03d917824b12',\n",
       " '1001d0c7-f739-43ef-9460-b1025aec25b7',\n",
       " '2b7c208b-2c8b-4921-a8ed-20215ae1a2ef',\n",
       " 'cdcc71d0-13a0-4954-8159-7125f2e857e5',\n",
       " 'c3f11d33-a11c-4ec4-b5fa-ca10ad84666c',\n",
       " '15021e97-c7bb-492e-b84f-21172316e9bc',\n",
       " '5dc1a6d3-2f1a-4b66-b900-ae3e572293d7',\n",
       " '881cfce9-187e-41df-906c-aad48e50fa99',\n",
       " 'e9a52a08-0dff-4198-8096-61f3ef972f88',\n",
       " '3751c3a3-25e6-4d92-927e-93b5cc5ad49c',\n",
       " '32647f75-7a5a-4b75-816f-d47b7832e3c0',\n",
       " 'da912a1d-a65c-4b72-b898-a4b81ecec073',\n",
       " '084a9a52-c928-422d-8650-49b63cbfef30',\n",
       " '7eaa2e72-2e3e-4251-9f81-da4226c48ca6',\n",
       " 'cf6d3476-f445-4eec-a35b-132b70a52689',\n",
       " '7f355b65-f42b-4015-9e6f-1130fde2f603',\n",
       " '2a7a62d9-547c-4e19-8de7-4b729a23f85e',\n",
       " 'd6ab6b13-abb0-4c60-a3a6-81a40a34bd94',\n",
       " '62e047f5-2fdf-4af4-8659-fe8c895ec506',\n",
       " 'cc4bf493-5cd4-470c-9a1d-c20da2ad4268',\n",
       " 'ddf642b4-1918-40f1-8fe8-8043b8630eca',\n",
       " 'c2b35a98-607f-42a4-a60f-0dca09c8ddbf',\n",
       " 'dae395d4-1244-4a36-b8c8-18e0191d9e4c',\n",
       " '42dea12d-5296-45d7-ba1a-74842c4f37b0',\n",
       " 'ed5113af-02b7-4349-a61a-55ca01d13daa',\n",
       " 'f92f710e-4b6f-434c-b3e0-a34e1113ac44',\n",
       " 'a01ed80a-8312-4a30-943d-38e12d3c3549',\n",
       " '43f79eca-ba2a-425b-a55e-e601ac42541e',\n",
       " '92e12ea6-ae67-40c4-bee8-70898e3b35ad',\n",
       " 'cb181985-85af-4a67-bd9c-a6e38b6afdf7',\n",
       " ...]"
      ]
     },
     "execution_count": 24,
     "metadata": {},
     "output_type": "execute_result"
    }
   ],
   "source": [
    "# Import uuid library\n",
    "from uuid import uuid4\n",
    "\n",
    "# Create document uuids\n",
    "uuids = [str(uuid4()) for _ in range(len(chunked_docs))]\n",
    "\n",
    "# Add to vector store\n",
    "qvectorstore.add_documents(documents=chunked_docs, ids=uuids)"
   ]
  },
  {
   "cell_type": "markdown",
   "id": "978619ac",
   "metadata": {
    "id": "978619ac"
   },
   "source": [
    "### **2.2 Create RAG Chain** <font color=red> [8 marks] </font><br>"
   ]
  },
  {
   "cell_type": "markdown",
   "id": "Rczna1Xy_1bq",
   "metadata": {
    "id": "Rczna1Xy_1bq"
   },
   "source": [
    "#### **2.2.1** <font color=red> [5 marks] </font>\n",
    "Create a RAG chain."
   ]
  },
  {
   "cell_type": "code",
   "execution_count": 25,
   "id": "sEzxYN93Ygju",
   "metadata": {
    "id": "sEzxYN93Ygju"
   },
   "outputs": [],
   "source": [
    "# Create a RAG chain\n",
    "\n",
    "# import RAG chain\n",
    "from langchain.chains import RetrievalQA\n",
    "\n",
    "# Initialize LLM\n",
    "llm = ChatOpenAI(model=\"gpt-3.5-turbo\", temperature=0)\n",
    "\n",
    "# Create RetrievalQA Chain (RAG) for qdrant\n",
    "qrag_chain = RetrievalQA.from_chain_type(\n",
    "    llm=llm,\n",
    "    retriever=qvectorstore.as_retriever(search_kwargs={\"k\": 2}),\n",
    "    return_source_documents=True  # optional: for source tracking\n",
    ")\n",
    "\n",
    "# Create RetrievalQA Chain (RAG) for FAISS\n",
    "frag_chain = RetrievalQA.from_chain_type(\n",
    "    llm=llm,\n",
    "    retriever=qvectorstore.as_retriever(search_kwargs={\"k\": 2}),\n",
    "    return_source_documents=True  # optional: for source tracking\n",
    ")"
   ]
  },
  {
   "cell_type": "markdown",
   "id": "6PkgzeTIElfy",
   "metadata": {
    "id": "6PkgzeTIElfy"
   },
   "source": [
    "#### **2.2.2** <font color=red> [3 marks] </font>\n",
    "Create a function to generate answer for asked questions."
   ]
  },
  {
   "cell_type": "markdown",
   "id": "W8AMtr94FZxR",
   "metadata": {
    "id": "W8AMtr94FZxR"
   },
   "source": [
    "Use the RAG chain to generate answer for a question and provide source documents"
   ]
  },
  {
   "cell_type": "code",
   "execution_count": 26,
   "id": "b9TQdz5uFzlr",
   "metadata": {
    "id": "b9TQdz5uFzlr"
   },
   "outputs": [],
   "source": [
    "# Create a function for question answering\n",
    "\n",
    "def search_faiss(question):\n",
    "    # Ask a question from FAISS\n",
    "    results = fvectorstore.similarity_search(question, k=1\n",
    "    )\n",
    "    \n",
    "    str_res = \"\"\n",
    "\n",
    "    for res in results:\n",
    "        str_res = str_res + f\" {res.page_content} [{res.metadata}] \\n\"\n",
    "        \n",
    "    return str_res"
   ]
  },
  {
   "cell_type": "code",
   "execution_count": 27,
   "id": "71bbdc47-22f2-4cf1-9043-1fce20ee4285",
   "metadata": {},
   "outputs": [],
   "source": [
    "\n",
    "def search_qdrant(question):\n",
    "    # Ask a question from qdrant\n",
    "    results = qvectorstore.similarity_search(question, k=1\n",
    "    )\n",
    "\n",
    "    str_res = \"\"\n",
    "    \n",
    "    for res in results:\n",
    "        str_res = str_res + f\" {res.page_content} [{res.metadata}] \\n\"\n",
    "\n",
    "    return str_res"
   ]
  },
  {
   "cell_type": "code",
   "execution_count": 28,
   "id": "2868431c-5536-4d20-83c1-9bbff377b3c6",
   "metadata": {},
   "outputs": [],
   "source": [
    "# Lang Chain Expression language chain with prompt template libraries import\n",
    "from langchain.schema.runnable import RunnablePassthrough\n",
    "from langchain.prompts import ChatPromptTemplate, PromptTemplate\n",
    "from langchain.schema.output_parser import StrOutputParser\n",
    "\n",
    "# Function to provide answer based on custom LCEL chain \n",
    "def qna_template(question): \n",
    "    # Get retriever\n",
    "    retriever = qvectorstore.as_retriever()\n",
    "    # template to be passed to the prompt\n",
    "    template = \"\"\"Answer the question based only on the following context:\n",
    "    {context}\n",
    "    \n",
    "    Question: {question}\n",
    "    \"\"\"\n",
    "    \n",
    "    prompt = PromptTemplate.from_template(template)\n",
    "    model = OpenAI()\n",
    "    # Context and RunnablePassthrough input to the chain\n",
    "    chain = (\n",
    "        {\"context\": retriever, \"question\": RunnablePassthrough()}\n",
    "        | prompt\n",
    "        | model\n",
    "        | StrOutputParser()\n",
    "    )\n",
    "    \n",
    "    response = chain.invoke(question)\n",
    "    return response"
   ]
  },
  {
   "cell_type": "code",
   "execution_count": 29,
   "id": "pSgcP19iYgjv",
   "metadata": {
    "id": "pSgcP19iYgjv"
   },
   "outputs": [
    {
     "name": "stdout",
     "output_type": "stream",
     "text": [
      " without prior written consent participants mentor shall require employees access confidential information commit non disclosure agreement protects confidential information least degree agreement mentor shall take reasonable measures protect secrecy avoid unauthorised disclosure use confidential information measures shall include highest degree care mentor utilises protect mentor confidential information similar nature less reasonable care notwithstanding mentor right assess rate ideas participants mentor shall use confidential information third parties purposes shall file intellectual property right protection confidential information parts mentor shall notify organiser immediately writing misuse misappropriation confidential information may come mentor attention mentor agrees segregate confidential information relating agreement confidential information others avoid commingling 6 discontinuation use return materials organiser first request mentor shall discontinue use confidential [{'source': 'C:\\\\Users\\\\prita\\\\Downloads\\\\Starter and Dataset RAG Legal\\\\rag_legal\\\\corpus\\\\contractnli\\\\CopAcc_NDA-and-ToP-Mentors_2.0_2017.txt'}] \n",
      "\n",
      "---------------------\n",
      " without prior written consent participants mentor shall require employees access confidential information commit non disclosure agreement protects confidential information least degree agreement mentor shall take reasonable measures protect secrecy avoid unauthorised disclosure use confidential information measures shall include highest degree care mentor utilises protect mentor confidential information similar nature less reasonable care notwithstanding mentor right assess rate ideas participants mentor shall use confidential information third parties purposes shall file intellectual property right protection confidential information parts mentor shall notify organiser immediately writing misuse misappropriation confidential information may come mentor attention mentor agrees segregate confidential information relating agreement confidential information others avoid commingling 6 discontinuation use return materials organiser first request mentor shall discontinue use confidential [{'source': 'C:\\\\Users\\\\prita\\\\Downloads\\\\Starter and Dataset RAG Legal\\\\rag_legal\\\\corpus\\\\contractnli\\\\CopAcc_NDA-and-ToP-Mentors_2.0_2017.txt', '_id': '80bde5ad-a3df-4da4-aba0-e9b67fa5d76e', '_collection_name': 'legal_collection'}] \n",
      "\n",
      "---------------------\n"
     ]
    }
   ],
   "source": [
    "# Example question and print answer\n",
    "question =\"Consider the Non-Disclosure Agreement between CopAcc and ToP Mentors; Does the document indicate that the Agreement does not grant the Receiving Party any rights to the Confidential Information?\"\n",
    "\n",
    "# search from qdrant\n",
    "print(search_faiss(question))\n",
    "print(\"---------------------\")\n",
    "# search from FAISS\n",
    "print(search_qdrant(question))\n",
    "print(\"---------------------\")\n",
    "\n",
    "# Both provide same result, so will use qdrant going forward"
   ]
  },
  {
   "cell_type": "code",
   "execution_count": 30,
   "id": "a3649395-00b6-4fc3-8dbb-6990f407d26e",
   "metadata": {},
   "outputs": [
    {
     "name": "stdout",
     "output_type": "stream",
     "text": [
      "\n",
      "Yes\n"
     ]
    }
   ],
   "source": [
    "# Answer from LCEL\n",
    "print(qna_template(question))"
   ]
  },
  {
   "cell_type": "markdown",
   "id": "fMmX8OrcN05D",
   "metadata": {
    "id": "fMmX8OrcN05D"
   },
   "source": [
    "## **3. RAG Evaluation** <font color=red> [10 marks] </font><br>"
   ]
  },
  {
   "cell_type": "markdown",
   "id": "b1ddfed9",
   "metadata": {
    "id": "b1ddfed9"
   },
   "source": [
    "### **3.1 Evaluation and Inference** <font color=red> [10 marks] </font><br>"
   ]
  },
  {
   "cell_type": "markdown",
   "id": "Z9xy_GduS9Yk",
   "metadata": {
    "id": "Z9xy_GduS9Yk"
   },
   "source": [
    "#### **3.1.1** <font color=red> [2 marks] </font>\n",
    "Extract all the questions and all the answers/ground truths from the benchmark files."
   ]
  },
  {
   "cell_type": "markdown",
   "id": "V397RqkRfjSP",
   "metadata": {
    "id": "V397RqkRfjSP"
   },
   "source": [
    "Create a questions set and an answers set containing all the questions and answers from the benchmark files to run evaluations."
   ]
  },
  {
   "cell_type": "code",
   "execution_count": 31,
   "id": "bF_KZXb1c-G5",
   "metadata": {
    "id": "bF_KZXb1c-G5"
   },
   "outputs": [
    {
     "data": {
      "text/plain": [
       "['C:/Users/prita/Downloads/Starter and Dataset RAG Legal/rag_legal/benchmarks\\\\contractnli.json',\n",
       " 'C:/Users/prita/Downloads/Starter and Dataset RAG Legal/rag_legal/benchmarks\\\\cuad.json',\n",
       " 'C:/Users/prita/Downloads/Starter and Dataset RAG Legal/rag_legal/benchmarks\\\\maud.json',\n",
       " 'C:/Users/prita/Downloads/Starter and Dataset RAG Legal/rag_legal/benchmarks\\\\privacy_qa.json']"
      ]
     },
     "execution_count": 31,
     "metadata": {},
     "output_type": "execute_result"
    }
   ],
   "source": [
    "# Create a question set by taking all the questions from the benchmark data\n",
    "# Also create a ground truth/answer set\n",
    "\n",
    "# import libraries\n",
    "import glob\n",
    "import json\n",
    "\n",
    "# Recursively find all JSON files in subfolders\n",
    "benchmarks = glob.glob(rootfolder + \"/rag_legal/benchmarks/*.json\", recursive=True)\n",
    "benchmarks"
   ]
  },
  {
   "cell_type": "code",
   "execution_count": 32,
   "id": "538c81b4-ef60-45f6-93b0-7fcf335c5b41",
   "metadata": {},
   "outputs": [
    {
     "data": {
      "text/html": [
       "<div>\n",
       "<style scoped>\n",
       "    .dataframe tbody tr th:only-of-type {\n",
       "        vertical-align: middle;\n",
       "    }\n",
       "\n",
       "    .dataframe tbody tr th {\n",
       "        vertical-align: top;\n",
       "    }\n",
       "\n",
       "    .dataframe thead th {\n",
       "        text-align: right;\n",
       "    }\n",
       "</style>\n",
       "<table border=\"1\" class=\"dataframe\">\n",
       "  <thead>\n",
       "    <tr style=\"text-align: right;\">\n",
       "      <th></th>\n",
       "      <th>question</th>\n",
       "      <th>answer</th>\n",
       "    </tr>\n",
       "  </thead>\n",
       "  <tbody>\n",
       "    <tr>\n",
       "      <th>0</th>\n",
       "      <td>Consider the Non-Disclosure Agreement between ...</td>\n",
       "      <td>Any and all proprietary rights, including but ...</td>\n",
       "    </tr>\n",
       "    <tr>\n",
       "      <th>1</th>\n",
       "      <td>Consider the Non-Disclosure Agreement between ...</td>\n",
       "      <td>“Confidential Information” means any Idea disc...</td>\n",
       "    </tr>\n",
       "    <tr>\n",
       "      <th>2</th>\n",
       "      <td>Consider the Non-Disclosure Agreement between ...</td>\n",
       "      <td>Notwithstanding the termination of this Agreem...</td>\n",
       "    </tr>\n",
       "    <tr>\n",
       "      <th>3</th>\n",
       "      <td>Consider the Non-Disclosure Agreement between ...</td>\n",
       "      <td>At Organiser’s first request, Mentor shall:</td>\n",
       "    </tr>\n",
       "    <tr>\n",
       "      <th>4</th>\n",
       "      <td>Consider the Non-Disclosure Agreement between ...</td>\n",
       "      <td>Mentor shall not disclose any Confidential Inf...</td>\n",
       "    </tr>\n",
       "  </tbody>\n",
       "</table>\n",
       "</div>"
      ],
      "text/plain": [
       "                                            question  \\\n",
       "0  Consider the Non-Disclosure Agreement between ...   \n",
       "1  Consider the Non-Disclosure Agreement between ...   \n",
       "2  Consider the Non-Disclosure Agreement between ...   \n",
       "3  Consider the Non-Disclosure Agreement between ...   \n",
       "4  Consider the Non-Disclosure Agreement between ...   \n",
       "\n",
       "                                              answer  \n",
       "0  Any and all proprietary rights, including but ...  \n",
       "1  “Confidential Information” means any Idea disc...  \n",
       "2  Notwithstanding the termination of this Agreem...  \n",
       "3        At Organiser’s first request, Mentor shall:  \n",
       "4  Mentor shall not disclose any Confidential Inf...  "
      ]
     },
     "execution_count": 32,
     "metadata": {},
     "output_type": "execute_result"
    }
   ],
   "source": [
    "# Import pandas\n",
    "import pandas as pd\n",
    "\n",
    "# Prepare test data\n",
    "benchmark = []\n",
    "i= 1\n",
    "for file_path in benchmarks:\n",
    "    with open(file_path, \"r\", encoding=\"utf-8\") as f:\n",
    "        data = json.load(f)\n",
    "        \n",
    "        # Access the \"tests\" list\n",
    "        test_cases = data.get(\"tests\", [])\n",
    "        \n",
    "        for entry in test_cases:\n",
    "            question = entry.get(\"query\", \"\").strip()\n",
    "            answer = \"\"\n",
    "            snippets = entry.get(\"snippets\", [])\n",
    "            if snippets:\n",
    "                answer = snippets[0].get(\"answer\", \"\").strip()\n",
    "            benchmark.append({\"question\": question, \"answer\": answer})\n",
    "\n",
    "# Create DataFrame\n",
    "df_benchmark = pd.DataFrame(benchmark)\n",
    "\n",
    "df_benchmark.head()"
   ]
  },
  {
   "cell_type": "markdown",
   "id": "81VscxuGTHhC",
   "metadata": {
    "id": "81VscxuGTHhC"
   },
   "source": [
    "#### **3.1.2** <font color=red> [5 marks] </font>\n",
    "Create a function to evaluate the generated answers."
   ]
  },
  {
   "cell_type": "markdown",
   "id": "qIPUg1dKTPGb",
   "metadata": {
    "id": "qIPUg1dKTPGb"
   },
   "source": [
    "Evaluate the responses on *Rouge*, *Ragas* and *Bleu* scores."
   ]
  },
  {
   "cell_type": "code",
   "execution_count": 33,
   "id": "7cfc8602-3e02-42f3-8ebe-028efc5ea62f",
   "metadata": {},
   "outputs": [
    {
     "name": "stderr",
     "output_type": "stream",
     "text": [
      "[nltk_data] Downloading package punkt to\n",
      "[nltk_data]     C:\\Users\\prita\\AppData\\Roaming\\nltk_data...\n",
      "[nltk_data]   Package punkt is already up-to-date!\n"
     ]
    }
   ],
   "source": [
    "# Function to evaluate the RAG pipeline\n",
    "\n",
    "# Import for BLEU score\n",
    "from nltk.translate.bleu_score import sentence_bleu, SmoothingFunction\n",
    "nltk.download('punkt')\n",
    "\n",
    "# import for rogue score\n",
    "from rouge_score import rouge_scorer\n",
    "\n",
    "# import for ragas score\n",
    "from ragas.metrics import answer_relevancy, faithfulness, context_precision\n",
    "from ragas.evaluation import evaluate\n",
    "from datasets import Dataset"
   ]
  },
  {
   "cell_type": "code",
   "execution_count": 34,
   "id": "RuoBJS5_PKmX",
   "metadata": {
    "id": "RuoBJS5_PKmX"
   },
   "outputs": [],
   "source": [
    "# Function to evaluate using BLEU score\n",
    "def evaluate_bleu_rogue():\n",
    "    smoothie = SmoothingFunction().method4\n",
    "    bleu_scores = []\n",
    "    rogue_scores = []\n",
    "\n",
    "    rogue_scorer = rouge_scorer.RougeScorer(['rougeL'], use_stemmer=True)\n",
    "\n",
    "    df_benchmark['generated_answer'] = None\n",
    "    df_benchmark['search_qdrant'] = None\n",
    "\n",
    "    \n",
    "    for _, row in df_benchmark.iterrows():\n",
    "        ref = row['answer']\n",
    "        pred = qna_template(row['question'])\n",
    "        # update the generated answer\n",
    "        df_benchmark.loc[row.name, 'generated_answer'] = pred\n",
    "        df_benchmark.loc[row.name, 'contexts'] = search_qdrant(row['question'])\n",
    "        \n",
    "        ref_tokens = nltk.word_tokenize(ref.lower())\n",
    "        pred_tokens = nltk.word_tokenize(pred.lower())\n",
    "        \n",
    "        score = sentence_bleu([ref_tokens], pred_tokens, smoothing_function=smoothie)\n",
    "        bleu_scores.append(score)\n",
    "\n",
    "        rogue_scores_all = rogue_scorer.score(ref, pred)\n",
    "        rogue_scores.append(rogue_scores_all['rougeL'].fmeasure)\n",
    "          \n",
    "    avg_bleu = sum(bleu_scores) / len(bleu_scores)\n",
    "    avg_rouge = sum(rogue_scores) / len(rogue_scores)\n",
    "\n",
    "    return {\"avg_bleu\": avg_bleu, \"avg_rouge\": avg_rouge }"
   ]
  },
  {
   "cell_type": "code",
   "execution_count": 35,
   "id": "24e3f7f3-5fa8-4797-a247-da2954eab27f",
   "metadata": {},
   "outputs": [
    {
     "name": "stdout",
     "output_type": "stream",
     "text": [
      "Average BLEU and Rogue scores:\n",
      "{'avg_bleu': 0.013449095372261901, 'avg_rouge': 0.09025635325826847}\n"
     ]
    }
   ],
   "source": [
    "# Use limited rows due to token constraint\n",
    "df_benchmark = df_benchmark[:docs_for_test]\n",
    "\n",
    "# Evaluate function\n",
    "print(\"Average BLEU and Rogue scores:\")\n",
    "print(evaluate_bleu_rogue())"
   ]
  },
  {
   "cell_type": "code",
   "execution_count": 36,
   "id": "0b83cd96-db50-4365-a231-ec268eac52ba",
   "metadata": {},
   "outputs": [
    {
     "data": {
      "text/html": [
       "<div>\n",
       "<style scoped>\n",
       "    .dataframe tbody tr th:only-of-type {\n",
       "        vertical-align: middle;\n",
       "    }\n",
       "\n",
       "    .dataframe tbody tr th {\n",
       "        vertical-align: top;\n",
       "    }\n",
       "\n",
       "    .dataframe thead th {\n",
       "        text-align: right;\n",
       "    }\n",
       "</style>\n",
       "<table border=\"1\" class=\"dataframe\">\n",
       "  <thead>\n",
       "    <tr style=\"text-align: right;\">\n",
       "      <th></th>\n",
       "      <th>question</th>\n",
       "      <th>answer</th>\n",
       "      <th>generated_answer</th>\n",
       "      <th>search_qdrant</th>\n",
       "      <th>contexts</th>\n",
       "    </tr>\n",
       "  </thead>\n",
       "  <tbody>\n",
       "    <tr>\n",
       "      <th>0</th>\n",
       "      <td>Consider the Non-Disclosure Agreement between ...</td>\n",
       "      <td>Any and all proprietary rights, including but ...</td>\n",
       "      <td>\\nYes</td>\n",
       "      <td>None</td>\n",
       "      <td>without prior written consent participants me...</td>\n",
       "    </tr>\n",
       "    <tr>\n",
       "      <th>1</th>\n",
       "      <td>Consider the Non-Disclosure Agreement between ...</td>\n",
       "      <td>“Confidential Information” means any Idea disc...</td>\n",
       "      <td>\\nNo. The document does not state that Confide...</td>\n",
       "      <td>None</td>\n",
       "      <td>without prior written consent participants me...</td>\n",
       "    </tr>\n",
       "    <tr>\n",
       "      <th>2</th>\n",
       "      <td>Consider the Non-Disclosure Agreement between ...</td>\n",
       "      <td>Notwithstanding the termination of this Agreem...</td>\n",
       "      <td>\\nYes</td>\n",
       "      <td>None</td>\n",
       "      <td>parties accordance provisions agreement b fol...</td>\n",
       "    </tr>\n",
       "    <tr>\n",
       "      <th>3</th>\n",
       "      <td>Consider the Non-Disclosure Agreement between ...</td>\n",
       "      <td>At Organiser’s first request, Mentor shall:</td>\n",
       "      <td>\\n    Yes</td>\n",
       "      <td>None</td>\n",
       "      <td>without prior written consent participants me...</td>\n",
       "    </tr>\n",
       "    <tr>\n",
       "      <th>4</th>\n",
       "      <td>Consider the Non-Disclosure Agreement between ...</td>\n",
       "      <td>Mentor shall not disclose any Confidential Inf...</td>\n",
       "      <td>\\nNo.</td>\n",
       "      <td>None</td>\n",
       "      <td>without prior written consent participants me...</td>\n",
       "    </tr>\n",
       "  </tbody>\n",
       "</table>\n",
       "</div>"
      ],
      "text/plain": [
       "                                            question  \\\n",
       "0  Consider the Non-Disclosure Agreement between ...   \n",
       "1  Consider the Non-Disclosure Agreement between ...   \n",
       "2  Consider the Non-Disclosure Agreement between ...   \n",
       "3  Consider the Non-Disclosure Agreement between ...   \n",
       "4  Consider the Non-Disclosure Agreement between ...   \n",
       "\n",
       "                                              answer  \\\n",
       "0  Any and all proprietary rights, including but ...   \n",
       "1  “Confidential Information” means any Idea disc...   \n",
       "2  Notwithstanding the termination of this Agreem...   \n",
       "3        At Organiser’s first request, Mentor shall:   \n",
       "4  Mentor shall not disclose any Confidential Inf...   \n",
       "\n",
       "                                    generated_answer search_qdrant  \\\n",
       "0                                              \\nYes          None   \n",
       "1  \\nNo. The document does not state that Confide...          None   \n",
       "2                                              \\nYes          None   \n",
       "3                                          \\n    Yes          None   \n",
       "4                                              \\nNo.          None   \n",
       "\n",
       "                                            contexts  \n",
       "0   without prior written consent participants me...  \n",
       "1   without prior written consent participants me...  \n",
       "2   parties accordance provisions agreement b fol...  \n",
       "3   without prior written consent participants me...  \n",
       "4   without prior written consent participants me...  "
      ]
     },
     "execution_count": 36,
     "metadata": {},
     "output_type": "execute_result"
    }
   ],
   "source": [
    "# show dataset\n",
    "df_benchmark.head()"
   ]
  },
  {
   "cell_type": "code",
   "execution_count": 37,
   "id": "a35da125-ff56-4390-9279-f6e18d654c35",
   "metadata": {},
   "outputs": [
    {
     "data": {
      "text/plain": [
       "Dataset({\n",
       "    features: ['question', 'reference', 'response', 'retrieved_contexts'],\n",
       "    num_rows: 100\n",
       "})"
      ]
     },
     "execution_count": 37,
     "metadata": {},
     "output_type": "execute_result"
    }
   ],
   "source": [
    "# Prepare data for Ragas evaluation\n",
    "def prepare_ragas_dataset():\n",
    "    df_ragas = pd.DataFrame({\n",
    "        \"question\": df_benchmark[\"question\"],\n",
    "        \"reference\": df_benchmark[\"answer\"],\n",
    "        \"response\": df_benchmark[\"generated_answer\"],\n",
    "        \"retrieved_contexts\": df_benchmark[\"contexts\"].apply(lambda x: [x] if isinstance(x, str) else x),\n",
    "    })\n",
    "    return Dataset.from_pandas(df_ragas)\n",
    "\n",
    "# Convert your DataFrame for ragas\n",
    "ragas_dataset = prepare_ragas_dataset()\n",
    "ragas_dataset"
   ]
  },
  {
   "cell_type": "markdown",
   "id": "Omeb5vFSTbS0",
   "metadata": {
    "id": "Omeb5vFSTbS0"
   },
   "source": [
    "#### **3.1.3** <font color=red> [3 marks] </font>\n",
    "Draw inferences by evaluating answers to all questions."
   ]
  },
  {
   "cell_type": "markdown",
   "id": "ei2qIN71Tirg",
   "metadata": {
    "id": "ei2qIN71Tirg"
   },
   "source": [
    "To save time and computing power, you can just run the evaluation on first 100 questions."
   ]
  },
  {
   "cell_type": "code",
   "execution_count": 38,
   "id": "f4f1f24a",
   "metadata": {
    "id": "f4f1f24a"
   },
   "outputs": [
    {
     "data": {
      "application/vnd.jupyter.widget-view+json": {
       "model_id": "cc6c72c0166b41b6aa782a4a7f39d73c",
       "version_major": 2,
       "version_minor": 0
      },
      "text/plain": [
       "Evaluating:   0%|          | 0/400 [00:00<?, ?it/s]"
      ]
     },
     "metadata": {},
     "output_type": "display_data"
    },
    {
     "name": "stdout",
     "output_type": "stream",
     "text": [
      "RAGAS Evaluation Results:\n",
      "{'answer_relevancy': 0.7399, 'context_precision': 0.5800, 'faithfulness': 0.2668, 'context_recall': 0.6150}\n"
     ]
    }
   ],
   "source": [
    "# Evaluate the RAG pipeline\n",
    "\n",
    "# Run ragas evaluation\n",
    "results = evaluate(ragas_dataset)\n",
    "\n",
    "print(\"RAGAS Evaluation Results:\")\n",
    "print(results)"
   ]
  },
  {
   "cell_type": "markdown",
   "id": "gonMO9wNE5dt",
   "metadata": {
    "id": "gonMO9wNE5dt"
   },
   "source": [
    "## **4. Conclusion** <font color=red> [5 marks] </font><br>"
   ]
  },
  {
   "cell_type": "markdown",
   "id": "ySHPR29rE5du",
   "metadata": {
    "id": "ySHPR29rE5du"
   },
   "source": [
    "### **4.1 Conclusions and insights** <font color=red> [5 marks] </font><br>"
   ]
  },
  {
   "cell_type": "markdown",
   "id": "KoVsmcV0E5du",
   "metadata": {
    "id": "KoVsmcV0E5du"
   },
   "source": [
    "#### **4.1.1** <font color=red> [5 marks] </font>\n",
    "Conclude with the results here. Include the insights gained about the data, model pipeline, the RAG process and the results obtained."
   ]
  },
  {
   "cell_type": "markdown",
   "id": "e0fa9a9a-571d-428e-b1b0-da10b543b07d",
   "metadata": {},
   "source": [
    "## Legal QnA System Project Report"
   ]
  },
  {
   "cell_type": "markdown",
   "id": "2c1e2924-3552-4e9e-bbd6-5c4b8d784adb",
   "metadata": {},
   "source": [
    "### Overview"
   ]
  },
  {
   "cell_type": "markdown",
   "id": "7a2cdc04-9a7e-478c-95b1-8b767a4896aa",
   "metadata": {},
   "source": [
    "This report summarizes the implementation and execution of a Legal Question & Answer (QnA) system designed to provide answers based on legal documents. The system leverages OpenAI’s GPT-3.5-turbo model and Langchain framework with vector databases to enable retrieval-augmented generation (RAG). Increasing the input documents corpus volume or increase in test cases increae the overall accuracy."
   ]
  },
  {
   "cell_type": "markdown",
   "id": "245bd955-da5b-4be0-b024-4b5d4d52cd8a",
   "metadata": {},
   "source": [
    "RAGAS answer_relevancy is  0.74."
   ]
  },
  {
   "cell_type": "markdown",
   "id": "60c9894a-8d17-4ff7-88f6-18f624724a02",
   "metadata": {},
   "source": [
    "### Project Lifecycle and Methodology"
   ]
  },
  {
   "cell_type": "markdown",
   "id": "7abddd14-a555-4fcd-80ec-0d4b00d00ff4",
   "metadata": {},
   "source": [
    "**Document Loading**"
   ]
  },
  {
   "cell_type": "markdown",
   "id": "c987711a-4b91-424d-b9fe-c100352eec67",
   "metadata": {},
   "source": [
    "* Legal documents were loaded from a designated source folder.\n",
    "* Langchain’s Document Loader module was utilized for efficient ingestion and parsing of legal files."
   ]
  },
  {
   "cell_type": "markdown",
   "id": "922d79f1-216c-46dc-9cbe-e25506e3c71a",
   "metadata": {},
   "source": [
    "**Data Preprocessing**"
   ]
  },
  {
   "cell_type": "markdown",
   "id": "74a39da5-56d0-40d0-8555-6b411c3b9e10",
   "metadata": {},
   "source": [
    "* Text data was cleaned by removing stop words, punctuations, special characters, and numeric values.\n",
    "* This step aimed to reduce noise and enhance embedding quality."
   ]
  },
  {
   "cell_type": "markdown",
   "id": "ecf30994-c3a0-41eb-a6cd-c04e11df24fb",
   "metadata": {},
   "source": [
    "**Data Exploration and Analysis**"
   ]
  },
  {
   "cell_type": "markdown",
   "id": "c4e616d6-3d13-4171-9410-4cb0de98695f",
   "metadata": {},
   "source": [
    "* Exploratory analysis was performed to understand the dataset characteristics.\n",
    "* Metrics such as the most frequent and least frequent words were computed.\n",
    "* Similarity checks between documents were conducted to detect redundancy or overlapping content."
   ]
  },
  {
   "cell_type": "markdown",
   "id": "093f18dc-5020-4010-ba34-0101dbf9cc73",
   "metadata": {},
   "source": [
    "**Document Chunking**"
   ]
  },
  {
   "cell_type": "markdown",
   "id": "21a04914-e1f3-4429-b955-d425c94235b4",
   "metadata": {},
   "source": [
    "* Large documents were split into overlapping chunks.\n",
    "* Overlapping chunks were used to preserve context across segments and improve answer relevance.\n",
    "* Chunked data was reloaded into Langchain’s document format."
   ]
  },
  {
   "cell_type": "markdown",
   "id": "30968930-d044-4c53-9c33-b00f24e77ce9",
   "metadata": {},
   "source": [
    "**Embedding and Vector Store Population**"
   ]
  },
  {
   "cell_type": "markdown",
   "id": "4f82fd4c-5c12-4bf8-9cbd-9fd1126fd279",
   "metadata": {},
   "source": [
    "* Preprocessed text chunks were converted into embeddings.\n",
    "* Two vector databases, FAISS and QDrant, were evaluated and used interchangeably.\n",
    "* Both vector stores provided persistent storage with comparable performance, allowing similarity search over document embeddings."
   ]
  },
  {
   "cell_type": "markdown",
   "id": "9b4828be-3c99-46a9-83e9-59b799f348f5",
   "metadata": {},
   "source": [
    "**Retrieval-Augmented Generation (RAG)**"
   ]
  },
  {
   "cell_type": "markdown",
   "id": "acab58b8-e7d3-4bcd-bbdb-6cf2f4b8ea43",
   "metadata": {},
   "source": [
    "* The RetrievalQA chain from Langchain was used for document retrieval.\n",
    "* A custom Langchain Expression language chain was developed to integrate retrieved vectors as context into the OpenAI GPT-3.5-turbo model.\n",
    "* This architecture enabled question answering conditioned on the relevant legal document content."
   ]
  },
  {
   "cell_type": "markdown",
   "id": "656d4518-da43-4232-8e5d-56d5af7515bc",
   "metadata": {},
   "source": [
    "**Reference Answer Loading and Evaluation**"
   ]
  },
  {
   "cell_type": "markdown",
   "id": "3f9bd03d-6387-487a-af7d-e12d110f4ec7",
   "metadata": {},
   "source": [
    "* Reference answers were loaded from JSON files and structured into pandas DataFrames for benchmarking.\n",
    "* The AI-generated answers were evaluated against these benchmarks for relevance and correctness."
   ]
  },
  {
   "cell_type": "markdown",
   "id": "f335a33d-a3ad-4fec-a4d0-bad62be45ee9",
   "metadata": {},
   "source": [
    "**Results and Observations**"
   ]
  },
  {
   "cell_type": "markdown",
   "id": "89aed264-74ac-4e9b-aac8-7f7a872fa40c",
   "metadata": {},
   "source": [
    "* The system provides relevant answers when the underlying documents contain pertinent information.\n",
    "* Due to token constraints imposed by OpenAI’s API, only a fraction of the total document corpus could be processed.\n",
    "* Both FAISS and QDrant vector stores demonstrated similar efficacy in vector search and retrieval.\n",
    "* The custom RAG chain successfully combined vector-based retrieval with generative question answering.\n",
    "* Increase the number of documents ingested or increase number of test cases increase accuracy of result"
   ]
  },
  {
   "cell_type": "markdown",
   "id": "1244fb1b-45c4-4ff6-b803-410b3abdad25",
   "metadata": {},
   "source": [
    "**Conclusion**"
   ]
  },
  {
   "cell_type": "markdown",
   "id": "ed77a2f4-ca33-47c1-ab8d-415ae7506ffe",
   "metadata": {},
   "source": [
    "This project successfully demonstrates the end-to-end lifecycle of a Legal QnA system integrating Langchain, vector databases, text-embedding-3-small, and OpenAI GPT-3.5-turbo under a Retrieval-Augmented Generation framework. While current results are limited by token constraints, the modular architecture and approach provide a solid foundation for scalable and accurate legal document question answering.\n",
    "\n"
   ]
  },
  {
   "cell_type": "code",
   "execution_count": null,
   "id": "de36209c-4b66-44f2-94ad-e484fb95bd5d",
   "metadata": {},
   "outputs": [],
   "source": []
  }
 ],
 "metadata": {
  "colab": {
   "collapsed_sections": [
    "LeAeTqpZ-DYw",
    "fMmX8OrcN05D",
    "gonMO9wNE5dt"
   ],
   "provenance": [],
   "toc_visible": true
  },
  "kernelspec": {
   "display_name": "Python 3 (ipykernel)",
   "language": "python",
   "name": "python3"
  },
  "language_info": {
   "codemirror_mode": {
    "name": "ipython",
    "version": 3
   },
   "file_extension": ".py",
   "mimetype": "text/x-python",
   "name": "python",
   "nbconvert_exporter": "python",
   "pygments_lexer": "ipython3",
   "version": "3.9.13"
  }
 },
 "nbformat": 4,
 "nbformat_minor": 5
}
