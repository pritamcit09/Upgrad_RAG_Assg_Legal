{
 "cells": [
  {
   "cell_type": "markdown",
   "id": "lf5lYawIw8tE",
   "metadata": {
    "id": "lf5lYawIw8tE"
   },
   "source": [
    "# **Extracting Information from Legal Documents Using RAG**"
   ]
  },
  {
   "cell_type": "markdown",
   "id": "NY1InIbkw80B",
   "metadata": {
    "id": "NY1InIbkw80B"
   },
   "source": [
    "## **Objective**"
   ]
  },
  {
   "cell_type": "markdown",
   "id": "3403a4b5",
   "metadata": {
    "id": "3403a4b5"
   },
   "source": [
    "The main objective of this assignment is to process and analyse a collection text files containing legal agreements (e.g., NDAs) to prepare them for implementing a **Retrieval-Augmented Generation (RAG)** system. This involves:\n",
    "\n",
    "* Understand the Cleaned Data : Gain a comprehensive understanding of the structure, content, and context of the cleaned dataset.\n",
    "* Perform Exploratory Analysis : Conduct bivariate and multivariate analyses to uncover relationships and trends within the cleaned data.\n",
    "* Create Visualisations : Develop meaningful visualisations to support the analysis and make findings interpretable.\n",
    "* Derive Insights and Conclusions : Extract valuable insights from the cleaned data and provide clear, actionable conclusions.\n",
    "* Document the Process : Provide a detailed description of the data, its attributes, and the steps taken during the analysis for reproducibility and clarity.\n",
    "\n",
    "The ultimate goal is to transform the raw text data into a clean, structured, and analysable format that can be effectively used to build and train a RAG system for tasks like information retrieval, question-answering, and knowledge extraction related to legal agreements."
   ]
  },
  {
   "cell_type": "markdown",
   "id": "3TTEcbb5hIM-",
   "metadata": {
    "id": "3TTEcbb5hIM-"
   },
   "source": [
    "### **Business Value**  \n"
   ]
  },
  {
   "cell_type": "markdown",
   "id": "ZsfkEL2CgljF",
   "metadata": {
    "id": "ZsfkEL2CgljF"
   },
   "source": [
    "The project aims to leverage RAG to enhance legal document processing for businesses, law firms, and regulatory bodies. The key business objectives include:\n",
    "\n",
    "* Faster Legal Research: <br> Reduce the time lawyers and compliance officers spend searching for relevant case laws, precedents, statutes, or contract clauses.\n",
    "* Improved Contract Analysis: <br> Automatically extract key terms, obligations, and risks from lengthy contracts.\n",
    "* Regulatory Compliance Monitoring: <br> Help businesses stay updated with legal and regulatory changes by retrieving relevant legal updates.\n",
    "* Enhanced Decision-Making: <br> Provide accurate and context-aware legal insights to assist in risk assessment and legal strategy.\n",
    "\n",
    "\n",
    "**Use Cases**\n",
    "* Legal Chatbots\n",
    "* Contract Review Automation\n",
    "* Tracking Regulatory Changes and Compliance Monitoring\n",
    "* Case Law Analysis of past judgments\n",
    "* Due Diligence & Risk Assessment"
   ]
  },
  {
   "cell_type": "markdown",
   "id": "rDp_EWxVOhUu",
   "metadata": {
    "id": "rDp_EWxVOhUu"
   },
   "source": [
    "## **1. Data Loading, Preparation and Analysis** <font color=red> [20 marks] </font><br>"
   ]
  },
  {
   "cell_type": "markdown",
   "id": "JZGTCfyUxalZ",
   "metadata": {
    "id": "JZGTCfyUxalZ"
   },
   "source": [
    "### **1.1 Data Understanding**"
   ]
  },
  {
   "cell_type": "markdown",
   "id": "ok6sSYNAiG8V",
   "metadata": {
    "id": "ok6sSYNAiG8V"
   },
   "source": [
    "The dataset contains legal documents and contracts collected from various sources. The documents are present as text files (`.txt`) in the *corpus* folder.\n",
    "\n",
    "There are four types of documents in the *courpus* folder, divided into four subfolders.\n",
    "- `contractnli`: contains various non-disclosure and confidentiality agreements\n",
    "- `cuad`: contains contracts with annotated legal clauses\n",
    "- `maud`: contains various merger/acquisition contracts and agreements\n",
    "- `privacy_qa`: a question-answering dataset containing privacy policies\n",
    "\n",
    "The dataset also contains evaluation files in JSON format in the *benchmark* folder. The files contain the questions and their answers, along with sources. For each of the above four folders, there is a `json` file: `contractnli.json`, `cuad.json`, `maud.json` `privacy_qa.json`. The file structure is as follows:\n",
    "\n",
    "```\n",
    "{\n",
    "    \"tests\": [\n",
    "        {\n",
    "            \"query\": <question1>,\n",
    "            \"snippets\": [{\n",
    "                    \"file_path\": <source_file1>,\n",
    "                    \"span\": [ begin_position, end_position ],\n",
    "                    \"answer\": <relevant answer to the question 1>\n",
    "                },\n",
    "                {\n",
    "                    \"file_path\": <source_file2>,\n",
    "                    \"span\": [ begin_position, end_position ],\n",
    "                    \"answer\": <relevant answer to the question 2>\n",
    "                }, ....\n",
    "            ]\n",
    "        },\n",
    "        {\n",
    "            \"query\": <question2>,\n",
    "            \"snippets\": [{<answer context for que 2>}]\n",
    "        },\n",
    "        ... <more queries>\n",
    "    ]\n",
    "}\n",
    "```"
   ]
  },
  {
   "cell_type": "markdown",
   "id": "S7Ac8VxvjWnw",
   "metadata": {
    "id": "S7Ac8VxvjWnw"
   },
   "source": [
    "### **1.2 Load and Preprocess the data** <font color=red> [5 marks] </font><br>"
   ]
  },
  {
   "cell_type": "code",
   "execution_count": 1,
   "id": "26e83c5f-afe9-43fa-aa4e-b9ea2247d84e",
   "metadata": {},
   "outputs": [],
   "source": [
    "import warnings\n",
    "\n",
    "# Suppress all warnings\n",
    "warnings.filterwarnings('ignore')"
   ]
  },
  {
   "cell_type": "markdown",
   "id": "gJ8fA4Nh3fHg",
   "metadata": {
    "id": "gJ8fA4Nh3fHg"
   },
   "source": [
    "#### Loading libraries"
   ]
  },
  {
   "cell_type": "code",
   "execution_count": 2,
   "id": "1b1d1fe4-244d-4f8f-b550-ee96608e9a40",
   "metadata": {},
   "outputs": [
    {
     "name": "stdout",
     "output_type": "stream",
     "text": [
      "Requirement already satisfied: numpy<2.0 in c:\\users\\prita\\appdata\\local\\packages\\pythonsoftwarefoundation.python.3.9_qbz5n2kfra8p0\\localcache\\local-packages\\python39\\site-packages (1.26.4)\n"
     ]
    }
   ],
   "source": [
    "!pip install \"numpy<2.0\"\n"
   ]
  },
  {
   "cell_type": "code",
   "execution_count": 3,
   "id": "BqyFHhSn48tC",
   "metadata": {
    "id": "BqyFHhSn48tC"
   },
   "outputs": [
    {
     "name": "stdout",
     "output_type": "stream",
     "text": [
      "Requirement already satisfied: faiss-cpu in c:\\users\\prita\\appdata\\local\\packages\\pythonsoftwarefoundation.python.3.9_qbz5n2kfra8p0\\localcache\\local-packages\\python39\\site-packages (1.11.0)\n",
      "Requirement already satisfied: numpy<3.0,>=1.25.0 in c:\\users\\prita\\appdata\\local\\packages\\pythonsoftwarefoundation.python.3.9_qbz5n2kfra8p0\\localcache\\local-packages\\python39\\site-packages (from faiss-cpu) (1.26.4)\n",
      "Requirement already satisfied: packaging in c:\\users\\prita\\appdata\\local\\packages\\pythonsoftwarefoundation.python.3.9_qbz5n2kfra8p0\\localcache\\local-packages\\python39\\site-packages (from faiss-cpu) (24.2)\n"
     ]
    }
   ],
   "source": [
    "## The following libraries might be useful\n",
    "!pip install -q langchain-openai\n",
    "!pip install -U -q langchain-community\n",
    "!pip install -U -q langchain-chroma\n",
    "!pip install -U -q datasets\n",
    "!pip install -U -q ragas\n",
    "!pip install -U -q rouge_score\n",
    "!pip install -U -q langchain\n",
    "!pip install  -U -q onnxruntime\n",
    "!pip install faiss-cpu"
   ]
  },
  {
   "cell_type": "code",
   "execution_count": 4,
   "id": "f2db4859-a32a-4410-8b53-3520c0f9d835",
   "metadata": {},
   "outputs": [],
   "source": [
    "# Import essential libraries\n",
    "import os\n",
    "import openai\n",
    "from langchain_openai import ChatOpenAI, OpenAI\n",
    "from langchain_community.document_loaders import DirectoryLoader, TextLoader\n",
    "import chromadb\n",
    "from chromadb.utils.embedding_functions import OpenAIEmbeddingFunction\n",
    "from langchain_openai import OpenAIEmbeddings\n",
    "\n",
    "# from langchain.vectorstores import Chroma\n",
    "from langchain.vectorstores import FAISS\n",
    "\n",
    "from langchain.schema import Document\n",
    "from chromadb.config import Settings\n",
    "from langchain.text_splitter import RecursiveCharacterTextSplitter\n",
    "\n",
    "from transformers import AutoTokenizer\n",
    "\n",
    "import re\n",
    "import logging\n",
    "import random\n",
    "import numpy as np"
   ]
  },
  {
   "cell_type": "code",
   "execution_count": 5,
   "id": "Qpn-qbhAi58F",
   "metadata": {
    "id": "Qpn-qbhAi58F"
   },
   "outputs": [
    {
     "name": "stderr",
     "output_type": "stream",
     "text": [
      "[nltk_data] Downloading package punkt to\n",
      "[nltk_data]     C:\\Users\\prita\\AppData\\Roaming\\nltk_data...\n",
      "[nltk_data]   Package punkt is already up-to-date!\n",
      "[nltk_data] Downloading package averaged_perceptron_tagger to\n",
      "[nltk_data]     C:\\Users\\prita\\AppData\\Roaming\\nltk_data...\n",
      "[nltk_data]   Package averaged_perceptron_tagger is already up-to-\n",
      "[nltk_data]       date!\n",
      "[nltk_data] Downloading package stopwords to\n",
      "[nltk_data]     C:\\Users\\prita\\AppData\\Roaming\\nltk_data...\n",
      "[nltk_data]   Package stopwords is already up-to-date!\n"
     ]
    }
   ],
   "source": [
    "import nltk\n",
    "from nltk.corpus import stopwords\n",
    "nltk.download('punkt')\n",
    "nltk.download('averaged_perceptron_tagger')\n",
    "nltk.download('stopwords')\n",
    "\n",
    "from langchain.schema import Document\n",
    "from collections import Counter\n",
    "\n",
    "from sklearn.feature_extraction.text import TfidfVectorizer\n",
    "from sklearn.metrics.pairwise import cosine_similarity\n",
    "import seaborn as sns\n",
    "import matplotlib.pyplot as plt\n",
    "\n"
   ]
  },
  {
   "cell_type": "markdown",
   "id": "zOMf-tfIiOlp",
   "metadata": {
    "id": "zOMf-tfIiOlp"
   },
   "source": [
    "#### **1.2.1** <font color=red> [3 marks] </font>\n",
    "Load all `.txt` files from the folders."
   ]
  },
  {
   "cell_type": "markdown",
   "id": "f2ea36ba",
   "metadata": {
    "id": "f2ea36ba"
   },
   "source": [
    "You can utilise document loaders from the options provided by the LangChain community.\n",
    "\n",
    "Optionally, you can also read the files manually, while ensuring proper handling of encoding issues (e.g., utf-8, latin1). In such case, also store the file content along with metadata (e.g., file name, directory path) for traceability."
   ]
  },
  {
   "cell_type": "code",
   "execution_count": 7,
   "id": "I9rTY8DWx2Wj",
   "metadata": {
    "id": "I9rTY8DWx2Wj"
   },
   "outputs": [
    {
     "name": "stdout",
     "output_type": "stream",
     "text": [
      "2 documents loaded.\n"
     ]
    }
   ],
   "source": [
    "# Load the files as documents\n",
    "\n",
    "# Define root folder\n",
    "rootfolder = \"C:/Users/prita/Downloads/Starter and Dataset RAG Legal\"\n",
    "\n",
    "# Use limited document due to limit in token\n",
    "documents_to_use = 2\n",
    "\n",
    "# Use limited number of docs for test\n",
    "docs_for_test = 2\n",
    "\n",
    "loader = DirectoryLoader(\n",
    "        path = rootfolder + \"/rag_legal/corpus\",\n",
    "        glob = \"**/*.txt\",\n",
    "        loader_cls = lambda path: TextLoader(path, encoding=\"utf-8\")\n",
    ")\n",
    "\n",
    "documents = loader.load()\n",
    "\n",
    "documents = documents[:documents_to_use]\n",
    "\n",
    "print(f\"{len(documents)} documents loaded.\")\n"
   ]
  },
  {
   "cell_type": "markdown",
   "id": "K4HYLoUjwmMs",
   "metadata": {
    "id": "K4HYLoUjwmMs"
   },
   "source": [
    "#### **1.2.2** <font color=red> [2 marks] </font>\n",
    "Preprocess the text data to remove noise and prepare it for analysis."
   ]
  },
  {
   "cell_type": "markdown",
   "id": "e9793fdf",
   "metadata": {
    "id": "e9793fdf"
   },
   "source": [
    "Remove special characters, extra whitespace, and irrelevant content such as email and telephone contact info.\n",
    "Normalise text (e.g., convert to lowercase, remove stop words).\n",
    "Handle missing or corrupted data by logging errors and skipping problematic files."
   ]
  },
  {
   "cell_type": "code",
   "execution_count": 8,
   "id": "f756d6ef-ff06-4ca2-b435-fb5a3630ff21",
   "metadata": {},
   "outputs": [],
   "source": [
    "# Clean and preprocess the data by removing whitespace, email/phone, special characters, stopwords and lowercasing the words\n",
    "stop_words = set(stopwords.words('english'))\n",
    "\n",
    "def txtpreprocessing(text):\n",
    "    text = text.lower()\n",
    "\n",
    "    # remove email and phone number\n",
    "    text = re.sub(r'\\b[\\w\\.-]+@[\\w\\.-]+\\.\\w{2,4}\\b', '', text)  # Emails\n",
    "    text = re.sub(r'\\+?\\d[\\d\\s().-]{7,}', '', text)  # Phone numbers\n",
    "    text = re.sub(r'^\\s*\\d+(?:\\.\\d+)*\\.\\s+', '', text, flags=re.MULTILINE) # removing bullet headers and numbers\n",
    "    # Remove special characters\n",
    "    text = re.sub(r'[^a-z0-9\\s]', ' ', text)\n",
    "\n",
    "    # Remove extra whitespace\n",
    "    text = re.sub(r'\\s+', ' ', text).strip()\n",
    "\n",
    "    # Remove stopwords\n",
    "    text = ' '.join([word for word in text.split() if word not in stop_words])\n",
    "    \n",
    "    return text\n"
   ]
  },
  {
   "cell_type": "code",
   "execution_count": 9,
   "id": "1ec87e69",
   "metadata": {
    "id": "1ec87e69"
   },
   "outputs": [],
   "source": [
    "#processing the text and handling missing/corrupted data and skipping and recording the skipped files \n",
    "cleaned_documents = []\n",
    "\n",
    "for i, doc in enumerate(documents):\n",
    "    try:\n",
    "        #ensuring the doc has content and its in string form\n",
    "        if not doc.page_content or not isinstance(doc.page_content, str):\n",
    "            raise ValueError(\"Missing or invalid content\")\n",
    "            \n",
    "        # Preprocessing the document content using txtpreprocessing function defined above\n",
    "        cleaned_txt = txtpreprocessing(doc.page_content)\n",
    "        \n",
    "        # Creating new doc with cleaned text\n",
    "        cleaned_doc = Document(page_content=cleaned_txt, metadata=doc.metadata)\n",
    "        cleaned_documents.append(cleaned_doc)\n",
    "        \n",
    "    except Exception as e:\n",
    "        # loggint the error and skipping\n",
    "        print(f\"skipping document {i} ({doc.metadatae.get('source', 'unknown')}): {e}\")        "
   ]
  },
  {
   "cell_type": "code",
   "execution_count": 10,
   "id": "27986fa3",
   "metadata": {},
   "outputs": [
    {
     "data": {
      "text/plain": [
       "langchain_core.documents.base.Document"
      ]
     },
     "execution_count": 10,
     "metadata": {},
     "output_type": "execute_result"
    }
   ],
   "source": [
    "# Display first cleaned document type\n",
    "type(cleaned_documents[0])"
   ]
  },
  {
   "cell_type": "code",
   "execution_count": 11,
   "id": "ee569013-6ceb-43c7-99e7-8d817949db9c",
   "metadata": {},
   "outputs": [
    {
     "data": {
      "text/plain": [
       "'mutual non disclosure agreement subject matter effective date agreement period 2017 exchange information 2017 period confidentiality agreement made effective date agreement noted parties background parties desire discussions relating subject matter purposes evaluating possible business relationship purpose parties may extend subject matter add additional parties executing one addenda agreement ii discussions may involve disclosure one party party confidential proprietary trade secret information licensors confidential information defined period exchange information iii parties recognize value confidential information mutual best interests maintain confidential proprietary secret nature confidential information therefore consideration subject matter mutual promises herein parties agree follows confidential information term confidential information used herein means nonpublic information relating subject matter disclosed either party affiliates defined agents applicable collectively referred disclosing party directly indirectly writing orally inspection premises tangible objects party recipient marked confidential proprietary ii given nature information circumstances surrounding disclosure reasonably deemed confidential confidential information includes limited documents drawings models apparatus sketches designs schedules product plans marketing plans technical procedures manufacturing processes software prototypes samples methodologies formulations trade secrets patent applications know experimental results specifications business information period confidentiality non use recipient use confidential information connection purpose set forth agreement recipient shall use degree care avoid disclosure use confidential information uses confidential proprietary trade secret information case use less reasonable degree care recipient agrees limit disclosure confidential information employees employees affiliates specific need know confidential information purpose case affiliates extent affiliate obligation hold information confidence made aware terms conditions recipient disclose permit access confidential information contract workers consultants contractors recipient affiliates unless authorized disclosing party writing condition persons bound obligations confidentiality inuring benefit disclosing party affiliates least restrictive terms conditions recipient shall without disclosing party prior written consent reverse engineer disassemble decompile prototypes software objects embody disclosing party confidential information obtain access disclosing party trade secrets extent consent granted recipient shall receive hold confidential information subject terms agreement term term agreement shall period exchange set forth confidentiality obligations shall survive termination agreement period confidentiality set forth unless confidential information trade secret case confidentiality obligations shall continue long information trade secret either party may terminate agreement upon 30 days prior written notice notice unauthorized use recipient shall provide written notice disclosing party without undue delay misuse misappropriation confidential information may come attention recipient recipient shall cooperate aid disclosing party mitigating preventing unauthorized use disclosure furtherance thereof exclusions exemptions recipient shall obligation confidentiality respect information already known possession recipient affiliate time disclosure shown recipient affiliates files records prior time disclosure otherwise result improper act omission recipient affiliate becomes public knowledge wrongful act recipient rightfully acquired others obtain obligation confidentiality independently developed employee agent consultant recipient without reference confidential information approved release written authorization disclosing party recipient hereby notified set forth 18 u c 1833 b criminal civil liability u trade secret law following disclosures trade secret disclosure confidence federal state local government official either directly indirectly attorney provided disclosure sole purpose reporting investigating suspected violation law disclosure complaint document filed lawsuit proceeding filing made seal circumstances recipient files lawsuit retaliation disclosing party reporting suspected violation law recipient may disclose disclosing party trade secret information attorney may use trade secret information court proceeding recipient files document containing trade secret seal disclose trade secret except pursuant court order reproduction return confidential information confidential information provided disclosing party shall copied reproduced without disclosing party prior written permission except copies may reasonably required purpose set forth section agreement disclosing party may serve written request recipient return destruction confidential information time six 6 months termination expiry agreement recipient shall within thirty 30 days request termination return disclosing party designees certify destroyed confidential information whatever form including written electronically recorded information copies thereof copies retained automatic back archive systems provided however recipient shall entitled retain one copy confidential information legal counsel appropriate corporate representative evidence exchange information hereunder connection legal statutory requirements retained copies shall remain subject use disclosure restrictions agreement disclosures required law recipient requested ordered required regulatory agency government authority court disclose confidential information recipient shall promptly notify disclosing party request order requirement disclosing party may opportunity contest disclosure including seeking protective order waive recipient compliance agreement recipient opinion counsel compelled disclose confidential information else liable contempt penalty subject claims third party recipient may disclose confidential information without liability agreement export laws neither party shall export directly indirectly confidential information country person entity us government time export requires export license governmental approval without first obtaining license approval recipient shall first obtain written consent disclosing party prior submitting request authority export confidential information purposes agreement export occurs confidential information transferred one country another means including limited physical shipments ftp file transfers e mails faxes oral transfers remote server access export may also occur confidential information transferred accessed person neither citizen permanent resident country transfer access taking place ownership confidential information disclosing party licensors case may retain rights confidential information disclosed documents prototypes software development kits sdks similar tangible property embodying containing reflecting shall remain property disclosing party license neither execution agreement disclosure confidential information construed granting either expressly implication estoppel otherwise license right confidential information intellectual property rights embodied therein warranty confidential information provided agreement provided specifically excludes warranty whether express implied including without limitation implied warranty merchantability fitness particular purpose accuracy disclosing party liable agreement damages connection related arising use confidential information obligation agreement shall construed manner obligation enter substantive contract disclose particular confidential information independent developments disclosing party understands recipient may develop developed information internally receive received information parties similar confidential information accordingly nothing agreement shall construed representation recipient independently develop products compete products systems contemplated confidential information provided without breaching terms agreement relationship party hereto shall considered independent contractor responsible expenses financial obligations incurred performance agreement waiver neither party waives rights invention development lawfully possessed time signing agreement addition agreement imply waiver rights action patent trademark copyright trade secret unfair competition fair trade related laws failure exercise rights agreement shall construed waiver rights inurement agreement shall inure benefit parties hereto respective affiliates defined successors assigns legal representatives parties agree party affiliates may receive confidential information disclose confidential information party party affiliates confidential information shall governed agreement recipient shall fully responsible disclosing party breach agreement recipient affiliates affiliate used herein means entity directly indirectly controls controlled common control party agreement used section control controls controlled means fifty one percent 51 ownership beneficial interest income capital entity ii ownership least fifty one percent 51 voting power voting equity iii ability otherwise direct share management policies entity injunctive relief parties agree use confidential information violation agreement may cause party irreparable harm may leave adequate remedy law shall thereby entitle seek injunctive relief court competent jurisdiction party party affiliate violation choice law agreement governed construed accordance laws state michigan without regard principles conflict choice laws parties hereby unconditionally irrevocably agree submit exclusive jurisdiction state federal courts state michigan survival sections 1 2 3 4 5 6 17 18 19 sections parts thereof nature intended survive termination shall survive termination agreement severability court finds provision agreement right obligation invalid unenforceable agreement shall immediately deemed amended include provision reflects intent parties possible ii exclude provision parties shall negotiate good faith substitute provision reflect parties intent time entering agreement entire agreement agreement contains entire understanding parties regarding confidential information supersedes communications reports understandings parties respect thereto change addition provision shall binding unless writing signed authorized representative parties notices shall writing delivered electronic mail registered certified mail return receipt requested appropriate address set forth signature block headings headings agreement reference shall affect meaning provisions counterparts agreement may signed two counterparts including signing facsimile copies counterpart deemed original counterparts together shall constitute one instrument witness whereof parties hereto caused authorized representatives execute agreement date first written signature signature print name print name title title date date signature print name title date'"
      ]
     },
     "execution_count": 11,
     "metadata": {},
     "output_type": "execute_result"
    }
   ],
   "source": [
    "# Display first cleaned document\n",
    "cleaned_documents[0].page_content"
   ]
  },
  {
   "cell_type": "markdown",
   "id": "b9e90470",
   "metadata": {
    "id": "b9e90470"
   },
   "source": [
    "### **1.3 Exploratory Data Analysis** <font color=red> [10 marks] </font><br>"
   ]
  },
  {
   "cell_type": "markdown",
   "id": "Nd1K4yhIzyPp",
   "metadata": {
    "id": "Nd1K4yhIzyPp"
   },
   "source": [
    "#### **1.3.1** <font color=red> [1 marks] </font>\n",
    "Calculate the average, maximum and minimum document length."
   ]
  },
  {
   "cell_type": "code",
   "execution_count": 12,
   "id": "tQT1UIcOHSp9",
   "metadata": {
    "id": "tQT1UIcOHSp9"
   },
   "outputs": [
    {
     "name": "stdout",
     "output_type": "stream",
     "text": [
      "average document length: 910.50 words\n",
      "maximum document length: 1286 words\n",
      "minimum document length: 535 words\n"
     ]
    }
   ],
   "source": [
    "# Calculate the average, maximum and minimum document length.\n",
    "doc_lengths = [len(doc.page_content.split()) for doc in cleaned_documents] #if isinstance(doc.page_content, str)]\n",
    "\n",
    "# Ensure there are valid documents\n",
    "if doc_lengths:\n",
    "    average_length = sum(doc_lengths) / len(doc_lengths)\n",
    "    max_length = max(doc_lengths)\n",
    "    min_length = min(doc_lengths)\n",
    "\n",
    "    print(f\"average document length: {average_length:.2f} words\")\n",
    "    print(f\"maximum document length: {max_length} words\")\n",
    "    print(f\"minimum document length: {min_length} words\")"
   ]
  },
  {
   "cell_type": "markdown",
   "id": "18xQu__O0wLv",
   "metadata": {
    "id": "18xQu__O0wLv"
   },
   "source": [
    "#### **1.3.2** <font color=red> [4 marks] </font>\n",
    "Analyse the frequency of occurrence of words and find the most and least occurring words."
   ]
  },
  {
   "cell_type": "markdown",
   "id": "IQ_i5YfFH2dg",
   "metadata": {
    "id": "IQ_i5YfFH2dg"
   },
   "source": [
    "Find the 20 most common and least common words in the text. Ignore stop words such as articles and prepositions."
   ]
  },
  {
   "cell_type": "code",
   "execution_count": 13,
   "id": "Q8eiDTy2Ic8z",
   "metadata": {
    "id": "Q8eiDTy2Ic8z"
   },
   "outputs": [],
   "source": [
    "# Find frequency of occurence of words\n",
    "text_all = \" \".join([doc.page_content for doc in cleaned_documents if isinstance(doc.page_content, str)])\n",
    "\n",
    "#tokenizing the words in the text corpus\n",
    "token = nltk.word_tokenize(text_all)\n",
    "\n",
    "# filtering stop words, alphabetic words and words with length more than 2 as smaller words may not make any sense in this context\n",
    "filterwords = [word for word in token if word.isalpha() and word not in stop_words and len(word)>2]\n",
    "\n",
    "# counting words\n",
    "word_count = Counter(filterwords)"
   ]
  },
  {
   "cell_type": "code",
   "execution_count": 14,
   "id": "401aa746",
   "metadata": {},
   "outputs": [
    {
     "name": "stdout",
     "output_type": "stream",
     "text": [
      "20 Most Common Words:\n",
      "information: 78\n",
      "confidential: 62\n",
      "agreement: 54\n",
      "party: 41\n",
      "shall: 41\n",
      "recipient: 34\n",
      "disclosing: 25\n",
      "may: 23\n",
      "disclosee: 21\n",
      "disclosure: 19\n",
      "parties: 19\n",
      "trade: 15\n",
      "sellers: 15\n",
      "use: 13\n",
      "representatives: 13\n",
      "date: 12\n",
      "secret: 12\n",
      "without: 12\n",
      "confidentiality: 11\n",
      "affiliates: 10\n",
      "\n",
      "20 Least Common Words:\n",
      "rative: 1\n",
      "responsabilit: 1\n",
      "vat: 1\n",
      "rpr: 1\n",
      "brussel: 1\n",
      "rpm: 1\n",
      "bruxelles: 1\n",
      "iban: 1\n",
      "bic: 1\n",
      "kredbebb: 1\n",
      "member: 1\n",
      "touche: 1\n",
      "tohmatsu: 1\n",
      "cooperative: 1\n",
      "register: 1\n",
      "ing: 1\n",
      "list: 1\n",
      "partners: 1\n",
      "obtained: 1\n",
      "website: 1\n"
     ]
    }
   ],
   "source": [
    "# finding 20 most common and least common words from the list\n",
    "most_common = word_count.most_common(20)\n",
    "least_common = word_count.most_common()[-20:]\n",
    "\n",
    "#printing words\n",
    "print(\"20 Most Common Words:\")\n",
    "for word, freq in most_common:\n",
    "    print(f\"{word}: {freq}\")\n",
    "\n",
    "print(\"\\n20 Least Common Words:\")\n",
    "for word, freq in least_common:\n",
    "    print(f\"{word}: {freq}\")"
   ]
  },
  {
   "cell_type": "markdown",
   "id": "xlF55RNjz9pQ",
   "metadata": {
    "id": "xlF55RNjz9pQ"
   },
   "source": [
    "#### **1.3.3** <font color=red> [4 marks] </font>\n",
    "Analyse the similarity of different documents to each other based on TF-IDF vectors."
   ]
  },
  {
   "cell_type": "markdown",
   "id": "jciCNMelOGPJ",
   "metadata": {
    "id": "jciCNMelOGPJ"
   },
   "source": [
    "Transform some documents to TF-IDF vectors and calculate their similarity matrix using a suitable distance function. If contracts contain duplicate or highly similar clauses, similarity calculation can help detect them.\n",
    "\n",
    "Identify for the first 10 documents and then for 10 random documents. What do you observe?"
   ]
  },
  {
   "cell_type": "code",
   "execution_count": 15,
   "id": "M-_SrvDcMnKi",
   "metadata": {
    "id": "M-_SrvDcMnKi",
    "scrolled": true
   },
   "outputs": [],
   "source": [
    "# Transform the page contents of documents\n",
    "vectorizer =  TfidfVectorizer(stop_words='english')\n",
    "\n",
    "text = [doc.page_content for doc in cleaned_documents]\n",
    "\n",
    "tfidf_matrix = vectorizer.fit_transform(text)\n",
    "\n",
    "# Due to limited token limited number of rows to be used\n",
    "rows_to_use = 10\n",
    "# Use 10 if doc length is 10, else use doc length\n",
    "if documents_to_use >= 10:\n",
    "    rows_to_use = 10\n",
    "else:\n",
    "    rows_to_use = len(cleaned_documents)\n",
    "\n",
    "# Cosine similarity matrix\n",
    "similarity_matrix = cosine_similarity(tfidf_matrix)\n",
    "\n",
    "# For first 10 documents\n",
    "sim_first_10 = similarity_matrix[:rows_to_use]\n",
    "\n",
    "# For 10 random documents\n",
    "random.seed(42)\n",
    "random_idx = random.sample(range(len(documents)), rows_to_use)\n",
    "sim_random_10 = similarity_matrix[np.ix_(random_idx, random_idx)]"
   ]
  },
  {
   "cell_type": "code",
   "execution_count": 16,
   "id": "30bbc150",
   "metadata": {},
   "outputs": [
    {
     "data": {
      "image/png": "[encoded data removed]",
      "text/plain": [
       "<Figure size 500x500 with 2 Axes>"
      ]
     },
     "metadata": {},
     "output_type": "display_data"
    },
    {
     "data": {
      "image/png": "[encoded data removed]",
      "text/plain": [
       "<Figure size 500x500 with 2 Axes>"
      ]
     },
     "metadata": {},
     "output_type": "display_data"
    }
   ],
   "source": [
    "# heatmap of random document similarity score\n",
    "plt.figure(figsize=(5, 5))\n",
    "sns.heatmap(sim_first_10, annot=True, cmap=\"YlGnBu\")\n",
    "plt.show()\n",
    "\n",
    "plt.figure(figsize=(5, 5))\n",
    "sns.heatmap(sim_random_10, annot=True, cmap=\"YlOrRd\")\n",
    "plt.show()"
   ]
  },
  {
   "cell_type": "markdown",
   "id": "pCw3NzcE3waS",
   "metadata": {
    "id": "pCw3NzcE3waS"
   },
   "source": [
    "#### **1.4.1** <font color=red> [5 marks] </font>\n",
    "Perform appropriate steps to split the text into chunks."
   ]
  },
  {
   "cell_type": "code",
   "execution_count": 17,
   "id": "TjZ6yf9r2p1F",
   "metadata": {
    "id": "TjZ6yf9r2p1F"
   },
   "outputs": [
    {
     "name": "stdout",
     "output_type": "stream",
     "text": [
      "Content: mutual non disclosure agreement subject matter effective date agreement period 2017 exchange information 2017 period confidentiality agreement made effective date agreement noted parties background parties desire discussions relating subject matter purposes evaluating possible business relationship purpose parties may extend subject matter add additional parties executing one addenda agreement ii discussions may involve disclosure one party party confidential proprietary trade secret information licensors confidential information defined period exchange information iii parties recognize value confidential information mutual best interests maintain confidential proprietary secret nature confidential information therefore consideration subject matter mutual promises herein parties agree follows confidential information term confidential information used herein means nonpublic information relating subject matter disclosed either party affiliates defined agents applicable collectively, Metadata: {'source': 'C:\\\\Users\\\\prita\\\\Downloads\\\\Starter and Dataset RAG Legal\\\\rag_legal\\\\corpus\\\\contractnli\\\\01_Bosch-Automotive-Service-Solutions-Mutual-Non-Disclosure-Agreement-7-12-17.txt'}\n",
      "Content: relating subject matter disclosed either party affiliates defined agents applicable collectively referred disclosing party directly indirectly writing orally inspection premises tangible objects party recipient marked confidential proprietary ii given nature information circumstances surrounding disclosure reasonably deemed confidential confidential information includes limited documents drawings models apparatus sketches designs schedules product plans marketing plans technical procedures manufacturing processes software prototypes samples methodologies formulations trade secrets patent applications know experimental results specifications business information period confidentiality non use recipient use confidential information connection purpose set forth agreement recipient shall use degree care avoid disclosure use confidential information uses confidential proprietary trade secret information case use less reasonable degree care recipient agrees limit disclosure confidential, Metadata: {'source': 'C:\\\\Users\\\\prita\\\\Downloads\\\\Starter and Dataset RAG Legal\\\\rag_legal\\\\corpus\\\\contractnli\\\\01_Bosch-Automotive-Service-Solutions-Mutual-Non-Disclosure-Agreement-7-12-17.txt'}\n",
      "Content: information case use less reasonable degree care recipient agrees limit disclosure confidential information employees employees affiliates specific need know confidential information purpose case affiliates extent affiliate obligation hold information confidence made aware terms conditions recipient disclose permit access confidential information contract workers consultants contractors recipient affiliates unless authorized disclosing party writing condition persons bound obligations confidentiality inuring benefit disclosing party affiliates least restrictive terms conditions recipient shall without disclosing party prior written consent reverse engineer disassemble decompile prototypes software objects embody disclosing party confidential information obtain access disclosing party trade secrets extent consent granted recipient shall receive hold confidential information subject terms agreement term term agreement shall period exchange set forth confidentiality obligations shall, Metadata: {'source': 'C:\\\\Users\\\\prita\\\\Downloads\\\\Starter and Dataset RAG Legal\\\\rag_legal\\\\corpus\\\\contractnli\\\\01_Bosch-Automotive-Service-Solutions-Mutual-Non-Disclosure-Agreement-7-12-17.txt'}\n",
      "Content: agreement term term agreement shall period exchange set forth confidentiality obligations shall survive termination agreement period confidentiality set forth unless confidential information trade secret case confidentiality obligations shall continue long information trade secret either party may terminate agreement upon 30 days prior written notice notice unauthorized use recipient shall provide written notice disclosing party without undue delay misuse misappropriation confidential information may come attention recipient recipient shall cooperate aid disclosing party mitigating preventing unauthorized use disclosure furtherance thereof exclusions exemptions recipient shall obligation confidentiality respect information already known possession recipient affiliate time disclosure shown recipient affiliates files records prior time disclosure otherwise result improper act omission recipient affiliate becomes public knowledge wrongful act recipient rightfully acquired others obtain, Metadata: {'source': 'C:\\\\Users\\\\prita\\\\Downloads\\\\Starter and Dataset RAG Legal\\\\rag_legal\\\\corpus\\\\contractnli\\\\01_Bosch-Automotive-Service-Solutions-Mutual-Non-Disclosure-Agreement-7-12-17.txt'}\n",
      "Content: affiliate becomes public knowledge wrongful act recipient rightfully acquired others obtain obligation confidentiality independently developed employee agent consultant recipient without reference confidential information approved release written authorization disclosing party recipient hereby notified set forth 18 u c 1833 b criminal civil liability u trade secret law following disclosures trade secret disclosure confidence federal state local government official either directly indirectly attorney provided disclosure sole purpose reporting investigating suspected violation law disclosure complaint document filed lawsuit proceeding filing made seal circumstances recipient files lawsuit retaliation disclosing party reporting suspected violation law recipient may disclose disclosing party trade secret information attorney may use trade secret information court proceeding recipient files document containing trade secret seal disclose trade secret except pursuant court order reproduction, Metadata: {'source': 'C:\\\\Users\\\\prita\\\\Downloads\\\\Starter and Dataset RAG Legal\\\\rag_legal\\\\corpus\\\\contractnli\\\\01_Bosch-Automotive-Service-Solutions-Mutual-Non-Disclosure-Agreement-7-12-17.txt'}\n",
      "Content: containing trade secret seal disclose trade secret except pursuant court order reproduction return confidential information confidential information provided disclosing party shall copied reproduced without disclosing party prior written permission except copies may reasonably required purpose set forth section agreement disclosing party may serve written request recipient return destruction confidential information time six 6 months termination expiry agreement recipient shall within thirty 30 days request termination return disclosing party designees certify destroyed confidential information whatever form including written electronically recorded information copies thereof copies retained automatic back archive systems provided however recipient shall entitled retain one copy confidential information legal counsel appropriate corporate representative evidence exchange information hereunder connection legal statutory requirements retained copies shall remain subject use disclosure, Metadata: {'source': 'C:\\\\Users\\\\prita\\\\Downloads\\\\Starter and Dataset RAG Legal\\\\rag_legal\\\\corpus\\\\contractnli\\\\01_Bosch-Automotive-Service-Solutions-Mutual-Non-Disclosure-Agreement-7-12-17.txt'}\n",
      "Content: connection legal statutory requirements retained copies shall remain subject use disclosure restrictions agreement disclosures required law recipient requested ordered required regulatory agency government authority court disclose confidential information recipient shall promptly notify disclosing party request order requirement disclosing party may opportunity contest disclosure including seeking protective order waive recipient compliance agreement recipient opinion counsel compelled disclose confidential information else liable contempt penalty subject claims third party recipient may disclose confidential information without liability agreement export laws neither party shall export directly indirectly confidential information country person entity us government time export requires export license governmental approval without first obtaining license approval recipient shall first obtain written consent disclosing party prior submitting request authority export confidential, Metadata: {'source': 'C:\\\\Users\\\\prita\\\\Downloads\\\\Starter and Dataset RAG Legal\\\\rag_legal\\\\corpus\\\\contractnli\\\\01_Bosch-Automotive-Service-Solutions-Mutual-Non-Disclosure-Agreement-7-12-17.txt'}\n",
      "Content: obtain written consent disclosing party prior submitting request authority export confidential information purposes agreement export occurs confidential information transferred one country another means including limited physical shipments ftp file transfers e mails faxes oral transfers remote server access export may also occur confidential information transferred accessed person neither citizen permanent resident country transfer access taking place ownership confidential information disclosing party licensors case may retain rights confidential information disclosed documents prototypes software development kits sdks similar tangible property embodying containing reflecting shall remain property disclosing party license neither execution agreement disclosure confidential information construed granting either expressly implication estoppel otherwise license right confidential information intellectual property rights embodied therein warranty confidential information provided, Metadata: {'source': 'C:\\\\Users\\\\prita\\\\Downloads\\\\Starter and Dataset RAG Legal\\\\rag_legal\\\\corpus\\\\contractnli\\\\01_Bosch-Automotive-Service-Solutions-Mutual-Non-Disclosure-Agreement-7-12-17.txt'}\n",
      "Content: intellectual property rights embodied therein warranty confidential information provided agreement provided specifically excludes warranty whether express implied including without limitation implied warranty merchantability fitness particular purpose accuracy disclosing party liable agreement damages connection related arising use confidential information obligation agreement shall construed manner obligation enter substantive contract disclose particular confidential information independent developments disclosing party understands recipient may develop developed information internally receive received information parties similar confidential information accordingly nothing agreement shall construed representation recipient independently develop products compete products systems contemplated confidential information provided without breaching terms agreement relationship party hereto shall considered independent contractor responsible expenses financial obligations incurred, Metadata: {'source': 'C:\\\\Users\\\\prita\\\\Downloads\\\\Starter and Dataset RAG Legal\\\\rag_legal\\\\corpus\\\\contractnli\\\\01_Bosch-Automotive-Service-Solutions-Mutual-Non-Disclosure-Agreement-7-12-17.txt'}\n",
      "Content: hereto shall considered independent contractor responsible expenses financial obligations incurred performance agreement waiver neither party waives rights invention development lawfully possessed time signing agreement addition agreement imply waiver rights action patent trademark copyright trade secret unfair competition fair trade related laws failure exercise rights agreement shall construed waiver rights inurement agreement shall inure benefit parties hereto respective affiliates defined successors assigns legal representatives parties agree party affiliates may receive confidential information disclose confidential information party party affiliates confidential information shall governed agreement recipient shall fully responsible disclosing party breach agreement recipient affiliates affiliate used herein means entity directly indirectly controls controlled common control party agreement used section control controls controlled means fifty one percent 51 ownership beneficial, Metadata: {'source': 'C:\\\\Users\\\\prita\\\\Downloads\\\\Starter and Dataset RAG Legal\\\\rag_legal\\\\corpus\\\\contractnli\\\\01_Bosch-Automotive-Service-Solutions-Mutual-Non-Disclosure-Agreement-7-12-17.txt'}\n",
      "Content: agreement used section control controls controlled means fifty one percent 51 ownership beneficial interest income capital entity ii ownership least fifty one percent 51 voting power voting equity iii ability otherwise direct share management policies entity injunctive relief parties agree use confidential information violation agreement may cause party irreparable harm may leave adequate remedy law shall thereby entitle seek injunctive relief court competent jurisdiction party party affiliate violation choice law agreement governed construed accordance laws state michigan without regard principles conflict choice laws parties hereby unconditionally irrevocably agree submit exclusive jurisdiction state federal courts state michigan survival sections 1 2 3 4 5 6 17 18 19 sections parts thereof nature intended survive termination shall survive termination agreement severability court finds provision agreement right obligation invalid unenforceable agreement shall immediately deemed, Metadata: {'source': 'C:\\\\Users\\\\prita\\\\Downloads\\\\Starter and Dataset RAG Legal\\\\rag_legal\\\\corpus\\\\contractnli\\\\01_Bosch-Automotive-Service-Solutions-Mutual-Non-Disclosure-Agreement-7-12-17.txt'}\n",
      "Content: finds provision agreement right obligation invalid unenforceable agreement shall immediately deemed amended include provision reflects intent parties possible ii exclude provision parties shall negotiate good faith substitute provision reflect parties intent time entering agreement entire agreement agreement contains entire understanding parties regarding confidential information supersedes communications reports understandings parties respect thereto change addition provision shall binding unless writing signed authorized representative parties notices shall writing delivered electronic mail registered certified mail return receipt requested appropriate address set forth signature block headings headings agreement reference shall affect meaning provisions counterparts agreement may signed two counterparts including signing facsimile copies counterpart deemed original counterparts together shall constitute one instrument witness whereof parties hereto caused authorized representatives, Metadata: {'source': 'C:\\\\Users\\\\prita\\\\Downloads\\\\Starter and Dataset RAG Legal\\\\rag_legal\\\\corpus\\\\contractnli\\\\01_Bosch-Automotive-Service-Solutions-Mutual-Non-Disclosure-Agreement-7-12-17.txt'}\n",
      "Content: shall constitute one instrument witness whereof parties hereto caused authorized representatives execute agreement date first written signature signature print name print name title title date date signature print name title date, Metadata: {'source': 'C:\\\\Users\\\\prita\\\\Downloads\\\\Starter and Dataset RAG Legal\\\\rag_legal\\\\corpus\\\\contractnli\\\\01_Bosch-Automotive-Service-Solutions-Mutual-Non-Disclosure-Agreement-7-12-17.txt'}\n",
      "Content: confidentiality agreement confidentiality agreement agreement prepared behalf bpost sa nv limited liability company public law city brussels sellers regard divestment respective surface areas sale munt center centre monnaie munt consideration sellers agreeing disclose confidential information confidential information candidate disclosee latter hereby undertakes sellers disclosee keep confidential confidential information received time disclosee procure prior disclosure person including professional advisor confidential information person made aware provisions agreement fact disclosee liable disclosee acknowledges confidential information far relates bpost sa nv could price sensitive information ensures compliance relevant legal provisions respect including without limited provisions belgian law 2 august 2002 supervision financial sector financial services relation insider dealing market manipulation confidential information shall mean following information kind whatsoever whether oral, Metadata: {'source': 'C:\\\\Users\\\\prita\\\\Downloads\\\\Starter and Dataset RAG Legal\\\\rag_legal\\\\corpus\\\\contractnli\\\\12032018_NDA_The_20Munt_EN.txt'}\n",
      "Content: manipulation confidential information shall mean following information kind whatsoever whether oral written electronic form including limited technical commercial financial accounting legal administrative information pertaining sale munt sellers may provided disclosee responsible managers officers employees shareholders members board directors advisors including financial legal tax advisors auditors representatives sellers advisors representatives b analyses compilations forecasts notes memoranda documents sellers deloitte real estate laga advisors may prepared caused prepared may contain refer simply result information mentioned point c fact disclosee representatives involved analysis meetings negotiations related sale contents time status negotiations generally fact concerning sale confidential information shall exclude information become available public prior date disclosure thereof disclosee representatives became available public date result breach agreement disclosee, Metadata: {'source': 'C:\\\\Users\\\\prita\\\\Downloads\\\\Starter and Dataset RAG Legal\\\\rag_legal\\\\corpus\\\\contractnli\\\\12032018_NDA_The_20Munt_EN.txt'}\n",
      "Content: thereof disclosee representatives became available public date result breach agreement disclosee representatives b information lawfully disclosee possession possession one representatives prior disclosure agreement case non confidential basis knowledge free restriction use disclosure disclosee acknowledges may approach representatives sellers cannot contact anybody else contact persons advisors disclosee undertakes acknowledges neither representatives sellers advisors give warranty make representation accuracy completeness confidential information reasonableness assumptions information based disclosee agrees sellers advisors shall liability disclosee directors employees advisors agents resulting use confidential information agreement shall way constitute commitment person supply confidential information enter contract connection sellers obligations disclosee agreement shall expire earlier three years date agreement b date sale candidate sellers completed obligations confidentiality, Metadata: {'source': 'C:\\\\Users\\\\prita\\\\Downloads\\\\Starter and Dataset RAG Legal\\\\rag_legal\\\\corpus\\\\contractnli\\\\12032018_NDA_The_20Munt_EN.txt'}\n",
      "Content: three years date agreement b date sale candidate sellers completed obligations confidentiality non disclosure agreement shall become effective date signing event disclosee representatives becomes legally compelled disclose confidential information regulatory authority entity third party disclosee shall immediately notify sellers disclosing confidential information sellers may seek protective order appropriate remedy without prejudice disclosee remedies agreement understood agreed without prejudice rights remedies either party may breach undertakings could cause sellers shareholders irreparable injury event actual threatened breach disclosee representatives provisions agreement sellers shall entitled seek injunctive relief court competent jurisdiction restraining disclosee representatives breaching terms hereof disclosing confidential information person ii specific performance equitable relief agreement shall governed construed accordance belgian law parties irrevocably agree submit, Metadata: {'source': 'C:\\\\Users\\\\prita\\\\Downloads\\\\Starter and Dataset RAG Legal\\\\rag_legal\\\\corpus\\\\contractnli\\\\12032018_NDA_The_20Munt_EN.txt'}\n",
      "Content: relief agreement shall governed construed accordance belgian law parties irrevocably agree submit exclusive jurisdiction courts brussels accordance procedure defined candidacy file would grateful could confirm understanding acceptance foregoing returning us signed copy present document sincerely fr ric sohet koen van gerven partner ceo deloitte real estate financial advisory bpost sa nv candidate disclosee name company title date signature department deloitte consulting advisory cvba co peratieve vennootschap met beperkte aansprakelijkheid soci coop rative responsabilit limit e registered office gateway building luchthaven nationaal 1 j 1930 zaventem vat rpr brussel rpm bruxelles iban bic kredbebb member deloitte touche tohmatsu limited 2018 laga civil limited liability cooperative company registered office gateway building luchthaven nationaal 1 j 1930 zaventem brussels trade register ing list laga partners obtained upon request laga website, Metadata: {'source': 'C:\\\\Users\\\\prita\\\\Downloads\\\\Starter and Dataset RAG Legal\\\\rag_legal\\\\corpus\\\\contractnli\\\\12032018_NDA_The_20Munt_EN.txt'}\n"
     ]
    }
   ],
   "source": [
    "# Process files and generate chunks\n",
    "text_splitter = RecursiveCharacterTextSplitter(\n",
    "    chunk_size=1000,     # Size of each chunk in characters\n",
    "    chunk_overlap=100    # Optional overlap for context preservation\n",
    ")\n",
    "\n",
    "# Split the documents\n",
    "chunked_docs = text_splitter.split_documents(cleaned_documents)\n",
    "\n",
    "# View results\n",
    "for chunk in chunked_docs:\n",
    "    print(f\"Content: {chunk.page_content}, Metadata: {chunk.metadata}\")\n"
   ]
  },
  {
   "cell_type": "markdown",
   "id": "LeAeTqpZ-DYw",
   "metadata": {
    "id": "LeAeTqpZ-DYw"
   },
   "source": [
    "## **2. Vector Database and RAG Chain Creation** <font color=red> [15 marks] </font><br>"
   ]
  },
  {
   "cell_type": "markdown",
   "id": "YoH_Ac6K6aQZ",
   "metadata": {
    "id": "YoH_Ac6K6aQZ"
   },
   "source": [
    "### **2.1 Vector Embedding and Vector Database Creation** <font color=red> [7 marks] </font><br>"
   ]
  },
  {
   "cell_type": "markdown",
   "id": "bBfj5ycC59lU",
   "metadata": {
    "id": "bBfj5ycC59lU"
   },
   "source": [
    "#### **2.1.1** <font color=red> [2 marks] </font>\n",
    "Initialise an embedding function for loading the embeddings into the vector database."
   ]
  },
  {
   "cell_type": "markdown",
   "id": "v-QeR5N_7jiw",
   "metadata": {
    "id": "v-QeR5N_7jiw"
   },
   "source": [
    "Initialise a function to transform the text to vectors using OPENAI Embeddings module. You can also use this function to transform during vector DB creation itself."
   ]
  },
  {
   "cell_type": "code",
   "execution_count": 18,
   "id": "b3Jaq3HEhpxN",
   "metadata": {
    "id": "b3Jaq3HEhpxN"
   },
   "outputs": [],
   "source": [
    "# Set the API key by reading the folder path. Use this code if you're running the code on Google Colab. Otherwise, use the actual folder path\n",
    "folder_path = 'C:/Users/prita/'\n",
    "\n",
    "# Folder path\n",
    "os.chdir(folder_path)\n",
    "\n",
    "# Read the text file containing the API key\n",
    "with open(folder_path + \"OpenAIKey.txt\", \"r\") as f:\n",
    "  openai.api_key = ' '.join(f.readlines())\n",
    "\n",
    "# Update the OpenAI API key by updating the environment variable\n",
    "os.environ[\"OPENAI_API_KEY\"] = openai.api_key"
   ]
  },
  {
   "cell_type": "code",
   "execution_count": 19,
   "id": "550c762c-5a0a-46f9-9b82-6aed3ad9b0b8",
   "metadata": {},
   "outputs": [],
   "source": [
    "# OpenAI Embeddings class from LangChain\n",
    "embedding_model = OpenAIEmbeddings(model=\"text-embedding-3-small\")"
   ]
  },
  {
   "cell_type": "markdown",
   "id": "WTkTIerj5-KI",
   "metadata": {
    "id": "WTkTIerj5-KI"
   },
   "source": [
    "#### **2.1.2** <font color=red> [5 marks] </font>\n",
    "Load the embeddings to a vector database."
   ]
  },
  {
   "cell_type": "markdown",
   "id": "o6rEbd7477R8",
   "metadata": {
    "id": "o6rEbd7477R8"
   },
   "source": [
    "Create a directory for vector database and enter embedding data to the vector DB."
   ]
  },
  {
   "cell_type": "code",
   "execution_count": 20,
   "id": "IaqfjQJf2v8Y",
   "metadata": {
    "id": "IaqfjQJf2v8Y",
    "scrolled": true
   },
   "outputs": [],
   "source": [
    "# Add Chunks to vector DB\n",
    "\n",
    "# Define storage directory\n",
    "persist_dir = \"faiss_doc_store\"\n",
    "os.makedirs(persist_dir, exist_ok=True)\n",
    "\n",
    "# Store the split document in ChromaDB\n",
    "fvectorstore = FAISS.from_documents(chunked_docs, embedding_model)\n",
    "\n",
    "# Persist to disk\n",
    "fvectorstore.save_local(folder_path=persist_dir)\n"
   ]
  },
  {
   "cell_type": "code",
   "execution_count": 21,
   "id": "e9f9c6c0-f2d2-4878-b414-078e47f06430",
   "metadata": {},
   "outputs": [],
   "source": [
    "# Reload again, since its local\n",
    "fvectorstore = FAISS.load_local(folder_path=persist_dir, embeddings=embedding_model, allow_dangerous_deserialization=True)"
   ]
  },
  {
   "cell_type": "code",
   "execution_count": 22,
   "id": "4e95b773-9f1b-4be0-99c8-865e3fbc0ea0",
   "metadata": {},
   "outputs": [
    {
     "name": "stdout",
     "output_type": "stream",
     "text": [
      "Requirement already satisfied: qdrant-client in c:\\users\\prita\\appdata\\local\\packages\\pythonsoftwarefoundation.python.3.9_qbz5n2kfra8p0\\localcache\\local-packages\\python39\\site-packages (1.14.2)\n",
      "Requirement already satisfied: grpcio>=1.41.0 in c:\\users\\prita\\appdata\\local\\packages\\pythonsoftwarefoundation.python.3.9_qbz5n2kfra8p0\\localcache\\local-packages\\python39\\site-packages (from qdrant-client) (1.71.0)\n",
      "Requirement already satisfied: httpx>=0.20.0 in c:\\users\\prita\\appdata\\local\\packages\\pythonsoftwarefoundation.python.3.9_qbz5n2kfra8p0\\localcache\\local-packages\\python39\\site-packages (from httpx[http2]>=0.20.0->qdrant-client) (0.28.1)\n",
      "Requirement already satisfied: numpy<2.1.0,>=1.21 in c:\\users\\prita\\appdata\\local\\packages\\pythonsoftwarefoundation.python.3.9_qbz5n2kfra8p0\\localcache\\local-packages\\python39\\site-packages (from qdrant-client) (1.26.4)\n",
      "Requirement already satisfied: portalocker<3.0.0,>=2.7.0 in c:\\users\\prita\\appdata\\local\\packages\\pythonsoftwarefoundation.python.3.9_qbz5n2kfra8p0\\localcache\\local-packages\\python39\\site-packages (from qdrant-client) (2.7.0)\n",
      "Requirement already satisfied: protobuf>=3.20.0 in c:\\users\\prita\\appdata\\local\\packages\\pythonsoftwarefoundation.python.3.9_qbz5n2kfra8p0\\localcache\\local-packages\\python39\\site-packages (from qdrant-client) (5.29.4)\n",
      "Requirement already satisfied: pydantic!=2.0.*,!=2.1.*,!=2.2.0,>=1.10.8 in c:\\users\\prita\\appdata\\local\\packages\\pythonsoftwarefoundation.python.3.9_qbz5n2kfra8p0\\localcache\\local-packages\\python39\\site-packages (from qdrant-client) (2.10.5)\n",
      "Requirement already satisfied: urllib3<3,>=1.26.14 in c:\\users\\prita\\appdata\\local\\packages\\pythonsoftwarefoundation.python.3.9_qbz5n2kfra8p0\\localcache\\local-packages\\python39\\site-packages (from qdrant-client) (2.4.0)\n",
      "Requirement already satisfied: pywin32>=226 in c:\\users\\prita\\appdata\\local\\packages\\pythonsoftwarefoundation.python.3.9_qbz5n2kfra8p0\\localcache\\local-packages\\python39\\site-packages (from portalocker<3.0.0,>=2.7.0->qdrant-client) (306)\n",
      "Requirement already satisfied: anyio in c:\\users\\prita\\appdata\\local\\packages\\pythonsoftwarefoundation.python.3.9_qbz5n2kfra8p0\\localcache\\local-packages\\python39\\site-packages (from httpx>=0.20.0->httpx[http2]>=0.20.0->qdrant-client) (4.0.0)\n",
      "Requirement already satisfied: certifi in c:\\users\\prita\\appdata\\local\\packages\\pythonsoftwarefoundation.python.3.9_qbz5n2kfra8p0\\localcache\\local-packages\\python39\\site-packages (from httpx>=0.20.0->httpx[http2]>=0.20.0->qdrant-client) (2025.1.31)\n",
      "Requirement already satisfied: httpcore==1.* in c:\\users\\prita\\appdata\\local\\packages\\pythonsoftwarefoundation.python.3.9_qbz5n2kfra8p0\\localcache\\local-packages\\python39\\site-packages (from httpx>=0.20.0->httpx[http2]>=0.20.0->qdrant-client) (1.0.7)\n",
      "Requirement already satisfied: idna in c:\\users\\prita\\appdata\\local\\packages\\pythonsoftwarefoundation.python.3.9_qbz5n2kfra8p0\\localcache\\local-packages\\python39\\site-packages (from httpx>=0.20.0->httpx[http2]>=0.20.0->qdrant-client) (3.4)\n",
      "Requirement already satisfied: h11<0.15,>=0.13 in c:\\users\\prita\\appdata\\local\\packages\\pythonsoftwarefoundation.python.3.9_qbz5n2kfra8p0\\localcache\\local-packages\\python39\\site-packages (from httpcore==1.*->httpx>=0.20.0->httpx[http2]>=0.20.0->qdrant-client) (0.14.0)\n",
      "Requirement already satisfied: h2<5,>=3 in c:\\users\\prita\\appdata\\local\\packages\\pythonsoftwarefoundation.python.3.9_qbz5n2kfra8p0\\localcache\\local-packages\\python39\\site-packages (from httpx[http2]>=0.20.0->qdrant-client) (4.2.0)\n",
      "Requirement already satisfied: hyperframe<7,>=6.1 in c:\\users\\prita\\appdata\\local\\packages\\pythonsoftwarefoundation.python.3.9_qbz5n2kfra8p0\\localcache\\local-packages\\python39\\site-packages (from h2<5,>=3->httpx[http2]>=0.20.0->qdrant-client) (6.1.0)\n",
      "Requirement already satisfied: hpack<5,>=4.1 in c:\\users\\prita\\appdata\\local\\packages\\pythonsoftwarefoundation.python.3.9_qbz5n2kfra8p0\\localcache\\local-packages\\python39\\site-packages (from h2<5,>=3->httpx[http2]>=0.20.0->qdrant-client) (4.1.0)\n",
      "Requirement already satisfied: annotated-types>=0.6.0 in c:\\users\\prita\\appdata\\local\\packages\\pythonsoftwarefoundation.python.3.9_qbz5n2kfra8p0\\localcache\\local-packages\\python39\\site-packages (from pydantic!=2.0.*,!=2.1.*,!=2.2.0,>=1.10.8->qdrant-client) (0.7.0)\n",
      "Requirement already satisfied: pydantic-core==2.27.2 in c:\\users\\prita\\appdata\\local\\packages\\pythonsoftwarefoundation.python.3.9_qbz5n2kfra8p0\\localcache\\local-packages\\python39\\site-packages (from pydantic!=2.0.*,!=2.1.*,!=2.2.0,>=1.10.8->qdrant-client) (2.27.2)\n",
      "Requirement already satisfied: typing-extensions>=4.12.2 in c:\\users\\prita\\appdata\\local\\packages\\pythonsoftwarefoundation.python.3.9_qbz5n2kfra8p0\\localcache\\local-packages\\python39\\site-packages (from pydantic!=2.0.*,!=2.1.*,!=2.2.0,>=1.10.8->qdrant-client) (4.12.2)\n",
      "Requirement already satisfied: sniffio>=1.1 in c:\\users\\prita\\appdata\\local\\packages\\pythonsoftwarefoundation.python.3.9_qbz5n2kfra8p0\\localcache\\local-packages\\python39\\site-packages (from anyio->httpx>=0.20.0->httpx[http2]>=0.20.0->qdrant-client) (1.3.0)\n",
      "Requirement already satisfied: exceptiongroup>=1.0.2 in c:\\users\\prita\\appdata\\local\\packages\\pythonsoftwarefoundation.python.3.9_qbz5n2kfra8p0\\localcache\\local-packages\\python39\\site-packages (from anyio->httpx>=0.20.0->httpx[http2]>=0.20.0->qdrant-client) (1.1.3)\n"
     ]
    }
   ],
   "source": [
    "!pip install qdrant-client\n",
    "!pip install -qU langchain-qdrant"
   ]
  },
  {
   "cell_type": "code",
   "execution_count": 23,
   "id": "c0da0d8a-764d-4507-b396-a85563c96a2a",
   "metadata": {},
   "outputs": [],
   "source": [
    "from langchain_qdrant import QdrantVectorStore\n",
    "from qdrant_client import QdrantClient\n",
    "from qdrant_client.http.models import Distance, VectorParams"
   ]
  },
  {
   "cell_type": "code",
   "execution_count": 24,
   "id": "40b640d6-0554-4152-8730-e686913fe253",
   "metadata": {},
   "outputs": [],
   "source": [
    "# Define storage directory\n",
    "persist_dir = \"qdrant_db\"\n",
    "os.makedirs(persist_dir, exist_ok=True)\n",
    "\n",
    "# Qdrant configuration (local)\n",
    "qclient = QdrantClient(path=persist_dir)\n",
    "collection_name = \"legal_collection\"\n",
    "\n",
    "# Create collection (if not exists)\n",
    "qclient.recreate_collection(\n",
    "    collection_name=collection_name,\n",
    "    vectors_config=VectorParams(size=1536, distance=Distance.COSINE),  # 1536 for OpenAI\n",
    ")\n",
    "\n",
    "# Load to Qdrant via LangChain wrapper\n",
    "qvectorstore = QdrantVectorStore(\n",
    "    client=qclient,\n",
    "    collection_name=collection_name,\n",
    "    embedding=embedding_model,\n",
    ")"
   ]
  },
  {
   "cell_type": "code",
   "execution_count": 25,
   "id": "c994efdb-d29c-4f6a-a35f-03de4d5c574d",
   "metadata": {},
   "outputs": [
    {
     "data": {
      "text/plain": [
       "['388c189a-f3fa-4acf-9ace-27120498e042',\n",
       " '55b3475a-972c-4f2a-b0c6-2bbcb1fb17bf',\n",
       " '81eb8eee-ee91-46aa-bf52-073eec4fd23c',\n",
       " '63727aee-e1f4-401a-834d-94194e2ec8e2',\n",
       " '9126e078-9c55-44af-9c10-4f55d0f7cc6f',\n",
       " '5a1fd52c-e227-4591-8486-aec833112a8f',\n",
       " '2bbb7db9-bd9d-4111-8f2e-b217c00b40e9',\n",
       " '3e6a14f4-2eb5-4bfb-803b-3cd17872de3d',\n",
       " '01a6e5b7-f386-4f44-b03d-977ae49f01de',\n",
       " '5a7a9e99-4cd1-458a-afa5-650a32608fed',\n",
       " '08e8b5ee-e3e8-409c-9c12-53bd05115123',\n",
       " '37eba6f4-9144-401d-8702-c88ece2952d7',\n",
       " '50a0eb72-adef-4cfe-9c57-b6c8f56ecf71',\n",
       " '8d3d98e4-ad86-4557-a586-c5b79367a042',\n",
       " '10871ca7-3e52-47f3-ab8b-e80ce52e0a3c',\n",
       " 'c60a80df-805d-4b06-b468-50af587c266f',\n",
       " '39a325a0-4a19-4e77-b346-c5f4d18d2b4e',\n",
       " 'f7a686f7-7935-44a6-9360-56bdf9e3cf29']"
      ]
     },
     "execution_count": 25,
     "metadata": {},
     "output_type": "execute_result"
    }
   ],
   "source": [
    "# Import uuid library\n",
    "from uuid import uuid4\n",
    "\n",
    "# Create document uuids\n",
    "uuids = [str(uuid4()) for _ in range(len(chunked_docs))]\n",
    "\n",
    "# Add to vector store\n",
    "qvectorstore.add_documents(documents=chunked_docs, ids=uuids)"
   ]
  },
  {
   "cell_type": "markdown",
   "id": "978619ac",
   "metadata": {
    "id": "978619ac"
   },
   "source": [
    "### **2.2 Create RAG Chain** <font color=red> [8 marks] </font><br>"
   ]
  },
  {
   "cell_type": "markdown",
   "id": "Rczna1Xy_1bq",
   "metadata": {
    "id": "Rczna1Xy_1bq"
   },
   "source": [
    "#### **2.2.1** <font color=red> [5 marks] </font>\n",
    "Create a RAG chain."
   ]
  },
  {
   "cell_type": "code",
   "execution_count": 26,
   "id": "sEzxYN93Ygju",
   "metadata": {
    "id": "sEzxYN93Ygju"
   },
   "outputs": [],
   "source": [
    "# Create a RAG chain\n",
    "\n",
    "# import RAG chain\n",
    "from langchain.chains import RetrievalQA\n",
    "\n",
    "# Initialize LLM\n",
    "llm = ChatOpenAI(model=\"gpt-3.5-turbo\", temperature=0)\n",
    "\n",
    "# Create RetrievalQA Chain (RAG) for qdrant\n",
    "qrag_chain = RetrievalQA.from_chain_type(\n",
    "    llm=llm,\n",
    "    retriever=qvectorstore.as_retriever(search_kwargs={\"k\": 2}),\n",
    "    return_source_documents=True  # optional: for source tracking\n",
    ")\n",
    "\n",
    "# Create RetrievalQA Chain (RAG) for FAISS\n",
    "frag_chain = RetrievalQA.from_chain_type(\n",
    "    llm=llm,\n",
    "    retriever=qvectorstore.as_retriever(search_kwargs={\"k\": 2}),\n",
    "    return_source_documents=True  # optional: for source tracking\n",
    ")"
   ]
  },
  {
   "cell_type": "markdown",
   "id": "6PkgzeTIElfy",
   "metadata": {
    "id": "6PkgzeTIElfy"
   },
   "source": [
    "#### **2.2.2** <font color=red> [3 marks] </font>\n",
    "Create a function to generate answer for asked questions."
   ]
  },
  {
   "cell_type": "markdown",
   "id": "W8AMtr94FZxR",
   "metadata": {
    "id": "W8AMtr94FZxR"
   },
   "source": [
    "Use the RAG chain to generate answer for a question and provide source documents"
   ]
  },
  {
   "cell_type": "code",
   "execution_count": 27,
   "id": "b9TQdz5uFzlr",
   "metadata": {
    "id": "b9TQdz5uFzlr"
   },
   "outputs": [],
   "source": [
    "# Create a function for question answering\n",
    "\n",
    "def search_faiss(question):\n",
    "    # Ask a question from FAISS\n",
    "    results = fvectorstore.similarity_search(question, k=1\n",
    "    )\n",
    "    \n",
    "    str_res = \"\"\n",
    "\n",
    "    for res in results:\n",
    "        str_res = str_res + f\" {res.page_content} [{res.metadata}] \\n\"\n",
    "        \n",
    "    return str_res"
   ]
  },
  {
   "cell_type": "code",
   "execution_count": 28,
   "id": "71bbdc47-22f2-4cf1-9043-1fce20ee4285",
   "metadata": {},
   "outputs": [],
   "source": [
    "\n",
    "def search_qdrant(question):\n",
    "    # Ask a question from qdrant\n",
    "    results = qvectorstore.similarity_search(question, k=1\n",
    "    )\n",
    "\n",
    "    str_res = \"\"\n",
    "    \n",
    "    for res in results:\n",
    "        str_res = str_res + f\" {res.page_content} [{res.metadata}] \\n\"\n",
    "\n",
    "    return str_res"
   ]
  },
  {
   "cell_type": "code",
   "execution_count": 29,
   "id": "2868431c-5536-4d20-83c1-9bbff377b3c6",
   "metadata": {},
   "outputs": [],
   "source": [
    "# Lang Chain Expression language chain with prompt template libraries import\n",
    "from langchain.schema.runnable import RunnablePassthrough\n",
    "from langchain.prompts import ChatPromptTemplate, PromptTemplate\n",
    "from langchain.schema.output_parser import StrOutputParser\n",
    "\n",
    "# Function to provide answer based on custom LCEL chain \n",
    "def qna_template(question): \n",
    "    # Get retriever\n",
    "    retriever = qvectorstore.as_retriever()\n",
    "    # template to be passed to the prompt\n",
    "    template = \"\"\"Answer the question based only on the following context:\n",
    "    {context}\n",
    "    \n",
    "    Question: {question}\n",
    "    \"\"\"\n",
    "    \n",
    "    prompt = PromptTemplate.from_template(template)\n",
    "    model = OpenAI()\n",
    "    # Context and RunnablePassthrough input to the chain\n",
    "    chain = (\n",
    "        {\"context\": retriever, \"question\": RunnablePassthrough()}\n",
    "        | prompt\n",
    "        | model\n",
    "        | StrOutputParser()\n",
    "    )\n",
    "    \n",
    "    response = chain.invoke(question)\n",
    "    return response"
   ]
  },
  {
   "cell_type": "code",
   "execution_count": 30,
   "id": "pSgcP19iYgjv",
   "metadata": {
    "id": "pSgcP19iYgjv"
   },
   "outputs": [
    {
     "name": "stdout",
     "output_type": "stream",
     "text": [
      " information case use less reasonable degree care recipient agrees limit disclosure confidential information employees employees affiliates specific need know confidential information purpose case affiliates extent affiliate obligation hold information confidence made aware terms conditions recipient disclose permit access confidential information contract workers consultants contractors recipient affiliates unless authorized disclosing party writing condition persons bound obligations confidentiality inuring benefit disclosing party affiliates least restrictive terms conditions recipient shall without disclosing party prior written consent reverse engineer disassemble decompile prototypes software objects embody disclosing party confidential information obtain access disclosing party trade secrets extent consent granted recipient shall receive hold confidential information subject terms agreement term term agreement shall period exchange set forth confidentiality obligations shall [{'source': 'C:\\\\Users\\\\prita\\\\Downloads\\\\Starter and Dataset RAG Legal\\\\rag_legal\\\\corpus\\\\contractnli\\\\01_Bosch-Automotive-Service-Solutions-Mutual-Non-Disclosure-Agreement-7-12-17.txt'}] \n",
      "\n",
      "---------------------\n",
      " information case use less reasonable degree care recipient agrees limit disclosure confidential information employees employees affiliates specific need know confidential information purpose case affiliates extent affiliate obligation hold information confidence made aware terms conditions recipient disclose permit access confidential information contract workers consultants contractors recipient affiliates unless authorized disclosing party writing condition persons bound obligations confidentiality inuring benefit disclosing party affiliates least restrictive terms conditions recipient shall without disclosing party prior written consent reverse engineer disassemble decompile prototypes software objects embody disclosing party confidential information obtain access disclosing party trade secrets extent consent granted recipient shall receive hold confidential information subject terms agreement term term agreement shall period exchange set forth confidentiality obligations shall [{'source': 'C:\\\\Users\\\\prita\\\\Downloads\\\\Starter and Dataset RAG Legal\\\\rag_legal\\\\corpus\\\\contractnli\\\\01_Bosch-Automotive-Service-Solutions-Mutual-Non-Disclosure-Agreement-7-12-17.txt', '_id': '81eb8eee-ee91-46aa-bf52-073eec4fd23c', '_collection_name': 'legal_collection'}] \n",
      "\n",
      "---------------------\n"
     ]
    }
   ],
   "source": [
    "# Example question and print answer\n",
    "question =\"Consider the Non-Disclosure Agreement between CopAcc and ToP Mentors; Does the document indicate that the Agreement does not grant the Receiving Party any rights to the Confidential Information?\"\n",
    "\n",
    "# search from qdrant\n",
    "print(search_faiss(question))\n",
    "print(\"---------------------\")\n",
    "# search from FAISS\n",
    "print(search_qdrant(question))\n",
    "print(\"---------------------\")\n",
    "\n",
    "# Both provide same result, so will use qdrant going forward"
   ]
  },
  {
   "cell_type": "code",
   "execution_count": 31,
   "id": "a3649395-00b6-4fc3-8dbb-6990f407d26e",
   "metadata": {},
   "outputs": [
    {
     "name": "stdout",
     "output_type": "stream",
     "text": [
      "\n",
      "Yes, the document does indicate that the Agreement does not grant the Receiving Party any rights to the Confidential Information.\n"
     ]
    }
   ],
   "source": [
    "# Answer from LCEL\n",
    "print(qna_template(question))"
   ]
  },
  {
   "cell_type": "markdown",
   "id": "fMmX8OrcN05D",
   "metadata": {
    "id": "fMmX8OrcN05D"
   },
   "source": [
    "## **3. RAG Evaluation** <font color=red> [10 marks] </font><br>"
   ]
  },
  {
   "cell_type": "markdown",
   "id": "b1ddfed9",
   "metadata": {
    "id": "b1ddfed9"
   },
   "source": [
    "### **3.1 Evaluation and Inference** <font color=red> [10 marks] </font><br>"
   ]
  },
  {
   "cell_type": "markdown",
   "id": "Z9xy_GduS9Yk",
   "metadata": {
    "id": "Z9xy_GduS9Yk"
   },
   "source": [
    "#### **3.1.1** <font color=red> [2 marks] </font>\n",
    "Extract all the questions and all the answers/ground truths from the benchmark files."
   ]
  },
  {
   "cell_type": "markdown",
   "id": "V397RqkRfjSP",
   "metadata": {
    "id": "V397RqkRfjSP"
   },
   "source": [
    "Create a questions set and an answers set containing all the questions and answers from the benchmark files to run evaluations."
   ]
  },
  {
   "cell_type": "code",
   "execution_count": 32,
   "id": "bF_KZXb1c-G5",
   "metadata": {
    "id": "bF_KZXb1c-G5"
   },
   "outputs": [
    {
     "data": {
      "text/plain": [
       "['C:/Users/prita/Downloads/Starter and Dataset RAG Legal/rag_legal/benchmarks\\\\contractnli.json',\n",
       " 'C:/Users/prita/Downloads/Starter and Dataset RAG Legal/rag_legal/benchmarks\\\\cuad.json',\n",
       " 'C:/Users/prita/Downloads/Starter and Dataset RAG Legal/rag_legal/benchmarks\\\\maud.json',\n",
       " 'C:/Users/prita/Downloads/Starter and Dataset RAG Legal/rag_legal/benchmarks\\\\privacy_qa.json']"
      ]
     },
     "execution_count": 32,
     "metadata": {},
     "output_type": "execute_result"
    }
   ],
   "source": [
    "# Create a question set by taking all the questions from the benchmark data\n",
    "# Also create a ground truth/answer set\n",
    "\n",
    "# import libraries\n",
    "import glob\n",
    "import json\n",
    "\n",
    "# Recursively find all JSON files in subfolders\n",
    "benchmarks = glob.glob(rootfolder + \"/rag_legal/benchmarks/*.json\", recursive=True)\n",
    "benchmarks"
   ]
  },
  {
   "cell_type": "code",
   "execution_count": 33,
   "id": "538c81b4-ef60-45f6-93b0-7fcf335c5b41",
   "metadata": {},
   "outputs": [
    {
     "data": {
      "text/html": [
       "<div>\n",
       "<style scoped>\n",
       "    .dataframe tbody tr th:only-of-type {\n",
       "        vertical-align: middle;\n",
       "    }\n",
       "\n",
       "    .dataframe tbody tr th {\n",
       "        vertical-align: top;\n",
       "    }\n",
       "\n",
       "    .dataframe thead th {\n",
       "        text-align: right;\n",
       "    }\n",
       "</style>\n",
       "<table border=\"1\" class=\"dataframe\">\n",
       "  <thead>\n",
       "    <tr style=\"text-align: right;\">\n",
       "      <th></th>\n",
       "      <th>question</th>\n",
       "      <th>answer</th>\n",
       "    </tr>\n",
       "  </thead>\n",
       "  <tbody>\n",
       "    <tr>\n",
       "      <th>0</th>\n",
       "      <td>Consider the Non-Disclosure Agreement between ...</td>\n",
       "      <td>Any and all proprietary rights, including but ...</td>\n",
       "    </tr>\n",
       "    <tr>\n",
       "      <th>1</th>\n",
       "      <td>Consider the Non-Disclosure Agreement between ...</td>\n",
       "      <td>“Confidential Information” means any Idea disc...</td>\n",
       "    </tr>\n",
       "    <tr>\n",
       "      <th>2</th>\n",
       "      <td>Consider the Non-Disclosure Agreement between ...</td>\n",
       "      <td>Notwithstanding the termination of this Agreem...</td>\n",
       "    </tr>\n",
       "    <tr>\n",
       "      <th>3</th>\n",
       "      <td>Consider the Non-Disclosure Agreement between ...</td>\n",
       "      <td>At Organiser’s first request, Mentor shall:</td>\n",
       "    </tr>\n",
       "    <tr>\n",
       "      <th>4</th>\n",
       "      <td>Consider the Non-Disclosure Agreement between ...</td>\n",
       "      <td>Mentor shall not disclose any Confidential Inf...</td>\n",
       "    </tr>\n",
       "  </tbody>\n",
       "</table>\n",
       "</div>"
      ],
      "text/plain": [
       "                                            question  \\\n",
       "0  Consider the Non-Disclosure Agreement between ...   \n",
       "1  Consider the Non-Disclosure Agreement between ...   \n",
       "2  Consider the Non-Disclosure Agreement between ...   \n",
       "3  Consider the Non-Disclosure Agreement between ...   \n",
       "4  Consider the Non-Disclosure Agreement between ...   \n",
       "\n",
       "                                              answer  \n",
       "0  Any and all proprietary rights, including but ...  \n",
       "1  “Confidential Information” means any Idea disc...  \n",
       "2  Notwithstanding the termination of this Agreem...  \n",
       "3        At Organiser’s first request, Mentor shall:  \n",
       "4  Mentor shall not disclose any Confidential Inf...  "
      ]
     },
     "execution_count": 33,
     "metadata": {},
     "output_type": "execute_result"
    }
   ],
   "source": [
    "# Import pandas\n",
    "import pandas as pd\n",
    "\n",
    "# Prepare test data\n",
    "benchmark = []\n",
    "i= 1\n",
    "for file_path in benchmarks:\n",
    "    with open(file_path, \"r\", encoding=\"utf-8\") as f:\n",
    "        data = json.load(f)\n",
    "        \n",
    "        # Access the \"tests\" list\n",
    "        test_cases = data.get(\"tests\", [])\n",
    "        \n",
    "        for entry in test_cases:\n",
    "            question = entry.get(\"query\", \"\").strip()\n",
    "            answer = \"\"\n",
    "            snippets = entry.get(\"snippets\", [])\n",
    "            if snippets:\n",
    "                answer = snippets[0].get(\"answer\", \"\").strip()\n",
    "            benchmark.append({\"question\": question, \"answer\": answer})\n",
    "\n",
    "# Create DataFrame\n",
    "df_benchmark = pd.DataFrame(benchmark)\n",
    "\n",
    "df_benchmark.head()"
   ]
  },
  {
   "cell_type": "markdown",
   "id": "81VscxuGTHhC",
   "metadata": {
    "id": "81VscxuGTHhC"
   },
   "source": [
    "#### **3.1.2** <font color=red> [5 marks] </font>\n",
    "Create a function to evaluate the generated answers."
   ]
  },
  {
   "cell_type": "markdown",
   "id": "qIPUg1dKTPGb",
   "metadata": {
    "id": "qIPUg1dKTPGb"
   },
   "source": [
    "Evaluate the responses on *Rouge*, *Ragas* and *Bleu* scores."
   ]
  },
  {
   "cell_type": "code",
   "execution_count": 34,
   "id": "7cfc8602-3e02-42f3-8ebe-028efc5ea62f",
   "metadata": {},
   "outputs": [
    {
     "name": "stderr",
     "output_type": "stream",
     "text": [
      "[nltk_data] Downloading package punkt to\n",
      "[nltk_data]     C:\\Users\\prita\\AppData\\Roaming\\nltk_data...\n",
      "[nltk_data]   Package punkt is already up-to-date!\n"
     ]
    }
   ],
   "source": [
    "# Function to evaluate the RAG pipeline\n",
    "\n",
    "# Import for BLEU score\n",
    "from nltk.translate.bleu_score import sentence_bleu, SmoothingFunction\n",
    "nltk.download('punkt')\n",
    "\n",
    "# import for rogue score\n",
    "from rouge_score import rouge_scorer\n",
    "\n",
    "# import for ragas score\n",
    "from ragas.metrics import answer_relevancy, faithfulness, context_precision\n",
    "from ragas.evaluation import evaluate\n",
    "from datasets import Dataset"
   ]
  },
  {
   "cell_type": "code",
   "execution_count": 35,
   "id": "RuoBJS5_PKmX",
   "metadata": {
    "id": "RuoBJS5_PKmX"
   },
   "outputs": [],
   "source": [
    "# Function to evaluate using BLEU score\n",
    "def evaluate_bleu_rogue():\n",
    "    smoothie = SmoothingFunction().method4\n",
    "    bleu_scores = []\n",
    "    rogue_scores = []\n",
    "\n",
    "    rogue_scorer = rouge_scorer.RougeScorer(['rougeL'], use_stemmer=True)\n",
    "\n",
    "    df_benchmark['generated_answer'] = None\n",
    "    df_benchmark['search_qdrant'] = None\n",
    "\n",
    "    \n",
    "    for _, row in df_benchmark.iterrows():\n",
    "        ref = row['answer']\n",
    "        pred = qna_template(row['question'])\n",
    "        # update the generated answer\n",
    "        df_benchmark.loc[row.name, 'generated_answer'] = pred\n",
    "        df_benchmark.loc[row.name, 'contexts'] = search_qdrant(row['question'])\n",
    "        \n",
    "        ref_tokens = nltk.word_tokenize(ref.lower())\n",
    "        pred_tokens = nltk.word_tokenize(pred.lower())\n",
    "        \n",
    "        score = sentence_bleu([ref_tokens], pred_tokens, smoothing_function=smoothie)\n",
    "        bleu_scores.append(score)\n",
    "\n",
    "        rogue_scores_all = rogue_scorer.score(ref, pred)\n",
    "        rogue_scores.append(rogue_scores_all['rougeL'].fmeasure)\n",
    "          \n",
    "    avg_bleu = sum(bleu_scores) / len(bleu_scores)\n",
    "    avg_rouge = sum(rogue_scores) / len(rogue_scores)\n",
    "\n",
    "    return {\"avg_bleu\": avg_bleu, \"avg_rouge\": avg_rouge }"
   ]
  },
  {
   "cell_type": "code",
   "execution_count": 36,
   "id": "24e3f7f3-5fa8-4797-a247-da2954eab27f",
   "metadata": {},
   "outputs": [
    {
     "name": "stdout",
     "output_type": "stream",
     "text": [
      "Average BLEU and Rogue scores:\n",
      "{'avg_bleu': 1.5532012934394162e-11, 'avg_rouge': 0.0}\n"
     ]
    }
   ],
   "source": [
    "# Use limited rows due to token constraint\n",
    "df_benchmark = df_benchmark[:docs_for_test]\n",
    "\n",
    "# Evaluate function\n",
    "print(\"Average BLEU and Rogue scores:\")\n",
    "print(evaluate_bleu_rogue())"
   ]
  },
  {
   "cell_type": "code",
   "execution_count": 37,
   "id": "0b83cd96-db50-4365-a231-ec268eac52ba",
   "metadata": {},
   "outputs": [
    {
     "data": {
      "text/html": [
       "<div>\n",
       "<style scoped>\n",
       "    .dataframe tbody tr th:only-of-type {\n",
       "        vertical-align: middle;\n",
       "    }\n",
       "\n",
       "    .dataframe tbody tr th {\n",
       "        vertical-align: top;\n",
       "    }\n",
       "\n",
       "    .dataframe thead th {\n",
       "        text-align: right;\n",
       "    }\n",
       "</style>\n",
       "<table border=\"1\" class=\"dataframe\">\n",
       "  <thead>\n",
       "    <tr style=\"text-align: right;\">\n",
       "      <th></th>\n",
       "      <th>question</th>\n",
       "      <th>answer</th>\n",
       "      <th>generated_answer</th>\n",
       "      <th>search_qdrant</th>\n",
       "      <th>contexts</th>\n",
       "    </tr>\n",
       "  </thead>\n",
       "  <tbody>\n",
       "    <tr>\n",
       "      <th>0</th>\n",
       "      <td>Consider the Non-Disclosure Agreement between ...</td>\n",
       "      <td>Any and all proprietary rights, including but ...</td>\n",
       "      <td>\\nNo</td>\n",
       "      <td>None</td>\n",
       "      <td>information case use less reasonable degree c...</td>\n",
       "    </tr>\n",
       "    <tr>\n",
       "      <th>1</th>\n",
       "      <td>Consider the Non-Disclosure Agreement between ...</td>\n",
       "      <td>“Confidential Information” means any Idea disc...</td>\n",
       "      <td>\\nNo.</td>\n",
       "      <td>None</td>\n",
       "      <td>manipulation confidential information shall m...</td>\n",
       "    </tr>\n",
       "  </tbody>\n",
       "</table>\n",
       "</div>"
      ],
      "text/plain": [
       "                                            question  \\\n",
       "0  Consider the Non-Disclosure Agreement between ...   \n",
       "1  Consider the Non-Disclosure Agreement between ...   \n",
       "\n",
       "                                              answer generated_answer  \\\n",
       "0  Any and all proprietary rights, including but ...             \\nNo   \n",
       "1  “Confidential Information” means any Idea disc...            \\nNo.   \n",
       "\n",
       "  search_qdrant                                           contexts  \n",
       "0          None   information case use less reasonable degree c...  \n",
       "1          None   manipulation confidential information shall m...  "
      ]
     },
     "execution_count": 37,
     "metadata": {},
     "output_type": "execute_result"
    }
   ],
   "source": [
    "# show dataset\n",
    "df_benchmark.head()"
   ]
  },
  {
   "cell_type": "code",
   "execution_count": 39,
   "id": "a35da125-ff56-4390-9279-f6e18d654c35",
   "metadata": {},
   "outputs": [
    {
     "data": {
      "text/plain": [
       "Dataset({\n",
       "    features: ['question', 'reference', 'response', 'retrieved_contexts'],\n",
       "    num_rows: 2\n",
       "})"
      ]
     },
     "execution_count": 39,
     "metadata": {},
     "output_type": "execute_result"
    }
   ],
   "source": [
    "# Prepare data for Ragas evaluation\n",
    "def prepare_ragas_dataset():\n",
    "    df_ragas = pd.DataFrame({\n",
    "        \"question\": df_benchmark[\"question\"],\n",
    "        \"reference\": df_benchmark[\"answer\"],\n",
    "        \"response\": df_benchmark[\"generated_answer\"],\n",
    "        \"retrieved_contexts\": df_benchmark[\"contexts\"].apply(lambda x: [x] if isinstance(x, str) else x),\n",
    "    })\n",
    "    return Dataset.from_pandas(df_ragas)\n",
    "\n",
    "# Convert your DataFrame for ragas\n",
    "ragas_dataset = prepare_ragas_dataset()\n",
    "ragas_dataset"
   ]
  },
  {
   "cell_type": "markdown",
   "id": "Omeb5vFSTbS0",
   "metadata": {
    "id": "Omeb5vFSTbS0"
   },
   "source": [
    "#### **3.1.3** <font color=red> [3 marks] </font>\n",
    "Draw inferences by evaluating answers to all questions."
   ]
  },
  {
   "cell_type": "markdown",
   "id": "ei2qIN71Tirg",
   "metadata": {
    "id": "ei2qIN71Tirg"
   },
   "source": [
    "To save time and computing power, you can just run the evaluation on first 100 questions."
   ]
  },
  {
   "cell_type": "code",
   "execution_count": 40,
   "id": "f4f1f24a",
   "metadata": {
    "id": "f4f1f24a"
   },
   "outputs": [
    {
     "data": {
      "application/vnd.jupyter.widget-view+json": {
       "model_id": "8782ff2f77444fadb22f579d93acf365",
       "version_major": 2,
       "version_minor": 0
      },
      "text/plain": [
       "Evaluating:   0%|          | 0/8 [00:00<?, ?it/s]"
      ]
     },
     "metadata": {},
     "output_type": "display_data"
    },
    {
     "name": "stdout",
     "output_type": "stream",
     "text": [
      "RAGAS Evaluation Results:\n",
      "{'answer_relevancy': 0.7785, 'context_precision': 0.0000, 'faithfulness': 0.5000, 'context_recall': 0.0000}\n"
     ]
    }
   ],
   "source": [
    "# Evaluate the RAG pipeline\n",
    "\n",
    "# Run ragas evaluation\n",
    "results = evaluate(ragas_dataset)\n",
    "\n",
    "print(\"RAGAS Evaluation Results:\")\n",
    "print(results)"
   ]
  },
  {
   "cell_type": "markdown",
   "id": "gonMO9wNE5dt",
   "metadata": {
    "id": "gonMO9wNE5dt"
   },
   "source": [
    "## **4. Conclusion** <font color=red> [5 marks] </font><br>"
   ]
  },
  {
   "cell_type": "markdown",
   "id": "ySHPR29rE5du",
   "metadata": {
    "id": "ySHPR29rE5du"
   },
   "source": [
    "### **4.1 Conclusions and insights** <font color=red> [5 marks] </font><br>"
   ]
  },
  {
   "cell_type": "markdown",
   "id": "KoVsmcV0E5du",
   "metadata": {
    "id": "KoVsmcV0E5du"
   },
   "source": [
    "#### **4.1.1** <font color=red> [5 marks] </font>\n",
    "Conclude with the results here. Include the insights gained about the data, model pipeline, the RAG process and the results obtained."
   ]
  },
  {
   "cell_type": "markdown",
   "id": "e0fa9a9a-571d-428e-b1b0-da10b543b07d",
   "metadata": {},
   "source": [
    "## Legal QnA System Project Report"
   ]
  },
  {
   "cell_type": "markdown",
   "id": "2c1e2924-3552-4e9e-bbd6-5c4b8d784adb",
   "metadata": {},
   "source": [
    "### Overview"
   ]
  },
  {
   "cell_type": "markdown",
   "id": "7a2cdc04-9a7e-478c-95b1-8b767a4896aa",
   "metadata": {},
   "source": [
    "This report summarizes the implementation and execution of a Legal Question & Answer (QnA) system designed to provide answers based on legal documents. The system leverages OpenAI’s GPT-3.5-turbo model and Langchain framework with vector databases to enable retrieval-augmented generation (RAG). Due to token size constraints in the OpenAI API, only a limited subset of documents was processed, affecting the overall accuracy."
   ]
  },
  {
   "cell_type": "markdown",
   "id": "60c9894a-8d17-4ff7-88f6-18f624724a02",
   "metadata": {},
   "source": [
    "### Project Lifecycle and Methodology"
   ]
  },
  {
   "cell_type": "markdown",
   "id": "7abddd14-a555-4fcd-80ec-0d4b00d00ff4",
   "metadata": {},
   "source": [
    "**Document Loading**"
   ]
  },
  {
   "cell_type": "markdown",
   "id": "c987711a-4b91-424d-b9fe-c100352eec67",
   "metadata": {},
   "source": [
    "* Legal documents were loaded from a designated source folder.\n",
    "* Langchain’s Document Loader module was utilized for efficient ingestion and parsing of legal files."
   ]
  },
  {
   "cell_type": "markdown",
   "id": "922d79f1-216c-46dc-9cbe-e25506e3c71a",
   "metadata": {},
   "source": [
    "**Data Preprocessing**"
   ]
  },
  {
   "cell_type": "markdown",
   "id": "74a39da5-56d0-40d0-8555-6b411c3b9e10",
   "metadata": {},
   "source": [
    "* Text data was cleaned by removing stop words, punctuations, special characters, and numeric values.\n",
    "* This step aimed to reduce noise and enhance embedding quality."
   ]
  },
  {
   "cell_type": "markdown",
   "id": "ecf30994-c3a0-41eb-a6cd-c04e11df24fb",
   "metadata": {},
   "source": [
    "**Data Exploration and Analysis**"
   ]
  },
  {
   "cell_type": "markdown",
   "id": "c4e616d6-3d13-4171-9410-4cb0de98695f",
   "metadata": {},
   "source": [
    "* Exploratory analysis was performed to understand the dataset characteristics.\n",
    "* Metrics such as the most frequent and least frequent words were computed.\n",
    "* Similarity checks between documents were conducted to detect redundancy or overlapping content."
   ]
  },
  {
   "cell_type": "markdown",
   "id": "093f18dc-5020-4010-ba34-0101dbf9cc73",
   "metadata": {},
   "source": [
    "**Document Chunking**"
   ]
  },
  {
   "cell_type": "markdown",
   "id": "21a04914-e1f3-4429-b955-d425c94235b4",
   "metadata": {},
   "source": [
    "* Large documents were split into overlapping chunks.\n",
    "* Overlapping chunks were used to preserve context across segments and improve answer relevance.\n",
    "* Chunked data was reloaded into Langchain’s document format."
   ]
  },
  {
   "cell_type": "markdown",
   "id": "30968930-d044-4c53-9c33-b00f24e77ce9",
   "metadata": {},
   "source": [
    "**Embedding and Vector Store Population**"
   ]
  },
  {
   "cell_type": "markdown",
   "id": "4f82fd4c-5c12-4bf8-9cbd-9fd1126fd279",
   "metadata": {},
   "source": [
    "* Preprocessed text chunks were converted into embeddings.\n",
    "* Two vector databases, FAISS and QDrant, were evaluated and used interchangeably.\n",
    "* Both vector stores provided persistent storage with comparable performance, allowing similarity search over document embeddings."
   ]
  },
  {
   "cell_type": "markdown",
   "id": "9b4828be-3c99-46a9-83e9-59b799f348f5",
   "metadata": {},
   "source": [
    "**Retrieval-Augmented Generation (RAG)**"
   ]
  },
  {
   "cell_type": "markdown",
   "id": "acab58b8-e7d3-4bcd-bbdb-6cf2f4b8ea43",
   "metadata": {},
   "source": [
    "* The RetrievalQA chain from Langchain was used for document retrieval.\n",
    "* A custom Langchain Expression language chain was developed to integrate retrieved vectors as context into the OpenAI GPT-3.5-turbo model.\n",
    "* This architecture enabled question answering conditioned on the relevant legal document content."
   ]
  },
  {
   "cell_type": "markdown",
   "id": "656d4518-da43-4232-8e5d-56d5af7515bc",
   "metadata": {},
   "source": [
    "**Reference Answer Loading and Evaluation**"
   ]
  },
  {
   "cell_type": "markdown",
   "id": "3f9bd03d-6387-487a-af7d-e12d110f4ec7",
   "metadata": {},
   "source": [
    "* Reference answers were loaded from JSON files and structured into pandas DataFrames for benchmarking.\n",
    "* The AI-generated answers were evaluated against these benchmarks for relevance and correctness."
   ]
  },
  {
   "cell_type": "markdown",
   "id": "f335a33d-a3ad-4fec-a4d0-bad62be45ee9",
   "metadata": {},
   "source": [
    "**Results and Observations**"
   ]
  },
  {
   "cell_type": "markdown",
   "id": "89aed264-74ac-4e9b-aac8-7f7a872fa40c",
   "metadata": {},
   "source": [
    "* The system provides relevant answers when the underlying documents contain pertinent information.\n",
    "* Due to token constraints imposed by OpenAI’s API, only a fraction of the total document corpus could be processed.\n",
    "* Both FAISS and QDrant vector stores demonstrated similar efficacy in vector search and retrieval.\n",
    "* The custom RAG chain successfully combined vector-based retrieval with generative question answering."
   ]
  },
  {
   "cell_type": "markdown",
   "id": "1244fb1b-45c4-4ff6-b803-410b3abdad25",
   "metadata": {},
   "source": [
    "**Conclusion**"
   ]
  },
  {
   "cell_type": "markdown",
   "id": "ed77a2f4-ca33-47c1-ab8d-415ae7506ffe",
   "metadata": {},
   "source": [
    "This project successfully demonstrates the end-to-end lifecycle of a Legal QnA system integrating Langchain, vector databases, text-embedding-3-small, and OpenAI GPT-3.5-turbo under a Retrieval-Augmented Generation framework. While current results are limited by token constraints, the modular architecture and approach provide a solid foundation for scalable and accurate legal document question answering.\n",
    "\n"
   ]
  },
  {
   "cell_type": "code",
   "execution_count": null,
   "id": "de36209c-4b66-44f2-94ad-e484fb95bd5d",
   "metadata": {},
   "outputs": [],
   "source": []
  }
 ],
 "metadata": {
  "colab": {
   "collapsed_sections": [
    "LeAeTqpZ-DYw",
    "fMmX8OrcN05D",
    "gonMO9wNE5dt"
   ],
   "provenance": [],
   "toc_visible": true
  },
  "kernelspec": {
   "display_name": "Python 3 (ipykernel)",
   "language": "python",
   "name": "python3"
  },
  "language_info": {
   "codemirror_mode": {
    "name": "ipython",
    "version": 3
   },
   "file_extension": ".py",
   "mimetype": "text/x-python",
   "name": "python",
   "nbconvert_exporter": "python",
   "pygments_lexer": "ipython3",
   "version": "3.9.13"
  }
 },
 "nbformat": 4,
 "nbformat_minor": 5
}
